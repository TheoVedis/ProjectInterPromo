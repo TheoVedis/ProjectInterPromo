{
 "cells": [
  {
   "cell_type": "code",
   "execution_count": 1,
   "id": "bright-secretary",
   "metadata": {},
   "outputs": [],
   "source": [
    "import pandas as pd\n",
    "import numpy as np\n",
    "from sklearn import preprocessing\n",
    "import matplotlib.pyplot as plt\n",
    "import pyod"
   ]
  },
  {
   "cell_type": "code",
   "execution_count": 101,
   "id": "legal-image",
   "metadata": {},
   "outputs": [],
   "source": []
  },
  {
   "cell_type": "code",
   "execution_count": 2,
   "id": "weighted-logic",
   "metadata": {},
   "outputs": [],
   "source": [
    "from pyod.models.abod import ABOD\n",
    "from pyod.utils.data import generate_data\n",
    "from pyod.utils.data import evaluate_print\n",
    "from pyod.utils.example import visualize\n",
    "from pyod.models.lof import LOF\n",
    "from pyod.models.iforest import IForest\n",
    "from pyod.models.hbos import HBOS\n",
    "from pyod.models.mcd import MCD\n",
    "from pyod.models.knn import KNN  \n",
    "from pyod.models.pca import PCA"
   ]
  },
  {
   "cell_type": "code",
   "execution_count": 3,
   "id": "lesser-arlington",
   "metadata": {},
   "outputs": [],
   "source": [
    "from sklearn.metrics import precision_recall_curve, auc\n",
    "from sklearn.metrics import confusion_matrix\n",
    "\n"
   ]
  },
  {
   "cell_type": "code",
   "execution_count": 4,
   "id": "mechanical-uruguay",
   "metadata": {},
   "outputs": [],
   "source": [
    "path_jeu = 'C:/Users/THINKPad/Desktop/ProjetInter/PIP_2022NA/DATA1/DONNEES_CONCAT_TLSE-LD/'\n",
    "data=pd.read_csv(path_jeu+'donnee_v2_ech_train_transfo.csv',nrows = 100000)"
   ]
  },
  {
   "cell_type": "code",
   "execution_count": 117,
   "id": "front-joint",
   "metadata": {},
   "outputs": [
    {
     "data": {
      "text/plain": [
       "<pandas.io.parsers.TextFileReader at 0x27171359c70>"
      ]
     },
     "execution_count": 117,
     "metadata": {},
     "output_type": "execute_result"
    }
   ],
   "source": [
    "path_jeu = 'C:/Users/THINKPad/Desktop/ProjetInter/PIP_2022NA/DATA1/DONNEES_CONCAT_TLSE-LD/'\n",
    "data=pd.read_csv(path_jeu+'donnee_v2_ech_train_transfo.csv',chunksize = 100)\n",
    "data"
   ]
  },
  {
   "cell_type": "code",
   "execution_count": 5,
   "id": "human-cinema",
   "metadata": {},
   "outputs": [
    {
     "data": {
      "text/html": [
       "<div>\n",
       "<style scoped>\n",
       "    .dataframe tbody tr th:only-of-type {\n",
       "        vertical-align: middle;\n",
       "    }\n",
       "\n",
       "    .dataframe tbody tr th {\n",
       "        vertical-align: top;\n",
       "    }\n",
       "\n",
       "    .dataframe thead th {\n",
       "        text-align: right;\n",
       "    }\n",
       "</style>\n",
       "<table border=\"1\" class=\"dataframe\">\n",
       "  <thead>\n",
       "    <tr style=\"text-align: right;\">\n",
       "      <th></th>\n",
       "      <th>TOP_E_RELEVE</th>\n",
       "      <th>MESSAGERIE_WEB_ACTIVE</th>\n",
       "      <th>FIAB_TEL_DOMICILE</th>\n",
       "      <th>FIAB_TEL_TRAVAIL</th>\n",
       "      <th>FIAB_TEL_PORTABLE</th>\n",
       "      <th>FIAB_EMAIL</th>\n",
       "      <th>REFUS_SEA</th>\n",
       "      <th>NBJ_CNT_AGENCE_DEPOT_6M</th>\n",
       "      <th>NBJ_CNT_AGENCE_VENTE_6M</th>\n",
       "      <th>NBJ_CNT_RDV_AGENCE_6M</th>\n",
       "      <th>...</th>\n",
       "      <th>EPARGNE_LOGEMENT_ECART_M6_pos</th>\n",
       "      <th>EPARGNE_LOGEMENT_ECART_M6_neg</th>\n",
       "      <th>MONETAIRE_DISPONIBLE_pos</th>\n",
       "      <th>MONETAIRE_DISPONIBLE_neg</th>\n",
       "      <th>mt_reduc_ttc_M_pos</th>\n",
       "      <th>mt_reduc_ttc_M_neg</th>\n",
       "      <th>MONETAIRE_DISPONIBLE_M6_pos</th>\n",
       "      <th>MONETAIRE_DISPONIBLE_M6_neg</th>\n",
       "      <th>MONETAIRE_DISPONIBLE_ECART_M6_pos</th>\n",
       "      <th>MONETAIRE_DISPONIBLE_ECART_M6_neg</th>\n",
       "    </tr>\n",
       "  </thead>\n",
       "  <tbody>\n",
       "    <tr>\n",
       "      <th>0</th>\n",
       "      <td>0.0</td>\n",
       "      <td>0.0</td>\n",
       "      <td>0.0</td>\n",
       "      <td>0.0</td>\n",
       "      <td>1.0</td>\n",
       "      <td>0.0</td>\n",
       "      <td>0.0</td>\n",
       "      <td>0.0</td>\n",
       "      <td>0.0</td>\n",
       "      <td>0.0</td>\n",
       "      <td>...</td>\n",
       "      <td>0.0</td>\n",
       "      <td>0</td>\n",
       "      <td>0.000000</td>\n",
       "      <td>0</td>\n",
       "      <td>0</td>\n",
       "      <td>0</td>\n",
       "      <td>0.000000</td>\n",
       "      <td>0</td>\n",
       "      <td>0.000000</td>\n",
       "      <td>0</td>\n",
       "    </tr>\n",
       "    <tr>\n",
       "      <th>1</th>\n",
       "      <td>1.0</td>\n",
       "      <td>1.0</td>\n",
       "      <td>1.0</td>\n",
       "      <td>0.0</td>\n",
       "      <td>1.0</td>\n",
       "      <td>1.0</td>\n",
       "      <td>0.0</td>\n",
       "      <td>0.0</td>\n",
       "      <td>0.0</td>\n",
       "      <td>0.0</td>\n",
       "      <td>...</td>\n",
       "      <td>0.0</td>\n",
       "      <td>0</td>\n",
       "      <td>4.043051</td>\n",
       "      <td>0</td>\n",
       "      <td>0</td>\n",
       "      <td>0</td>\n",
       "      <td>4.043051</td>\n",
       "      <td>0</td>\n",
       "      <td>0.000000</td>\n",
       "      <td>0</td>\n",
       "    </tr>\n",
       "    <tr>\n",
       "      <th>2</th>\n",
       "      <td>1.0</td>\n",
       "      <td>1.0</td>\n",
       "      <td>0.0</td>\n",
       "      <td>0.0</td>\n",
       "      <td>1.0</td>\n",
       "      <td>1.0</td>\n",
       "      <td>0.0</td>\n",
       "      <td>0.0</td>\n",
       "      <td>0.0</td>\n",
       "      <td>0.0</td>\n",
       "      <td>...</td>\n",
       "      <td>0.0</td>\n",
       "      <td>0</td>\n",
       "      <td>7.170888</td>\n",
       "      <td>0</td>\n",
       "      <td>0</td>\n",
       "      <td>0</td>\n",
       "      <td>7.170888</td>\n",
       "      <td>0</td>\n",
       "      <td>0.000000</td>\n",
       "      <td>0</td>\n",
       "    </tr>\n",
       "    <tr>\n",
       "      <th>3</th>\n",
       "      <td>1.0</td>\n",
       "      <td>1.0</td>\n",
       "      <td>0.0</td>\n",
       "      <td>0.0</td>\n",
       "      <td>1.0</td>\n",
       "      <td>0.0</td>\n",
       "      <td>0.0</td>\n",
       "      <td>0.0</td>\n",
       "      <td>0.0</td>\n",
       "      <td>1.0</td>\n",
       "      <td>...</td>\n",
       "      <td>0.0</td>\n",
       "      <td>0</td>\n",
       "      <td>7.496097</td>\n",
       "      <td>0</td>\n",
       "      <td>0</td>\n",
       "      <td>0</td>\n",
       "      <td>6.154858</td>\n",
       "      <td>0</td>\n",
       "      <td>7.170888</td>\n",
       "      <td>0</td>\n",
       "    </tr>\n",
       "    <tr>\n",
       "      <th>4</th>\n",
       "      <td>1.0</td>\n",
       "      <td>1.0</td>\n",
       "      <td>0.0</td>\n",
       "      <td>0.0</td>\n",
       "      <td>1.0</td>\n",
       "      <td>1.0</td>\n",
       "      <td>0.0</td>\n",
       "      <td>1.0</td>\n",
       "      <td>0.0</td>\n",
       "      <td>0.0</td>\n",
       "      <td>...</td>\n",
       "      <td>0.0</td>\n",
       "      <td>0</td>\n",
       "      <td>9.642188</td>\n",
       "      <td>0</td>\n",
       "      <td>0</td>\n",
       "      <td>0</td>\n",
       "      <td>9.433564</td>\n",
       "      <td>0</td>\n",
       "      <td>7.937732</td>\n",
       "      <td>0</td>\n",
       "    </tr>\n",
       "    <tr>\n",
       "      <th>...</th>\n",
       "      <td>...</td>\n",
       "      <td>...</td>\n",
       "      <td>...</td>\n",
       "      <td>...</td>\n",
       "      <td>...</td>\n",
       "      <td>...</td>\n",
       "      <td>...</td>\n",
       "      <td>...</td>\n",
       "      <td>...</td>\n",
       "      <td>...</td>\n",
       "      <td>...</td>\n",
       "      <td>...</td>\n",
       "      <td>...</td>\n",
       "      <td>...</td>\n",
       "      <td>...</td>\n",
       "      <td>...</td>\n",
       "      <td>...</td>\n",
       "      <td>...</td>\n",
       "      <td>...</td>\n",
       "      <td>...</td>\n",
       "      <td>...</td>\n",
       "    </tr>\n",
       "    <tr>\n",
       "      <th>99995</th>\n",
       "      <td>0.0</td>\n",
       "      <td>1.0</td>\n",
       "      <td>0.0</td>\n",
       "      <td>0.0</td>\n",
       "      <td>1.0</td>\n",
       "      <td>0.0</td>\n",
       "      <td>0.0</td>\n",
       "      <td>0.0</td>\n",
       "      <td>0.0</td>\n",
       "      <td>0.0</td>\n",
       "      <td>...</td>\n",
       "      <td>0.0</td>\n",
       "      <td>0</td>\n",
       "      <td>7.244942</td>\n",
       "      <td>0</td>\n",
       "      <td>0</td>\n",
       "      <td>0</td>\n",
       "      <td>6.447306</td>\n",
       "      <td>0</td>\n",
       "      <td>6.594413</td>\n",
       "      <td>0</td>\n",
       "    </tr>\n",
       "    <tr>\n",
       "      <th>99996</th>\n",
       "      <td>1.0</td>\n",
       "      <td>1.0</td>\n",
       "      <td>0.0</td>\n",
       "      <td>0.0</td>\n",
       "      <td>1.0</td>\n",
       "      <td>1.0</td>\n",
       "      <td>0.0</td>\n",
       "      <td>0.0</td>\n",
       "      <td>0.0</td>\n",
       "      <td>0.0</td>\n",
       "      <td>...</td>\n",
       "      <td>0.0</td>\n",
       "      <td>0</td>\n",
       "      <td>8.343078</td>\n",
       "      <td>0</td>\n",
       "      <td>0</td>\n",
       "      <td>0</td>\n",
       "      <td>8.630700</td>\n",
       "      <td>0</td>\n",
       "      <td>0.000000</td>\n",
       "      <td>1</td>\n",
       "    </tr>\n",
       "    <tr>\n",
       "      <th>99997</th>\n",
       "      <td>1.0</td>\n",
       "      <td>1.0</td>\n",
       "      <td>1.0</td>\n",
       "      <td>0.0</td>\n",
       "      <td>1.0</td>\n",
       "      <td>1.0</td>\n",
       "      <td>0.0</td>\n",
       "      <td>0.0</td>\n",
       "      <td>0.0</td>\n",
       "      <td>0.0</td>\n",
       "      <td>...</td>\n",
       "      <td>0.0</td>\n",
       "      <td>0</td>\n",
       "      <td>0.000000</td>\n",
       "      <td>0</td>\n",
       "      <td>0</td>\n",
       "      <td>0</td>\n",
       "      <td>0.000000</td>\n",
       "      <td>0</td>\n",
       "      <td>0.000000</td>\n",
       "      <td>0</td>\n",
       "    </tr>\n",
       "    <tr>\n",
       "      <th>99998</th>\n",
       "      <td>1.0</td>\n",
       "      <td>1.0</td>\n",
       "      <td>0.0</td>\n",
       "      <td>0.0</td>\n",
       "      <td>1.0</td>\n",
       "      <td>1.0</td>\n",
       "      <td>0.0</td>\n",
       "      <td>0.0</td>\n",
       "      <td>0.0</td>\n",
       "      <td>0.0</td>\n",
       "      <td>...</td>\n",
       "      <td>0.0</td>\n",
       "      <td>0</td>\n",
       "      <td>0.000000</td>\n",
       "      <td>0</td>\n",
       "      <td>0</td>\n",
       "      <td>0</td>\n",
       "      <td>0.000000</td>\n",
       "      <td>0</td>\n",
       "      <td>0.000000</td>\n",
       "      <td>0</td>\n",
       "    </tr>\n",
       "    <tr>\n",
       "      <th>99999</th>\n",
       "      <td>0.0</td>\n",
       "      <td>1.0</td>\n",
       "      <td>1.0</td>\n",
       "      <td>0.0</td>\n",
       "      <td>0.0</td>\n",
       "      <td>0.0</td>\n",
       "      <td>0.0</td>\n",
       "      <td>0.0</td>\n",
       "      <td>0.0</td>\n",
       "      <td>0.0</td>\n",
       "      <td>...</td>\n",
       "      <td>0.0</td>\n",
       "      <td>0</td>\n",
       "      <td>6.908755</td>\n",
       "      <td>0</td>\n",
       "      <td>0</td>\n",
       "      <td>0</td>\n",
       "      <td>0.000000</td>\n",
       "      <td>0</td>\n",
       "      <td>6.908755</td>\n",
       "      <td>0</td>\n",
       "    </tr>\n",
       "  </tbody>\n",
       "</table>\n",
       "<p>100000 rows × 430 columns</p>\n",
       "</div>"
      ],
      "text/plain": [
       "       TOP_E_RELEVE  MESSAGERIE_WEB_ACTIVE  FIAB_TEL_DOMICILE  \\\n",
       "0               0.0                    0.0                0.0   \n",
       "1               1.0                    1.0                1.0   \n",
       "2               1.0                    1.0                0.0   \n",
       "3               1.0                    1.0                0.0   \n",
       "4               1.0                    1.0                0.0   \n",
       "...             ...                    ...                ...   \n",
       "99995           0.0                    1.0                0.0   \n",
       "99996           1.0                    1.0                0.0   \n",
       "99997           1.0                    1.0                1.0   \n",
       "99998           1.0                    1.0                0.0   \n",
       "99999           0.0                    1.0                1.0   \n",
       "\n",
       "       FIAB_TEL_TRAVAIL  FIAB_TEL_PORTABLE  FIAB_EMAIL  REFUS_SEA  \\\n",
       "0                   0.0                1.0         0.0        0.0   \n",
       "1                   0.0                1.0         1.0        0.0   \n",
       "2                   0.0                1.0         1.0        0.0   \n",
       "3                   0.0                1.0         0.0        0.0   \n",
       "4                   0.0                1.0         1.0        0.0   \n",
       "...                 ...                ...         ...        ...   \n",
       "99995               0.0                1.0         0.0        0.0   \n",
       "99996               0.0                1.0         1.0        0.0   \n",
       "99997               0.0                1.0         1.0        0.0   \n",
       "99998               0.0                1.0         1.0        0.0   \n",
       "99999               0.0                0.0         0.0        0.0   \n",
       "\n",
       "       NBJ_CNT_AGENCE_DEPOT_6M  NBJ_CNT_AGENCE_VENTE_6M  \\\n",
       "0                          0.0                      0.0   \n",
       "1                          0.0                      0.0   \n",
       "2                          0.0                      0.0   \n",
       "3                          0.0                      0.0   \n",
       "4                          1.0                      0.0   \n",
       "...                        ...                      ...   \n",
       "99995                      0.0                      0.0   \n",
       "99996                      0.0                      0.0   \n",
       "99997                      0.0                      0.0   \n",
       "99998                      0.0                      0.0   \n",
       "99999                      0.0                      0.0   \n",
       "\n",
       "       NBJ_CNT_RDV_AGENCE_6M  ...  EPARGNE_LOGEMENT_ECART_M6_pos  \\\n",
       "0                        0.0  ...                            0.0   \n",
       "1                        0.0  ...                            0.0   \n",
       "2                        0.0  ...                            0.0   \n",
       "3                        1.0  ...                            0.0   \n",
       "4                        0.0  ...                            0.0   \n",
       "...                      ...  ...                            ...   \n",
       "99995                    0.0  ...                            0.0   \n",
       "99996                    0.0  ...                            0.0   \n",
       "99997                    0.0  ...                            0.0   \n",
       "99998                    0.0  ...                            0.0   \n",
       "99999                    0.0  ...                            0.0   \n",
       "\n",
       "       EPARGNE_LOGEMENT_ECART_M6_neg  MONETAIRE_DISPONIBLE_pos  \\\n",
       "0                                  0                  0.000000   \n",
       "1                                  0                  4.043051   \n",
       "2                                  0                  7.170888   \n",
       "3                                  0                  7.496097   \n",
       "4                                  0                  9.642188   \n",
       "...                              ...                       ...   \n",
       "99995                              0                  7.244942   \n",
       "99996                              0                  8.343078   \n",
       "99997                              0                  0.000000   \n",
       "99998                              0                  0.000000   \n",
       "99999                              0                  6.908755   \n",
       "\n",
       "       MONETAIRE_DISPONIBLE_neg  mt_reduc_ttc_M_pos  mt_reduc_ttc_M_neg  \\\n",
       "0                             0                   0                   0   \n",
       "1                             0                   0                   0   \n",
       "2                             0                   0                   0   \n",
       "3                             0                   0                   0   \n",
       "4                             0                   0                   0   \n",
       "...                         ...                 ...                 ...   \n",
       "99995                         0                   0                   0   \n",
       "99996                         0                   0                   0   \n",
       "99997                         0                   0                   0   \n",
       "99998                         0                   0                   0   \n",
       "99999                         0                   0                   0   \n",
       "\n",
       "       MONETAIRE_DISPONIBLE_M6_pos  MONETAIRE_DISPONIBLE_M6_neg  \\\n",
       "0                         0.000000                            0   \n",
       "1                         4.043051                            0   \n",
       "2                         7.170888                            0   \n",
       "3                         6.154858                            0   \n",
       "4                         9.433564                            0   \n",
       "...                            ...                          ...   \n",
       "99995                     6.447306                            0   \n",
       "99996                     8.630700                            0   \n",
       "99997                     0.000000                            0   \n",
       "99998                     0.000000                            0   \n",
       "99999                     0.000000                            0   \n",
       "\n",
       "       MONETAIRE_DISPONIBLE_ECART_M6_pos  MONETAIRE_DISPONIBLE_ECART_M6_neg  \n",
       "0                               0.000000                                  0  \n",
       "1                               0.000000                                  0  \n",
       "2                               0.000000                                  0  \n",
       "3                               7.170888                                  0  \n",
       "4                               7.937732                                  0  \n",
       "...                                  ...                                ...  \n",
       "99995                           6.594413                                  0  \n",
       "99996                           0.000000                                  1  \n",
       "99997                           0.000000                                  0  \n",
       "99998                           0.000000                                  0  \n",
       "99999                           6.908755                                  0  \n",
       "\n",
       "[100000 rows x 430 columns]"
      ]
     },
     "execution_count": 5,
     "metadata": {},
     "output_type": "execute_result"
    }
   ],
   "source": [
    "#df = pd.DataFrame(preprocessing.normalize(df),columns=df.columns)\n",
    "#df = data.drop(columns= [\"Unnamed: 0\"])\n",
    "df = data.drop(columns= [\"Unnamed: 0\",\"ID\",'TOP_FRAUDE','TOP_FRAUDE_VIREMENT',\"TOP_FRAUDE_CARTE\"])\n",
    "df"
   ]
  },
  {
   "cell_type": "code",
   "execution_count": 6,
   "id": "healthy-gambling",
   "metadata": {},
   "outputs": [
    {
     "data": {
      "text/html": [
       "<div>\n",
       "<style scoped>\n",
       "    .dataframe tbody tr th:only-of-type {\n",
       "        vertical-align: middle;\n",
       "    }\n",
       "\n",
       "    .dataframe tbody tr th {\n",
       "        vertical-align: top;\n",
       "    }\n",
       "\n",
       "    .dataframe thead th {\n",
       "        text-align: right;\n",
       "    }\n",
       "</style>\n",
       "<table border=\"1\" class=\"dataframe\">\n",
       "  <thead>\n",
       "    <tr style=\"text-align: right;\">\n",
       "      <th></th>\n",
       "      <th>TOP_E_RELEVE</th>\n",
       "      <th>MESSAGERIE_WEB_ACTIVE</th>\n",
       "      <th>FIAB_TEL_DOMICILE</th>\n",
       "      <th>FIAB_TEL_TRAVAIL</th>\n",
       "      <th>FIAB_TEL_PORTABLE</th>\n",
       "      <th>FIAB_EMAIL</th>\n",
       "      <th>REFUS_SEA</th>\n",
       "      <th>NBJ_CNT_AGENCE_DEPOT_6M</th>\n",
       "      <th>NBJ_CNT_AGENCE_VENTE_6M</th>\n",
       "      <th>NBJ_CNT_RDV_AGENCE_6M</th>\n",
       "      <th>...</th>\n",
       "      <th>EPARGNE_LOGEMENT_ECART_M6_pos</th>\n",
       "      <th>EPARGNE_LOGEMENT_ECART_M6_neg</th>\n",
       "      <th>MONETAIRE_DISPONIBLE_pos</th>\n",
       "      <th>MONETAIRE_DISPONIBLE_neg</th>\n",
       "      <th>mt_reduc_ttc_M_pos</th>\n",
       "      <th>mt_reduc_ttc_M_neg</th>\n",
       "      <th>MONETAIRE_DISPONIBLE_M6_pos</th>\n",
       "      <th>MONETAIRE_DISPONIBLE_M6_neg</th>\n",
       "      <th>MONETAIRE_DISPONIBLE_ECART_M6_pos</th>\n",
       "      <th>MONETAIRE_DISPONIBLE_ECART_M6_neg</th>\n",
       "    </tr>\n",
       "  </thead>\n",
       "  <tbody>\n",
       "    <tr>\n",
       "      <th>0</th>\n",
       "      <td>0.000000</td>\n",
       "      <td>0.000000</td>\n",
       "      <td>0.000000</td>\n",
       "      <td>0.0</td>\n",
       "      <td>0.103256</td>\n",
       "      <td>0.000000</td>\n",
       "      <td>0.0</td>\n",
       "      <td>0.000000</td>\n",
       "      <td>0.0</td>\n",
       "      <td>0.000000</td>\n",
       "      <td>...</td>\n",
       "      <td>0.0</td>\n",
       "      <td>0.0</td>\n",
       "      <td>0.000000</td>\n",
       "      <td>0.0</td>\n",
       "      <td>0.0</td>\n",
       "      <td>0.0</td>\n",
       "      <td>0.000000</td>\n",
       "      <td>0.0</td>\n",
       "      <td>0.000000</td>\n",
       "      <td>0.000000</td>\n",
       "    </tr>\n",
       "    <tr>\n",
       "      <th>1</th>\n",
       "      <td>0.000612</td>\n",
       "      <td>0.000612</td>\n",
       "      <td>0.000612</td>\n",
       "      <td>0.0</td>\n",
       "      <td>0.000612</td>\n",
       "      <td>0.000612</td>\n",
       "      <td>0.0</td>\n",
       "      <td>0.000000</td>\n",
       "      <td>0.0</td>\n",
       "      <td>0.000000</td>\n",
       "      <td>...</td>\n",
       "      <td>0.0</td>\n",
       "      <td>0.0</td>\n",
       "      <td>0.002476</td>\n",
       "      <td>0.0</td>\n",
       "      <td>0.0</td>\n",
       "      <td>0.0</td>\n",
       "      <td>0.002476</td>\n",
       "      <td>0.0</td>\n",
       "      <td>0.000000</td>\n",
       "      <td>0.000000</td>\n",
       "    </tr>\n",
       "    <tr>\n",
       "      <th>2</th>\n",
       "      <td>0.000236</td>\n",
       "      <td>0.000236</td>\n",
       "      <td>0.000000</td>\n",
       "      <td>0.0</td>\n",
       "      <td>0.000236</td>\n",
       "      <td>0.000236</td>\n",
       "      <td>0.0</td>\n",
       "      <td>0.000000</td>\n",
       "      <td>0.0</td>\n",
       "      <td>0.000000</td>\n",
       "      <td>...</td>\n",
       "      <td>0.0</td>\n",
       "      <td>0.0</td>\n",
       "      <td>0.001692</td>\n",
       "      <td>0.0</td>\n",
       "      <td>0.0</td>\n",
       "      <td>0.0</td>\n",
       "      <td>0.001692</td>\n",
       "      <td>0.0</td>\n",
       "      <td>0.000000</td>\n",
       "      <td>0.000000</td>\n",
       "    </tr>\n",
       "    <tr>\n",
       "      <th>3</th>\n",
       "      <td>0.000126</td>\n",
       "      <td>0.000126</td>\n",
       "      <td>0.000000</td>\n",
       "      <td>0.0</td>\n",
       "      <td>0.000126</td>\n",
       "      <td>0.000000</td>\n",
       "      <td>0.0</td>\n",
       "      <td>0.000000</td>\n",
       "      <td>0.0</td>\n",
       "      <td>0.000126</td>\n",
       "      <td>...</td>\n",
       "      <td>0.0</td>\n",
       "      <td>0.0</td>\n",
       "      <td>0.000946</td>\n",
       "      <td>0.0</td>\n",
       "      <td>0.0</td>\n",
       "      <td>0.0</td>\n",
       "      <td>0.000777</td>\n",
       "      <td>0.0</td>\n",
       "      <td>0.000905</td>\n",
       "      <td>0.000000</td>\n",
       "    </tr>\n",
       "    <tr>\n",
       "      <th>4</th>\n",
       "      <td>0.000024</td>\n",
       "      <td>0.000024</td>\n",
       "      <td>0.000000</td>\n",
       "      <td>0.0</td>\n",
       "      <td>0.000024</td>\n",
       "      <td>0.000024</td>\n",
       "      <td>0.0</td>\n",
       "      <td>0.000024</td>\n",
       "      <td>0.0</td>\n",
       "      <td>0.000000</td>\n",
       "      <td>...</td>\n",
       "      <td>0.0</td>\n",
       "      <td>0.0</td>\n",
       "      <td>0.000229</td>\n",
       "      <td>0.0</td>\n",
       "      <td>0.0</td>\n",
       "      <td>0.0</td>\n",
       "      <td>0.000224</td>\n",
       "      <td>0.0</td>\n",
       "      <td>0.000189</td>\n",
       "      <td>0.000000</td>\n",
       "    </tr>\n",
       "    <tr>\n",
       "      <th>...</th>\n",
       "      <td>...</td>\n",
       "      <td>...</td>\n",
       "      <td>...</td>\n",
       "      <td>...</td>\n",
       "      <td>...</td>\n",
       "      <td>...</td>\n",
       "      <td>...</td>\n",
       "      <td>...</td>\n",
       "      <td>...</td>\n",
       "      <td>...</td>\n",
       "      <td>...</td>\n",
       "      <td>...</td>\n",
       "      <td>...</td>\n",
       "      <td>...</td>\n",
       "      <td>...</td>\n",
       "      <td>...</td>\n",
       "      <td>...</td>\n",
       "      <td>...</td>\n",
       "      <td>...</td>\n",
       "      <td>...</td>\n",
       "      <td>...</td>\n",
       "    </tr>\n",
       "    <tr>\n",
       "      <th>99995</th>\n",
       "      <td>0.000000</td>\n",
       "      <td>0.000293</td>\n",
       "      <td>0.000000</td>\n",
       "      <td>0.0</td>\n",
       "      <td>0.000293</td>\n",
       "      <td>0.000000</td>\n",
       "      <td>0.0</td>\n",
       "      <td>0.000000</td>\n",
       "      <td>0.0</td>\n",
       "      <td>0.000000</td>\n",
       "      <td>...</td>\n",
       "      <td>0.0</td>\n",
       "      <td>0.0</td>\n",
       "      <td>0.002126</td>\n",
       "      <td>0.0</td>\n",
       "      <td>0.0</td>\n",
       "      <td>0.0</td>\n",
       "      <td>0.001892</td>\n",
       "      <td>0.0</td>\n",
       "      <td>0.001935</td>\n",
       "      <td>0.000000</td>\n",
       "    </tr>\n",
       "    <tr>\n",
       "      <th>99996</th>\n",
       "      <td>0.000085</td>\n",
       "      <td>0.000085</td>\n",
       "      <td>0.000000</td>\n",
       "      <td>0.0</td>\n",
       "      <td>0.000085</td>\n",
       "      <td>0.000085</td>\n",
       "      <td>0.0</td>\n",
       "      <td>0.000000</td>\n",
       "      <td>0.0</td>\n",
       "      <td>0.000000</td>\n",
       "      <td>...</td>\n",
       "      <td>0.0</td>\n",
       "      <td>0.0</td>\n",
       "      <td>0.000705</td>\n",
       "      <td>0.0</td>\n",
       "      <td>0.0</td>\n",
       "      <td>0.0</td>\n",
       "      <td>0.000730</td>\n",
       "      <td>0.0</td>\n",
       "      <td>0.000000</td>\n",
       "      <td>0.000085</td>\n",
       "    </tr>\n",
       "    <tr>\n",
       "      <th>99997</th>\n",
       "      <td>0.006269</td>\n",
       "      <td>0.006269</td>\n",
       "      <td>0.006269</td>\n",
       "      <td>0.0</td>\n",
       "      <td>0.006269</td>\n",
       "      <td>0.006269</td>\n",
       "      <td>0.0</td>\n",
       "      <td>0.000000</td>\n",
       "      <td>0.0</td>\n",
       "      <td>0.000000</td>\n",
       "      <td>...</td>\n",
       "      <td>0.0</td>\n",
       "      <td>0.0</td>\n",
       "      <td>0.000000</td>\n",
       "      <td>0.0</td>\n",
       "      <td>0.0</td>\n",
       "      <td>0.0</td>\n",
       "      <td>0.000000</td>\n",
       "      <td>0.0</td>\n",
       "      <td>0.000000</td>\n",
       "      <td>0.000000</td>\n",
       "    </tr>\n",
       "    <tr>\n",
       "      <th>99998</th>\n",
       "      <td>0.000695</td>\n",
       "      <td>0.000695</td>\n",
       "      <td>0.000000</td>\n",
       "      <td>0.0</td>\n",
       "      <td>0.000695</td>\n",
       "      <td>0.000695</td>\n",
       "      <td>0.0</td>\n",
       "      <td>0.000000</td>\n",
       "      <td>0.0</td>\n",
       "      <td>0.000000</td>\n",
       "      <td>...</td>\n",
       "      <td>0.0</td>\n",
       "      <td>0.0</td>\n",
       "      <td>0.000000</td>\n",
       "      <td>0.0</td>\n",
       "      <td>0.0</td>\n",
       "      <td>0.0</td>\n",
       "      <td>0.000000</td>\n",
       "      <td>0.0</td>\n",
       "      <td>0.000000</td>\n",
       "      <td>0.000000</td>\n",
       "    </tr>\n",
       "    <tr>\n",
       "      <th>99999</th>\n",
       "      <td>0.000000</td>\n",
       "      <td>0.000500</td>\n",
       "      <td>0.000500</td>\n",
       "      <td>0.0</td>\n",
       "      <td>0.000000</td>\n",
       "      <td>0.000000</td>\n",
       "      <td>0.0</td>\n",
       "      <td>0.000000</td>\n",
       "      <td>0.0</td>\n",
       "      <td>0.000000</td>\n",
       "      <td>...</td>\n",
       "      <td>0.0</td>\n",
       "      <td>0.0</td>\n",
       "      <td>0.003454</td>\n",
       "      <td>0.0</td>\n",
       "      <td>0.0</td>\n",
       "      <td>0.0</td>\n",
       "      <td>0.000000</td>\n",
       "      <td>0.0</td>\n",
       "      <td>0.003454</td>\n",
       "      <td>0.000000</td>\n",
       "    </tr>\n",
       "  </tbody>\n",
       "</table>\n",
       "<p>100000 rows × 430 columns</p>\n",
       "</div>"
      ],
      "text/plain": [
       "       TOP_E_RELEVE  MESSAGERIE_WEB_ACTIVE  FIAB_TEL_DOMICILE  \\\n",
       "0          0.000000               0.000000           0.000000   \n",
       "1          0.000612               0.000612           0.000612   \n",
       "2          0.000236               0.000236           0.000000   \n",
       "3          0.000126               0.000126           0.000000   \n",
       "4          0.000024               0.000024           0.000000   \n",
       "...             ...                    ...                ...   \n",
       "99995      0.000000               0.000293           0.000000   \n",
       "99996      0.000085               0.000085           0.000000   \n",
       "99997      0.006269               0.006269           0.006269   \n",
       "99998      0.000695               0.000695           0.000000   \n",
       "99999      0.000000               0.000500           0.000500   \n",
       "\n",
       "       FIAB_TEL_TRAVAIL  FIAB_TEL_PORTABLE  FIAB_EMAIL  REFUS_SEA  \\\n",
       "0                   0.0           0.103256    0.000000        0.0   \n",
       "1                   0.0           0.000612    0.000612        0.0   \n",
       "2                   0.0           0.000236    0.000236        0.0   \n",
       "3                   0.0           0.000126    0.000000        0.0   \n",
       "4                   0.0           0.000024    0.000024        0.0   \n",
       "...                 ...                ...         ...        ...   \n",
       "99995               0.0           0.000293    0.000000        0.0   \n",
       "99996               0.0           0.000085    0.000085        0.0   \n",
       "99997               0.0           0.006269    0.006269        0.0   \n",
       "99998               0.0           0.000695    0.000695        0.0   \n",
       "99999               0.0           0.000000    0.000000        0.0   \n",
       "\n",
       "       NBJ_CNT_AGENCE_DEPOT_6M  NBJ_CNT_AGENCE_VENTE_6M  \\\n",
       "0                     0.000000                      0.0   \n",
       "1                     0.000000                      0.0   \n",
       "2                     0.000000                      0.0   \n",
       "3                     0.000000                      0.0   \n",
       "4                     0.000024                      0.0   \n",
       "...                        ...                      ...   \n",
       "99995                 0.000000                      0.0   \n",
       "99996                 0.000000                      0.0   \n",
       "99997                 0.000000                      0.0   \n",
       "99998                 0.000000                      0.0   \n",
       "99999                 0.000000                      0.0   \n",
       "\n",
       "       NBJ_CNT_RDV_AGENCE_6M  ...  EPARGNE_LOGEMENT_ECART_M6_pos  \\\n",
       "0                   0.000000  ...                            0.0   \n",
       "1                   0.000000  ...                            0.0   \n",
       "2                   0.000000  ...                            0.0   \n",
       "3                   0.000126  ...                            0.0   \n",
       "4                   0.000000  ...                            0.0   \n",
       "...                      ...  ...                            ...   \n",
       "99995               0.000000  ...                            0.0   \n",
       "99996               0.000000  ...                            0.0   \n",
       "99997               0.000000  ...                            0.0   \n",
       "99998               0.000000  ...                            0.0   \n",
       "99999               0.000000  ...                            0.0   \n",
       "\n",
       "       EPARGNE_LOGEMENT_ECART_M6_neg  MONETAIRE_DISPONIBLE_pos  \\\n",
       "0                                0.0                  0.000000   \n",
       "1                                0.0                  0.002476   \n",
       "2                                0.0                  0.001692   \n",
       "3                                0.0                  0.000946   \n",
       "4                                0.0                  0.000229   \n",
       "...                              ...                       ...   \n",
       "99995                            0.0                  0.002126   \n",
       "99996                            0.0                  0.000705   \n",
       "99997                            0.0                  0.000000   \n",
       "99998                            0.0                  0.000000   \n",
       "99999                            0.0                  0.003454   \n",
       "\n",
       "       MONETAIRE_DISPONIBLE_neg  mt_reduc_ttc_M_pos  mt_reduc_ttc_M_neg  \\\n",
       "0                           0.0                 0.0                 0.0   \n",
       "1                           0.0                 0.0                 0.0   \n",
       "2                           0.0                 0.0                 0.0   \n",
       "3                           0.0                 0.0                 0.0   \n",
       "4                           0.0                 0.0                 0.0   \n",
       "...                         ...                 ...                 ...   \n",
       "99995                       0.0                 0.0                 0.0   \n",
       "99996                       0.0                 0.0                 0.0   \n",
       "99997                       0.0                 0.0                 0.0   \n",
       "99998                       0.0                 0.0                 0.0   \n",
       "99999                       0.0                 0.0                 0.0   \n",
       "\n",
       "       MONETAIRE_DISPONIBLE_M6_pos  MONETAIRE_DISPONIBLE_M6_neg  \\\n",
       "0                         0.000000                          0.0   \n",
       "1                         0.002476                          0.0   \n",
       "2                         0.001692                          0.0   \n",
       "3                         0.000777                          0.0   \n",
       "4                         0.000224                          0.0   \n",
       "...                            ...                          ...   \n",
       "99995                     0.001892                          0.0   \n",
       "99996                     0.000730                          0.0   \n",
       "99997                     0.000000                          0.0   \n",
       "99998                     0.000000                          0.0   \n",
       "99999                     0.000000                          0.0   \n",
       "\n",
       "       MONETAIRE_DISPONIBLE_ECART_M6_pos  MONETAIRE_DISPONIBLE_ECART_M6_neg  \n",
       "0                               0.000000                           0.000000  \n",
       "1                               0.000000                           0.000000  \n",
       "2                               0.000000                           0.000000  \n",
       "3                               0.000905                           0.000000  \n",
       "4                               0.000189                           0.000000  \n",
       "...                                  ...                                ...  \n",
       "99995                           0.001935                           0.000000  \n",
       "99996                           0.000000                           0.000085  \n",
       "99997                           0.000000                           0.000000  \n",
       "99998                           0.000000                           0.000000  \n",
       "99999                           0.003454                           0.000000  \n",
       "\n",
       "[100000 rows x 430 columns]"
      ]
     },
     "execution_count": 6,
     "metadata": {},
     "output_type": "execute_result"
    }
   ],
   "source": [
    "df = pd.DataFrame(preprocessing.normalize(df),columns=df.columns)\n",
    "df"
   ]
  },
  {
   "cell_type": "code",
   "execution_count": 7,
   "id": "thorough-purse",
   "metadata": {},
   "outputs": [
    {
     "data": {
      "text/html": [
       "<div>\n",
       "<style scoped>\n",
       "    .dataframe tbody tr th:only-of-type {\n",
       "        vertical-align: middle;\n",
       "    }\n",
       "\n",
       "    .dataframe tbody tr th {\n",
       "        vertical-align: top;\n",
       "    }\n",
       "\n",
       "    .dataframe thead th {\n",
       "        text-align: right;\n",
       "    }\n",
       "</style>\n",
       "<table border=\"1\" class=\"dataframe\">\n",
       "  <thead>\n",
       "    <tr style=\"text-align: right;\">\n",
       "      <th></th>\n",
       "      <th>EQUIP</th>\n",
       "      <th>DIG</th>\n",
       "      <th>HB</th>\n",
       "      <th>SIGNA</th>\n",
       "      <th>ECO</th>\n",
       "      <th>AUTRE</th>\n",
       "      <th>Y</th>\n",
       "    </tr>\n",
       "  </thead>\n",
       "  <tbody>\n",
       "    <tr>\n",
       "      <th>0</th>\n",
       "      <td>top_affecte</td>\n",
       "      <td>INDICMAIL</td>\n",
       "      <td>NBJ_CNT_AGENCE_DEPOT_6M</td>\n",
       "      <td>cp_ou_pays</td>\n",
       "      <td>SURFACE_FINANCIERE</td>\n",
       "      <td>top_situ_particuliere</td>\n",
       "      <td>TOP_FRAUDE</td>\n",
       "    </tr>\n",
       "    <tr>\n",
       "      <th>1</th>\n",
       "      <td>note_Funivers</td>\n",
       "      <td>INDICTEL</td>\n",
       "      <td>NBJ_CNT_AGENCE_VENTE_6M</td>\n",
       "      <td>SECTEUR_GESTION</td>\n",
       "      <td>ENCOURS_DAV</td>\n",
       "      <td>NaN</td>\n",
       "      <td>TOP_FRAUDE_VIREMENT</td>\n",
       "    </tr>\n",
       "    <tr>\n",
       "      <th>2</th>\n",
       "      <td>note_Fassu</td>\n",
       "      <td>INDICPOR</td>\n",
       "      <td>NBJ_CNT_RDV_AGENCE_6M</td>\n",
       "      <td>anciennete</td>\n",
       "      <td>MONETAIRE_DISPONIBLE</td>\n",
       "      <td>NaN</td>\n",
       "      <td>TOP_FRAUDE_CARTE</td>\n",
       "    </tr>\n",
       "    <tr>\n",
       "      <th>3</th>\n",
       "      <td>note_Fcredit</td>\n",
       "      <td>INDICSMS</td>\n",
       "      <td>NBJ_CNT_AUTOMATE_RETRAIT_6M</td>\n",
       "      <td>seg_nature_potentiel</td>\n",
       "      <td>MONETAIRE_BLOQUE</td>\n",
       "      <td>NaN</td>\n",
       "      <td>NaN</td>\n",
       "    </tr>\n",
       "    <tr>\n",
       "      <th>4</th>\n",
       "      <td>note_Fepargne</td>\n",
       "      <td>INDICMAILING</td>\n",
       "      <td>NBJ_CNT_AUTOMATES_DEPOT_6M</td>\n",
       "      <td>NB_PARTENAIRES</td>\n",
       "      <td>EMPRUNTS</td>\n",
       "      <td>NaN</td>\n",
       "      <td>NaN</td>\n",
       "    </tr>\n",
       "    <tr>\n",
       "      <th>...</th>\n",
       "      <td>...</td>\n",
       "      <td>...</td>\n",
       "      <td>...</td>\n",
       "      <td>...</td>\n",
       "      <td>...</td>\n",
       "      <td>...</td>\n",
       "      <td>...</td>\n",
       "    </tr>\n",
       "    <tr>\n",
       "      <th>135</th>\n",
       "      <td>NaN</td>\n",
       "      <td>NaN</td>\n",
       "      <td>mt_reduc_ttc_M6</td>\n",
       "      <td>NaN</td>\n",
       "      <td>NaN</td>\n",
       "      <td>NaN</td>\n",
       "      <td>NaN</td>\n",
       "    </tr>\n",
       "    <tr>\n",
       "      <th>136</th>\n",
       "      <td>NaN</td>\n",
       "      <td>NaN</td>\n",
       "      <td>mt_rist_ttc_M</td>\n",
       "      <td>NaN</td>\n",
       "      <td>NaN</td>\n",
       "      <td>NaN</td>\n",
       "      <td>NaN</td>\n",
       "    </tr>\n",
       "    <tr>\n",
       "      <th>137</th>\n",
       "      <td>NaN</td>\n",
       "      <td>NaN</td>\n",
       "      <td>mt_rist_ttc_M6</td>\n",
       "      <td>NaN</td>\n",
       "      <td>NaN</td>\n",
       "      <td>NaN</td>\n",
       "      <td>NaN</td>\n",
       "    </tr>\n",
       "    <tr>\n",
       "      <th>138</th>\n",
       "      <td>NaN</td>\n",
       "      <td>NaN</td>\n",
       "      <td>Fidelite_calcule</td>\n",
       "      <td>NaN</td>\n",
       "      <td>NaN</td>\n",
       "      <td>NaN</td>\n",
       "      <td>NaN</td>\n",
       "    </tr>\n",
       "    <tr>\n",
       "      <th>139</th>\n",
       "      <td>NaN</td>\n",
       "      <td>NaN</td>\n",
       "      <td>Flag_bq_principale</td>\n",
       "      <td>NaN</td>\n",
       "      <td>NaN</td>\n",
       "      <td>NaN</td>\n",
       "      <td>NaN</td>\n",
       "    </tr>\n",
       "  </tbody>\n",
       "</table>\n",
       "<p>140 rows × 7 columns</p>\n",
       "</div>"
      ],
      "text/plain": [
       "             EQUIP           DIG                           HB  \\\n",
       "0      top_affecte     INDICMAIL      NBJ_CNT_AGENCE_DEPOT_6M   \n",
       "1    note_Funivers      INDICTEL      NBJ_CNT_AGENCE_VENTE_6M   \n",
       "2       note_Fassu      INDICPOR        NBJ_CNT_RDV_AGENCE_6M   \n",
       "3     note_Fcredit      INDICSMS  NBJ_CNT_AUTOMATE_RETRAIT_6M   \n",
       "4    note_Fepargne  INDICMAILING   NBJ_CNT_AUTOMATES_DEPOT_6M   \n",
       "..             ...           ...                          ...   \n",
       "135            NaN           NaN              mt_reduc_ttc_M6   \n",
       "136            NaN           NaN                mt_rist_ttc_M   \n",
       "137            NaN           NaN               mt_rist_ttc_M6   \n",
       "138            NaN           NaN             Fidelite_calcule   \n",
       "139            NaN           NaN           Flag_bq_principale   \n",
       "\n",
       "                    SIGNA                   ECO                  AUTRE  \\\n",
       "0              cp_ou_pays    SURFACE_FINANCIERE  top_situ_particuliere   \n",
       "1         SECTEUR_GESTION           ENCOURS_DAV                    NaN   \n",
       "2              anciennete  MONETAIRE_DISPONIBLE                    NaN   \n",
       "3    seg_nature_potentiel      MONETAIRE_BLOQUE                    NaN   \n",
       "4          NB_PARTENAIRES              EMPRUNTS                    NaN   \n",
       "..                    ...                   ...                    ...   \n",
       "135                   NaN                   NaN                    NaN   \n",
       "136                   NaN                   NaN                    NaN   \n",
       "137                   NaN                   NaN                    NaN   \n",
       "138                   NaN                   NaN                    NaN   \n",
       "139                   NaN                   NaN                    NaN   \n",
       "\n",
       "                       Y  \n",
       "0             TOP_FRAUDE  \n",
       "1    TOP_FRAUDE_VIREMENT  \n",
       "2       TOP_FRAUDE_CARTE  \n",
       "3                    NaN  \n",
       "4                    NaN  \n",
       "..                   ...  \n",
       "135                  NaN  \n",
       "136                  NaN  \n",
       "137                  NaN  \n",
       "138                  NaN  \n",
       "139                  NaN  \n",
       "\n",
       "[140 rows x 7 columns]"
      ]
     },
     "execution_count": 7,
     "metadata": {},
     "output_type": "execute_result"
    }
   ],
   "source": [
    "categories=pd.read_csv(path_jeu+'categories.csv',sep = ';')\n",
    "categories"
   ]
  },
  {
   "cell_type": "code",
   "execution_count": 26,
   "id": "apart-crossing",
   "metadata": {},
   "outputs": [],
   "source": [
    "def evaluation(score: np.ndarray, y: np.ndarray, display=False):\n",
    "    precision, recall, thresholds = precision_recall_curve(y, score)\n",
    "    f1_score = 2 * precision * recall / (precision + recall)\n",
    "    \n",
    "    value = auc(recall, precision)\n",
    "    \n",
    "    if display:\n",
    "        plt.plot(recall, precision)\n",
    "        plt.show()\n",
    "    \n",
    "    return value, f1_score, precision, recall"
   ]
  },
  {
   "cell_type": "code",
   "execution_count": 8,
   "id": "capital-homeless",
   "metadata": {},
   "outputs": [],
   "source": [
    "def evaluation2(\n",
    "    pred: np.ndarray, y: np.ndarray, display=True):# -> list[int, int, int, int]:\n",
    "\n",
    "    confusion_mat = confusion_matrix(y, pred)\n",
    "\n",
    "    tn, fp, fn, tp = confusion_mat.ravel()\n",
    "\n",
    "    precision = tp / (tp + fp)\n",
    "    recall = tp / (tp + fn)\n",
    "    f1_score = 2 * precision * recall / (precision + recall)\n",
    "\n",
    "    if display:\n",
    "        print(\"TN / FP \\nFN / TP\")\n",
    "        print(confusion_mat)\n",
    "        print(f\"Precision : {precision}\")\n",
    "        print(f\"Recall : {recall}\")\n",
    "        print(f\"F1_Score : {f1_score}\")\n",
    "\n",
    "    return tn, fp, fn, tp"
   ]
  },
  {
   "cell_type": "code",
   "execution_count": 9,
   "id": "flying-township",
   "metadata": {},
   "outputs": [],
   "source": [
    "def evaluation3( score: np.ndarray, y: np.ndarray, percentage: float, display=True):\n",
    "    \"\"\"Evaluation with threshold\n",
    "\n",
    "    Args:\n",
    "        score (np.ndarray): Score for each individual, hight value => outlayer, low value => normal\n",
    "        y (np.ndarray): True TOP_FRAUDE\n",
    "        percentage (float): Threshold over 100 (example: 2%)\n",
    "        display (bool, optional): display precision, recall, f1_score. Defaults to True.\n",
    "\n",
    "    Returns:\n",
    "        tp, fp, fn, tp\n",
    "    \"\"\"\n",
    "    pred = score > sorted(score, key=lambda x: -x)[int(percentage / 100 * len(score))]\n",
    "\n",
    "    confusion_mat = confusion_matrix(y, pred)\n",
    "\n",
    "    tn, fp, fn, tp = confusion_mat.ravel()\n",
    "\n",
    "    precision = tp / (tp + fp)\n",
    "    recall = tp / (tp + fn)\n",
    "    f1_score = 2 * precision * recall / (precision + recall)\n",
    "\n",
    "    if display:\n",
    "        print(\"TN / FP \\nFN / TP\")\n",
    "        print(confusion_mat)\n",
    "        print(f\"Precision : {precision}\")\n",
    "        print(f\"Recall : {recall}\")\n",
    "        print(f\"F1_Score : {f1_score}\")\n",
    "\n",
    "    return tn, fp, fn, tp\n"
   ]
  },
  {
   "cell_type": "markdown",
   "id": "suitable-adoption",
   "metadata": {},
   "source": [
    "# TestCategorieEco"
   ]
  },
  {
   "cell_type": "code",
   "execution_count": 10,
   "id": "assumed-transcript",
   "metadata": {},
   "outputs": [],
   "source": [
    "#recuperer les variables eco\n",
    "eco = []\n",
    "for i in categories['ECO']:\n",
    "    if pd.isna(i)==False:\n",
    "        eco.append(i)\n",
    "eco_array =  np.array(eco)\n",
    "#enlever les variables inutiles\n",
    "indexeco =  np.array([np.argwhere(eco_array =='solde_encours_pea'),\n",
    "                                            np.argwhere(eco_array =='DEPENSES_RECURRENTES_EST_M'),\n",
    "                                            np.argwhere(eco_array =='SOLD_MOY_DAV_PART_12M_P'),\n",
    "                                            np.argwhere(eco_array =='mt_dernier_revenu_declare')])\n",
    "eco_array =  np.delete(eco_array, indexeco)       \n",
    "\n",
    "#np.argwhere(eco_array =='solde_encours_pea')"
   ]
  },
  {
   "cell_type": "code",
   "execution_count": 11,
   "id": "secure-wallace",
   "metadata": {},
   "outputs": [
    {
     "data": {
      "text/html": [
       "<div>\n",
       "<style scoped>\n",
       "    .dataframe tbody tr th:only-of-type {\n",
       "        vertical-align: middle;\n",
       "    }\n",
       "\n",
       "    .dataframe tbody tr th {\n",
       "        vertical-align: top;\n",
       "    }\n",
       "\n",
       "    .dataframe thead th {\n",
       "        text-align: right;\n",
       "    }\n",
       "</style>\n",
       "<table border=\"1\" class=\"dataframe\">\n",
       "  <thead>\n",
       "    <tr style=\"text-align: right;\">\n",
       "      <th></th>\n",
       "      <th>SURFACE_FINANCIERE</th>\n",
       "      <th>ENCOURS_DAV</th>\n",
       "      <th>MONETAIRE_DISPONIBLE</th>\n",
       "      <th>MONETAIRE_BLOQUE</th>\n",
       "      <th>EMPRUNTS</th>\n",
       "      <th>EPARGNE_LOGEMENT</th>\n",
       "      <th>SURFACE_FINANCIERE_M6</th>\n",
       "      <th>SURFACE_FINANCIERE_ECART_M6</th>\n",
       "      <th>ENCOURS_DAV_M6</th>\n",
       "      <th>ENCOURS_DAV_ECART_M6</th>\n",
       "      <th>...</th>\n",
       "      <th>mt_irregularite_incident_M</th>\n",
       "      <th>mt_irregularite_particuliere</th>\n",
       "      <th>mt_oblig</th>\n",
       "      <th>mt_oblig_cnca</th>\n",
       "      <th>mt_oblig_tiers</th>\n",
       "      <th>qt_PS</th>\n",
       "      <th>qt_actions</th>\n",
       "      <th>qt_oblig</th>\n",
       "      <th>qt_oblig_cnca</th>\n",
       "      <th>qt_oblig_tiers</th>\n",
       "    </tr>\n",
       "  </thead>\n",
       "  <tbody>\n",
       "    <tr>\n",
       "      <th>0</th>\n",
       "      <td>0.000000</td>\n",
       "      <td>0.000000</td>\n",
       "      <td>0.000000</td>\n",
       "      <td>0.0</td>\n",
       "      <td>0.0</td>\n",
       "      <td>0.0</td>\n",
       "      <td>0.000000</td>\n",
       "      <td>0.000000</td>\n",
       "      <td>0.000000</td>\n",
       "      <td>0.000000</td>\n",
       "      <td>...</td>\n",
       "      <td>0.000000</td>\n",
       "      <td>0.0</td>\n",
       "      <td>0.0</td>\n",
       "      <td>0.0</td>\n",
       "      <td>0.0</td>\n",
       "      <td>0.000000</td>\n",
       "      <td>0.000000</td>\n",
       "      <td>0.0</td>\n",
       "      <td>0.0</td>\n",
       "      <td>0.0</td>\n",
       "    </tr>\n",
       "    <tr>\n",
       "      <th>1</th>\n",
       "      <td>0.734749</td>\n",
       "      <td>0.004288</td>\n",
       "      <td>0.034288</td>\n",
       "      <td>0.0</td>\n",
       "      <td>0.0</td>\n",
       "      <td>0.0</td>\n",
       "      <td>0.673520</td>\n",
       "      <td>0.025104</td>\n",
       "      <td>0.004288</td>\n",
       "      <td>0.025104</td>\n",
       "      <td>...</td>\n",
       "      <td>0.000612</td>\n",
       "      <td>0.0</td>\n",
       "      <td>0.0</td>\n",
       "      <td>0.0</td>\n",
       "      <td>0.0</td>\n",
       "      <td>0.001864</td>\n",
       "      <td>0.001864</td>\n",
       "      <td>0.0</td>\n",
       "      <td>0.0</td>\n",
       "      <td>0.0</td>\n",
       "    </tr>\n",
       "    <tr>\n",
       "      <th>2</th>\n",
       "      <td>0.353933</td>\n",
       "      <td>0.001213</td>\n",
       "      <td>0.306742</td>\n",
       "      <td>0.0</td>\n",
       "      <td>0.0</td>\n",
       "      <td>0.0</td>\n",
       "      <td>0.684271</td>\n",
       "      <td>-0.330338</td>\n",
       "      <td>0.001741</td>\n",
       "      <td>-0.330338</td>\n",
       "      <td>...</td>\n",
       "      <td>0.000000</td>\n",
       "      <td>0.0</td>\n",
       "      <td>0.0</td>\n",
       "      <td>0.0</td>\n",
       "      <td>0.0</td>\n",
       "      <td>0.000000</td>\n",
       "      <td>0.000000</td>\n",
       "      <td>0.0</td>\n",
       "      <td>0.0</td>\n",
       "      <td>0.0</td>\n",
       "    </tr>\n",
       "    <tr>\n",
       "      <th>3</th>\n",
       "      <td>0.757111</td>\n",
       "      <td>0.001053</td>\n",
       "      <td>0.227133</td>\n",
       "      <td>0.0</td>\n",
       "      <td>0.0</td>\n",
       "      <td>0.0</td>\n",
       "      <td>0.328082</td>\n",
       "      <td>0.416411</td>\n",
       "      <td>0.000971</td>\n",
       "      <td>0.252370</td>\n",
       "      <td>...</td>\n",
       "      <td>0.000000</td>\n",
       "      <td>0.0</td>\n",
       "      <td>0.0</td>\n",
       "      <td>0.0</td>\n",
       "      <td>0.0</td>\n",
       "      <td>0.000000</td>\n",
       "      <td>0.000000</td>\n",
       "      <td>0.0</td>\n",
       "      <td>0.0</td>\n",
       "      <td>0.0</td>\n",
       "    </tr>\n",
       "    <tr>\n",
       "      <th>4</th>\n",
       "      <td>0.653317</td>\n",
       "      <td>0.000203</td>\n",
       "      <td>0.365858</td>\n",
       "      <td>0.0</td>\n",
       "      <td>0.0</td>\n",
       "      <td>0.0</td>\n",
       "      <td>0.584422</td>\n",
       "      <td>0.071271</td>\n",
       "      <td>0.000205</td>\n",
       "      <td>-0.009028</td>\n",
       "      <td>...</td>\n",
       "      <td>0.000000</td>\n",
       "      <td>0.0</td>\n",
       "      <td>0.0</td>\n",
       "      <td>0.0</td>\n",
       "      <td>0.0</td>\n",
       "      <td>0.000072</td>\n",
       "      <td>0.000072</td>\n",
       "      <td>0.0</td>\n",
       "      <td>0.0</td>\n",
       "      <td>0.0</td>\n",
       "    </tr>\n",
       "    <tr>\n",
       "      <th>...</th>\n",
       "      <td>...</td>\n",
       "      <td>...</td>\n",
       "      <td>...</td>\n",
       "      <td>...</td>\n",
       "      <td>...</td>\n",
       "      <td>...</td>\n",
       "      <td>...</td>\n",
       "      <td>...</td>\n",
       "      <td>...</td>\n",
       "      <td>...</td>\n",
       "      <td>...</td>\n",
       "      <td>...</td>\n",
       "      <td>...</td>\n",
       "      <td>...</td>\n",
       "      <td>...</td>\n",
       "      <td>...</td>\n",
       "      <td>...</td>\n",
       "      <td>...</td>\n",
       "      <td>...</td>\n",
       "      <td>...</td>\n",
       "      <td>...</td>\n",
       "    </tr>\n",
       "    <tr>\n",
       "      <th>99995</th>\n",
       "      <td>0.645646</td>\n",
       "      <td>0.001962</td>\n",
       "      <td>0.410866</td>\n",
       "      <td>0.0</td>\n",
       "      <td>0.0</td>\n",
       "      <td>0.0</td>\n",
       "      <td>0.557604</td>\n",
       "      <td>0.088043</td>\n",
       "      <td>0.002081</td>\n",
       "      <td>-0.123260</td>\n",
       "      <td>...</td>\n",
       "      <td>0.000000</td>\n",
       "      <td>0.0</td>\n",
       "      <td>0.0</td>\n",
       "      <td>0.0</td>\n",
       "      <td>0.0</td>\n",
       "      <td>0.000893</td>\n",
       "      <td>0.000893</td>\n",
       "      <td>0.0</td>\n",
       "      <td>0.0</td>\n",
       "      <td>0.0</td>\n",
       "    </tr>\n",
       "    <tr>\n",
       "      <th>99996</th>\n",
       "      <td>0.465007</td>\n",
       "      <td>0.000606</td>\n",
       "      <td>0.355096</td>\n",
       "      <td>0.0</td>\n",
       "      <td>0.0</td>\n",
       "      <td>0.0</td>\n",
       "      <td>0.625645</td>\n",
       "      <td>-0.160639</td>\n",
       "      <td>0.000634</td>\n",
       "      <td>-0.047346</td>\n",
       "      <td>...</td>\n",
       "      <td>0.000000</td>\n",
       "      <td>0.0</td>\n",
       "      <td>0.0</td>\n",
       "      <td>0.0</td>\n",
       "      <td>0.0</td>\n",
       "      <td>0.000000</td>\n",
       "      <td>0.000000</td>\n",
       "      <td>0.0</td>\n",
       "      <td>0.0</td>\n",
       "      <td>0.0</td>\n",
       "    </tr>\n",
       "    <tr>\n",
       "      <th>99997</th>\n",
       "      <td>0.752270</td>\n",
       "      <td>0.030064</td>\n",
       "      <td>0.000000</td>\n",
       "      <td>0.0</td>\n",
       "      <td>0.0</td>\n",
       "      <td>0.0</td>\n",
       "      <td>0.507782</td>\n",
       "      <td>0.269564</td>\n",
       "      <td>0.027625</td>\n",
       "      <td>0.269564</td>\n",
       "      <td>...</td>\n",
       "      <td>0.000000</td>\n",
       "      <td>0.0</td>\n",
       "      <td>0.0</td>\n",
       "      <td>0.0</td>\n",
       "      <td>0.0</td>\n",
       "      <td>0.000000</td>\n",
       "      <td>0.000000</td>\n",
       "      <td>0.0</td>\n",
       "      <td>0.0</td>\n",
       "      <td>0.0</td>\n",
       "    </tr>\n",
       "    <tr>\n",
       "      <th>99998</th>\n",
       "      <td>0.438045</td>\n",
       "      <td>0.004413</td>\n",
       "      <td>0.000000</td>\n",
       "      <td>0.0</td>\n",
       "      <td>0.0</td>\n",
       "      <td>0.0</td>\n",
       "      <td>0.764840</td>\n",
       "      <td>-0.333748</td>\n",
       "      <td>0.004870</td>\n",
       "      <td>-0.333748</td>\n",
       "      <td>...</td>\n",
       "      <td>0.000000</td>\n",
       "      <td>0.0</td>\n",
       "      <td>0.0</td>\n",
       "      <td>0.0</td>\n",
       "      <td>0.0</td>\n",
       "      <td>0.002582</td>\n",
       "      <td>0.002582</td>\n",
       "      <td>0.0</td>\n",
       "      <td>0.0</td>\n",
       "      <td>0.0</td>\n",
       "    </tr>\n",
       "    <tr>\n",
       "      <th>99999</th>\n",
       "      <td>0.499979</td>\n",
       "      <td>0.000000</td>\n",
       "      <td>0.499979</td>\n",
       "      <td>0.0</td>\n",
       "      <td>0.0</td>\n",
       "      <td>0.0</td>\n",
       "      <td>0.000000</td>\n",
       "      <td>0.499979</td>\n",
       "      <td>0.000000</td>\n",
       "      <td>0.000000</td>\n",
       "      <td>...</td>\n",
       "      <td>0.000000</td>\n",
       "      <td>0.0</td>\n",
       "      <td>0.0</td>\n",
       "      <td>0.0</td>\n",
       "      <td>0.0</td>\n",
       "      <td>0.000000</td>\n",
       "      <td>0.000000</td>\n",
       "      <td>0.0</td>\n",
       "      <td>0.0</td>\n",
       "      <td>0.0</td>\n",
       "    </tr>\n",
       "  </tbody>\n",
       "</table>\n",
       "<p>100000 rows × 44 columns</p>\n",
       "</div>"
      ],
      "text/plain": [
       "       SURFACE_FINANCIERE  ENCOURS_DAV  MONETAIRE_DISPONIBLE  \\\n",
       "0                0.000000     0.000000              0.000000   \n",
       "1                0.734749     0.004288              0.034288   \n",
       "2                0.353933     0.001213              0.306742   \n",
       "3                0.757111     0.001053              0.227133   \n",
       "4                0.653317     0.000203              0.365858   \n",
       "...                   ...          ...                   ...   \n",
       "99995            0.645646     0.001962              0.410866   \n",
       "99996            0.465007     0.000606              0.355096   \n",
       "99997            0.752270     0.030064              0.000000   \n",
       "99998            0.438045     0.004413              0.000000   \n",
       "99999            0.499979     0.000000              0.499979   \n",
       "\n",
       "       MONETAIRE_BLOQUE  EMPRUNTS  EPARGNE_LOGEMENT  SURFACE_FINANCIERE_M6  \\\n",
       "0                   0.0       0.0               0.0               0.000000   \n",
       "1                   0.0       0.0               0.0               0.673520   \n",
       "2                   0.0       0.0               0.0               0.684271   \n",
       "3                   0.0       0.0               0.0               0.328082   \n",
       "4                   0.0       0.0               0.0               0.584422   \n",
       "...                 ...       ...               ...                    ...   \n",
       "99995               0.0       0.0               0.0               0.557604   \n",
       "99996               0.0       0.0               0.0               0.625645   \n",
       "99997               0.0       0.0               0.0               0.507782   \n",
       "99998               0.0       0.0               0.0               0.764840   \n",
       "99999               0.0       0.0               0.0               0.000000   \n",
       "\n",
       "       SURFACE_FINANCIERE_ECART_M6  ENCOURS_DAV_M6  ENCOURS_DAV_ECART_M6  ...  \\\n",
       "0                         0.000000        0.000000              0.000000  ...   \n",
       "1                         0.025104        0.004288              0.025104  ...   \n",
       "2                        -0.330338        0.001741             -0.330338  ...   \n",
       "3                         0.416411        0.000971              0.252370  ...   \n",
       "4                         0.071271        0.000205             -0.009028  ...   \n",
       "...                            ...             ...                   ...  ...   \n",
       "99995                     0.088043        0.002081             -0.123260  ...   \n",
       "99996                    -0.160639        0.000634             -0.047346  ...   \n",
       "99997                     0.269564        0.027625              0.269564  ...   \n",
       "99998                    -0.333748        0.004870             -0.333748  ...   \n",
       "99999                     0.499979        0.000000              0.000000  ...   \n",
       "\n",
       "       mt_irregularite_incident_M  mt_irregularite_particuliere  mt_oblig  \\\n",
       "0                        0.000000                           0.0       0.0   \n",
       "1                        0.000612                           0.0       0.0   \n",
       "2                        0.000000                           0.0       0.0   \n",
       "3                        0.000000                           0.0       0.0   \n",
       "4                        0.000000                           0.0       0.0   \n",
       "...                           ...                           ...       ...   \n",
       "99995                    0.000000                           0.0       0.0   \n",
       "99996                    0.000000                           0.0       0.0   \n",
       "99997                    0.000000                           0.0       0.0   \n",
       "99998                    0.000000                           0.0       0.0   \n",
       "99999                    0.000000                           0.0       0.0   \n",
       "\n",
       "       mt_oblig_cnca  mt_oblig_tiers     qt_PS  qt_actions  qt_oblig  \\\n",
       "0                0.0             0.0  0.000000    0.000000       0.0   \n",
       "1                0.0             0.0  0.001864    0.001864       0.0   \n",
       "2                0.0             0.0  0.000000    0.000000       0.0   \n",
       "3                0.0             0.0  0.000000    0.000000       0.0   \n",
       "4                0.0             0.0  0.000072    0.000072       0.0   \n",
       "...              ...             ...       ...         ...       ...   \n",
       "99995            0.0             0.0  0.000893    0.000893       0.0   \n",
       "99996            0.0             0.0  0.000000    0.000000       0.0   \n",
       "99997            0.0             0.0  0.000000    0.000000       0.0   \n",
       "99998            0.0             0.0  0.002582    0.002582       0.0   \n",
       "99999            0.0             0.0  0.000000    0.000000       0.0   \n",
       "\n",
       "       qt_oblig_cnca  qt_oblig_tiers  \n",
       "0                0.0             0.0  \n",
       "1                0.0             0.0  \n",
       "2                0.0             0.0  \n",
       "3                0.0             0.0  \n",
       "4                0.0             0.0  \n",
       "...              ...             ...  \n",
       "99995            0.0             0.0  \n",
       "99996            0.0             0.0  \n",
       "99997            0.0             0.0  \n",
       "99998            0.0             0.0  \n",
       "99999            0.0             0.0  \n",
       "\n",
       "[100000 rows x 44 columns]"
      ]
     },
     "execution_count": 11,
     "metadata": {},
     "output_type": "execute_result"
    }
   ],
   "source": [
    "#selectionner donnees eco\n",
    "df_eco = df[eco_array]\n",
    "df2 = data['TOP_FRAUDE']\n",
    "#df_eco = pd.concat([df2, df1], axis=1)\n",
    "df_eco"
   ]
  },
  {
   "cell_type": "markdown",
   "id": "weird-terrace",
   "metadata": {},
   "source": [
    "# ABOD-Cat:ECO"
   ]
  },
  {
   "cell_type": "code",
   "execution_count": 14,
   "id": "worth-tenant",
   "metadata": {},
   "outputs": [
    {
     "data": {
      "text/plain": [
       "<Figure size 1440x1080 with 0 Axes>"
      ]
     },
     "execution_count": 14,
     "metadata": {},
     "output_type": "execute_result"
    },
    {
     "data": {
      "text/plain": [
       "<Figure size 1440x1080 with 0 Axes>"
      ]
     },
     "metadata": {},
     "output_type": "display_data"
    }
   ],
   "source": [
    "outliers_fraction = 0.01\n",
    "clf = ABOD(contamination=outliers_fraction,n_neighbors = 5)\n",
    "xx , yy = np.meshgrid(np.linspace(0, 1, 100), np.linspace(0, 1, 100))\n",
    "plt.figure(figsize=(20, 15))"
   ]
  },
  {
   "cell_type": "code",
   "execution_count": 15,
   "id": "historic-mills",
   "metadata": {},
   "outputs": [
    {
     "ename": "NameError",
     "evalue": "name 'df_eco' is not defined",
     "output_type": "error",
     "traceback": [
      "\u001b[1;31m---------------------------------------------------------------------------\u001b[0m",
      "\u001b[1;31mNameError\u001b[0m                                 Traceback (most recent call last)",
      "\u001b[1;32m<ipython-input-15-e3b234b451f6>\u001b[0m in \u001b[0;36m<module>\u001b[1;34m\u001b[0m\n\u001b[1;32m----> 1\u001b[1;33m \u001b[0mclf\u001b[0m\u001b[1;33m.\u001b[0m\u001b[0mfit\u001b[0m\u001b[1;33m(\u001b[0m\u001b[0mdf_eco\u001b[0m\u001b[1;33m)\u001b[0m\u001b[1;33m\u001b[0m\u001b[1;33m\u001b[0m\u001b[0m\n\u001b[0m",
      "\u001b[1;31mNameError\u001b[0m: name 'df_eco' is not defined"
     ]
    }
   ],
   "source": [
    "clf.fit(df_eco)"
   ]
  },
  {
   "cell_type": "code",
   "execution_count": 18,
   "id": "fifteen-carpet",
   "metadata": {},
   "outputs": [
    {
     "data": {
      "text/plain": [
       "array([0.00000000e+00, 3.51585514e+05, 5.40902355e+05, ...,\n",
       "       1.55757218e+05, 5.40878747e+06, 1.38217173e+20])"
      ]
     },
     "execution_count": 18,
     "metadata": {},
     "output_type": "execute_result"
    }
   ],
   "source": [
    "score_pred = clf.decision_scores_*-1\n",
    "score_pred = np.nan_to_num(score_pred) \n",
    "score_pred"
   ]
  },
  {
   "cell_type": "code",
   "execution_count": 19,
   "id": "incoming-relaxation",
   "metadata": {},
   "outputs": [
    {
     "name": "stderr",
     "output_type": "stream",
     "text": [
      "C:\\Python\\lib\\site-packages\\numpy\\core\\fromnumeric.py:3723: RuntimeWarning: Degrees of freedom <= 0 for slice\n",
      "  return _methods._var(a, axis=axis, dtype=dtype, out=out, ddof=ddof,\n",
      "C:\\Python\\lib\\site-packages\\numpy\\core\\_methods.py:222: RuntimeWarning: invalid value encountered in true_divide\n",
      "  arrmean = um.true_divide(arrmean, div, out=arrmean, casting='unsafe',\n",
      "C:\\Python\\lib\\site-packages\\numpy\\core\\_methods.py:254: RuntimeWarning: invalid value encountered in double_scalars\n",
      "  ret = ret.dtype.type(ret / rcount)\n"
     ]
    },
    {
     "data": {
      "text/plain": [
       "array([0, 0, 0, ..., 0, 0, 0])"
      ]
     },
     "execution_count": 19,
     "metadata": {},
     "output_type": "execute_result"
    }
   ],
   "source": [
    "y_pred = clf.predict(df_eco)\n",
    "y_pred\n"
   ]
  },
  {
   "cell_type": "code",
   "execution_count": 165,
   "id": "directed-peeing",
   "metadata": {},
   "outputs": [
    {
     "name": "stdout",
     "output_type": "stream",
     "text": [
      "TN / FP \n",
      "FN / TP\n",
      "[[99851     0]\n",
      " [  149     0]]\n",
      "Precision : nan\n",
      "Recall : 0.0\n",
      "F1_Score : nan\n"
     ]
    },
    {
     "name": "stderr",
     "output_type": "stream",
     "text": [
      "<ipython-input-164-2583a600d784>:8: RuntimeWarning: invalid value encountered in longlong_scalars\n",
      "  precision = tp / (tp + fp)\n"
     ]
    }
   ],
   "source": [
    "tn, fp, fn, tp = evaluation2(y_pred,df_eco[\"TOP_FRAUDE\"])"
   ]
  },
  {
   "cell_type": "code",
   "execution_count": 97,
   "id": "complimentary-tribe",
   "metadata": {},
   "outputs": [
    {
     "name": "stdout",
     "output_type": "stream",
     "text": [
      "0\n"
     ]
    }
   ],
   "source": [
    "count = 0\n",
    "for i, j in zip(list(score_pred > 1 - (0.2 / 100)), df_eco[\"TOP_FRAUDE\"]):\n",
    "    if i == j and i == 1:\n",
    "        count += 1\n",
    "print(count)"
   ]
  },
  {
   "cell_type": "code",
   "execution_count": 24,
   "id": "referenced-sponsorship",
   "metadata": {
    "scrolled": true
   },
   "outputs": [
    {
     "name": "stderr",
     "output_type": "stream",
     "text": [
      "<ipython-input-20-57658cd24934>:3: RuntimeWarning: invalid value encountered in true_divide\n",
      "  f1_score = 2 * precision * recall / (precision + recall)\n"
     ]
    },
    {
     "data": {
      "image/png": "[encoded data removed]",
      "text/plain": [
       "<Figure size 432x288 with 1 Axes>"
      ]
     },
     "metadata": {
      "needs_background": "light"
     },
     "output_type": "display_data"
    },
    {
     "name": "stdout",
     "output_type": "stream",
     "text": [
      "Air sous la courbe :  0.001252606385929021\n"
     ]
    }
   ],
   "source": [
    "value, f1_score, precision, recall = evaluation(score_pred, data[\"TOP_FRAUDE\"], display=True)\n",
    "print(\"Air sous la courbe : \", value)  "
   ]
  },
  {
   "cell_type": "markdown",
   "id": "missing-attack",
   "metadata": {},
   "source": [
    "# KNN-Cat:ECO"
   ]
  },
  {
   "cell_type": "code",
   "execution_count": null,
   "id": "mental-assistant",
   "metadata": {},
   "outputs": [],
   "source": [
    "\n",
    "\n",
    "clf_name = 'kNN'\n",
    "clf = KNN()\n",
    "clf.fit(df_eco) \n",
    "\n",
    "y_train_pred = clf.labels_ \n",
    "y_train_scores = clf.decision_scores_ \n",
    "\n",
    "y_test_pred = clf.predict(df_eco)  \n",
    "y_test_scores = clf.decision_function(df_eco)  "
   ]
  },
  {
   "cell_type": "markdown",
   "id": "administrative-migration",
   "metadata": {},
   "source": [
    "# MCD--Cat:Eco"
   ]
  },
  {
   "cell_type": "code",
   "execution_count": 61,
   "id": "complex-novel",
   "metadata": {},
   "outputs": [
    {
     "name": "stderr",
     "output_type": "stream",
     "text": [
      "C:\\Python\\lib\\site-packages\\sklearn\\covariance\\_robust_covariance.py:647: UserWarning: The covariance matrix associated to your dataset is not full rank\n",
      "  warnings.warn(\"The covariance matrix associated to your dataset \"\n"
     ]
    },
    {
     "data": {
      "text/plain": [
       "MCD(assume_centered=False, contamination=0.1, random_state=None,\n",
       "  store_precision=True, support_fraction=None)"
      ]
     },
     "execution_count": 61,
     "metadata": {},
     "output_type": "execute_result"
    }
   ],
   "source": [
    "clf_name = 'MCD'\n",
    "clf = MCD()\n",
    "clf.fit(df_eco)"
   ]
  },
  {
   "cell_type": "code",
   "execution_count": 62,
   "id": "middle-folder",
   "metadata": {},
   "outputs": [],
   "source": [
    "    y_pred = clf.labels_ \n",
    "    y_scores = clf.decision_scores_\n",
    "\n"
   ]
  },
  {
   "cell_type": "code",
   "execution_count": 63,
   "id": "occupational-agency",
   "metadata": {},
   "outputs": [
    {
     "name": "stderr",
     "output_type": "stream",
     "text": [
      "<ipython-input-26-57658cd24934>:3: RuntimeWarning: invalid value encountered in true_divide\n",
      "  f1_score = 2 * precision * recall / (precision + recall)\n"
     ]
    },
    {
     "data": {
      "image/png": "[encoded data removed]",
      "text/plain": [
       "<Figure size 432x288 with 1 Axes>"
      ]
     },
     "metadata": {
      "needs_background": "light"
     },
     "output_type": "display_data"
    },
    {
     "name": "stdout",
     "output_type": "stream",
     "text": [
      "Air sous la courbe :  0.0015880208248976316\n"
     ]
    }
   ],
   "source": [
    "value, f1_score, precision, recall = evaluation(y_scores, data[\"TOP_FRAUDE\"], display=True)\n",
    "print(\"Air sous la courbe : \", value)"
   ]
  },
  {
   "cell_type": "code",
   "execution_count": 66,
   "id": "positive-nerve",
   "metadata": {},
   "outputs": [
    {
     "name": "stdout",
     "output_type": "stream",
     "text": [
      "TN / FP \n",
      "FN / TP\n",
      "[[79881 19970]\n",
      " [  119    30]]\n",
      "Precision : 0.0015\n",
      "Recall : 0.20134228187919462\n",
      "F1_Score : 0.0029778152761923667\n"
     ]
    }
   ],
   "source": [
    " tn, fp, fn, tp = evaluation3(y_scores , data['TOP_FRAUDE'],20)"
   ]
  },
  {
   "cell_type": "markdown",
   "id": "established-abraham",
   "metadata": {},
   "source": [
    "# LOF Cat:Eco"
   ]
  },
  {
   "cell_type": "code",
   "execution_count": 41,
   "id": "appreciated-genetics",
   "metadata": {},
   "outputs": [
    {
     "data": {
      "text/plain": [
       "LOF(algorithm='auto', contamination=0.1, leaf_size=30, metric='minkowski',\n",
       "  metric_params=None, n_jobs=1, n_neighbors=20, novelty=True, p=2)"
      ]
     },
     "execution_count": 41,
     "metadata": {},
     "output_type": "execute_result"
    }
   ],
   "source": [
    "clf_name = 'LOF'\n",
    "clf = LOF()\n",
    "clf.fit(df_eco)"
   ]
  },
  {
   "cell_type": "code",
   "execution_count": 44,
   "id": "computational-guatemala",
   "metadata": {},
   "outputs": [],
   "source": [
    "y_pred = clf.labels_\n",
    "y_scores = clf.decision_scores_"
   ]
  },
  {
   "cell_type": "code",
   "execution_count": 45,
   "id": "clinical-variation",
   "metadata": {},
   "outputs": [
    {
     "name": "stderr",
     "output_type": "stream",
     "text": [
      "<ipython-input-26-57658cd24934>:3: RuntimeWarning: invalid value encountered in true_divide\n",
      "  f1_score = 2 * precision * recall / (precision + recall)\n"
     ]
    },
    {
     "data": {
      "image/png": "[encoded data removed]",
      "text/plain": [
       "<Figure size 432x288 with 1 Axes>"
      ]
     },
     "metadata": {
      "needs_background": "light"
     },
     "output_type": "display_data"
    },
    {
     "name": "stdout",
     "output_type": "stream",
     "text": [
      "Air sous la courbe :  0.0015586645605129722\n"
     ]
    }
   ],
   "source": [
    "value, f1_score, precision, recall = evaluation(y_scores, data[\"TOP_FRAUDE\"], display=True)\n",
    "print(\"Air sous la courbe : \", value)"
   ]
  },
  {
   "cell_type": "code",
   "execution_count": 48,
   "id": "stunning-avenue",
   "metadata": {},
   "outputs": [
    {
     "name": "stdout",
     "output_type": "stream",
     "text": [
      "TN / FP \n",
      "FN / TP\n",
      "[[99651   200]\n",
      " [  149     0]]\n",
      "Precision : 0.0\n",
      "Recall : 0.0\n",
      "F1_Score : nan\n"
     ]
    },
    {
     "name": "stderr",
     "output_type": "stream",
     "text": [
      "<ipython-input-9-2c33566eaa1e>:21: RuntimeWarning: invalid value encountered in double_scalars\n",
      "  f1_score = 2 * precision * recall / (precision + recall)\n"
     ]
    }
   ],
   "source": [
    " tn, fp, fn, tp = evaluation3(y_scores , data['TOP_FRAUDE'],0.2)"
   ]
  },
  {
   "cell_type": "markdown",
   "id": "velvet-audience",
   "metadata": {},
   "source": [
    "# HBOS  Cat:Eco"
   ]
  },
  {
   "cell_type": "code",
   "execution_count": 81,
   "id": "local-buddy",
   "metadata": {},
   "outputs": [
    {
     "data": {
      "text/plain": [
       "HBOS(alpha=0.1, contamination=0.1, n_bins=10, tol=0.5)"
      ]
     },
     "execution_count": 81,
     "metadata": {},
     "output_type": "execute_result"
    }
   ],
   "source": [
    "    clf_name = 'HBOS'\n",
    "    clf = HBOS()\n",
    "    clf.fit(df_eco)\n"
   ]
  },
  {
   "cell_type": "code",
   "execution_count": 82,
   "id": "creative-weekend",
   "metadata": {},
   "outputs": [],
   "source": [
    "    y_pred = clf.labels_\n",
    "    y_scores = clf.decision_scores_"
   ]
  },
  {
   "cell_type": "code",
   "execution_count": 83,
   "id": "ready-backup",
   "metadata": {},
   "outputs": [
    {
     "name": "stderr",
     "output_type": "stream",
     "text": [
      "<ipython-input-26-57658cd24934>:3: RuntimeWarning: invalid value encountered in true_divide\n",
      "  f1_score = 2 * precision * recall / (precision + recall)\n"
     ]
    },
    {
     "data": {
      "image/png": "[encoded data removed]",
      "text/plain": [
       "<Figure size 432x288 with 1 Axes>"
      ]
     },
     "metadata": {
      "needs_background": "light"
     },
     "output_type": "display_data"
    },
    {
     "name": "stdout",
     "output_type": "stream",
     "text": [
      "Air sous la courbe :  0.0018244920527525298\n"
     ]
    }
   ],
   "source": [
    "value, f1_score, precision, recall = evaluation(y_scores, data[\"TOP_FRAUDE\"], display=True)\n",
    "print(\"Air sous la courbe : \", value)"
   ]
  },
  {
   "cell_type": "code",
   "execution_count": 87,
   "id": "ambient-dialogue",
   "metadata": {},
   "outputs": [
    {
     "name": "stdout",
     "output_type": "stream",
     "text": [
      "TN / FP \n",
      "FN / TP\n",
      "[[99651   200]\n",
      " [  149     0]]\n",
      "Precision : 0.0\n",
      "Recall : 0.0\n",
      "F1_Score : nan\n"
     ]
    },
    {
     "name": "stderr",
     "output_type": "stream",
     "text": [
      "<ipython-input-9-2c33566eaa1e>:21: RuntimeWarning: invalid value encountered in double_scalars\n",
      "  f1_score = 2 * precision * recall / (precision + recall)\n"
     ]
    }
   ],
   "source": [
    " tn, fp, fn, tp = evaluation3(y_scores , data['TOP_FRAUDE'],0.2)"
   ]
  },
  {
   "cell_type": "markdown",
   "id": "material-panama",
   "metadata": {},
   "source": [
    "# IFOREST Cat:Eco"
   ]
  },
  {
   "cell_type": "code",
   "execution_count": 12,
   "id": "banned-nomination",
   "metadata": {},
   "outputs": [
    {
     "data": {
      "text/plain": [
       "IForest(behaviour='old', bootstrap=False, contamination=0.1, max_features=1.0,\n",
       "    max_samples='auto', n_estimators=100, n_jobs=1, random_state=None,\n",
       "    verbose=0)"
      ]
     },
     "execution_count": 12,
     "metadata": {},
     "output_type": "execute_result"
    }
   ],
   "source": [
    "    clf_name = 'IForest'\n",
    "    clf = IForest()\n",
    "    clf.fit(df_eco)"
   ]
  },
  {
   "cell_type": "code",
   "execution_count": 13,
   "id": "enabling-verification",
   "metadata": {},
   "outputs": [],
   "source": [
    "y_pred = clf.labels_\n",
    "y_scores = clf.decision_scores_"
   ]
  },
  {
   "cell_type": "code",
   "execution_count": 14,
   "id": "norwegian-somalia",
   "metadata": {},
   "outputs": [
    {
     "name": "stdout",
     "output_type": "stream",
     "text": [
      "TN / FP \n",
      "FN / TP\n",
      "[[79882 19969]\n",
      " [  118    31]]\n",
      "Precision : 0.00155\n",
      "Recall : 0.2080536912751678\n",
      "F1_Score : 0.0030770757853987793\n"
     ]
    }
   ],
   "source": [
    " tn, fp, fn, tp = evaluation3(y_scores , data['TOP_FRAUDE'],20)"
   ]
  },
  {
   "cell_type": "code",
   "execution_count": 16,
   "id": "collective-kenya",
   "metadata": {},
   "outputs": [
    {
     "name": "stdout",
     "output_type": "stream",
     "text": [
      "TN / FP \n",
      "FN / TP\n",
      "[[99651   200]\n",
      " [  149     0]]\n",
      "Precision : 0.0\n",
      "Recall : 0.0\n",
      "F1_Score : nan\n"
     ]
    },
    {
     "name": "stderr",
     "output_type": "stream",
     "text": [
      "<ipython-input-9-2c33566eaa1e>:21: RuntimeWarning: invalid value encountered in double_scalars\n",
      "  f1_score = 2 * precision * recall / (precision + recall)\n"
     ]
    }
   ],
   "source": [
    " tn, fp, fn, tp = evaluation3(y_scores , data['TOP_FRAUDE'],0.2)"
   ]
  },
  {
   "cell_type": "code",
   "execution_count": 43,
   "id": "enclosed-rolling",
   "metadata": {},
   "outputs": [
    {
     "name": "stderr",
     "output_type": "stream",
     "text": [
      "<ipython-input-20-57658cd24934>:3: RuntimeWarning: invalid value encountered in true_divide\n",
      "  f1_score = 2 * precision * recall / (precision + recall)\n"
     ]
    },
    {
     "data": {
      "image/png": "[encoded data removed]",
      "text/plain": [
       "<Figure size 432x288 with 1 Axes>"
      ]
     },
     "metadata": {
      "needs_background": "light"
     },
     "output_type": "display_data"
    },
    {
     "name": "stdout",
     "output_type": "stream",
     "text": [
      "Air sous la courbe :  0.001610690396224186\n"
     ]
    }
   ],
   "source": [
    "value, f1_score, precision, recall = evaluation(y_scores, data[\"TOP_FRAUDE\"], display=True)\n",
    "print(\"Air sous la courbe : \", value)"
   ]
  },
  {
   "cell_type": "markdown",
   "id": "looking-packing",
   "metadata": {},
   "source": [
    "# PCA Cat:ECO"
   ]
  },
  {
   "cell_type": "code",
   "execution_count": 102,
   "id": "overhead-approval",
   "metadata": {},
   "outputs": [
    {
     "data": {
      "text/plain": [
       "PCA(contamination=0.1, copy=True, iterated_power='auto', n_components=3,\n",
       "  n_selected_components=None, random_state=None, standardization=True,\n",
       "  svd_solver='auto', tol=0.0, weighted=True, whiten=False)"
      ]
     },
     "execution_count": 102,
     "metadata": {},
     "output_type": "execute_result"
    }
   ],
   "source": [
    "clf_name = 'PCA'\n",
    "clf = PCA(n_components=3)\n",
    "clf.fit(df_eco)"
   ]
  },
  {
   "cell_type": "code",
   "execution_count": 103,
   "id": "serious-guide",
   "metadata": {},
   "outputs": [],
   "source": [
    "y_pred = clf.labels_\n",
    "y_scores = clf.decision_scores_"
   ]
  },
  {
   "cell_type": "code",
   "execution_count": 104,
   "id": "hollywood-fifteen",
   "metadata": {},
   "outputs": [
    {
     "name": "stderr",
     "output_type": "stream",
     "text": [
      "<ipython-input-26-57658cd24934>:3: RuntimeWarning: invalid value encountered in true_divide\n",
      "  f1_score = 2 * precision * recall / (precision + recall)\n"
     ]
    },
    {
     "data": {
      "image/png": "[encoded data removed]",
      "text/plain": [
       "<Figure size 432x288 with 1 Axes>"
      ]
     },
     "metadata": {
      "needs_background": "light"
     },
     "output_type": "display_data"
    },
    {
     "name": "stdout",
     "output_type": "stream",
     "text": [
      "Air sous la courbe :  0.0015148517580360174\n"
     ]
    }
   ],
   "source": [
    "value, f1_score, precision, recall = evaluation(y_scores, data[\"TOP_FRAUDE\"], display=True)\n",
    "print(\"Air sous la courbe : \", value)"
   ]
  },
  {
   "cell_type": "code",
   "execution_count": 107,
   "id": "expanded-philadelphia",
   "metadata": {},
   "outputs": [
    {
     "name": "stdout",
     "output_type": "stream",
     "text": [
      "TN / FP \n",
      "FN / TP\n",
      "[[79882 19969]\n",
      " [  118    31]]\n",
      "Precision : 0.00155\n",
      "Recall : 0.2080536912751678\n",
      "F1_Score : 0.0030770757853987793\n"
     ]
    }
   ],
   "source": [
    " tn, fp, fn, tp = evaluation3(y_scores , data['TOP_FRAUDE'],20)"
   ]
  },
  {
   "cell_type": "markdown",
   "id": "copyrighted-atmosphere",
   "metadata": {},
   "source": [
    "# Test Categorie SIGNA"
   ]
  },
  {
   "cell_type": "code",
   "execution_count": 18,
   "id": "novel-standard",
   "metadata": {},
   "outputs": [
    {
     "data": {
      "text/plain": [
       "['cp_ou_pays',\n",
       " 'SECTEUR_GESTION',\n",
       " 'anciennete',\n",
       " 'seg_nature_potentiel',\n",
       " 'NB_PARTENAIRES',\n",
       " 'nb_mineurs',\n",
       " 'type_residence_1',\n",
       " 'type_residence_2',\n",
       " 'situ_fam_1',\n",
       " 'situ_fam_2',\n",
       " 'csp_1',\n",
       " 'csp_2',\n",
       " 'contrat_travail_1',\n",
       " 'contrat_travail_2',\n",
       " 'Tranche_age_1',\n",
       " 'Tranche_age_2',\n",
       " 'sexe_1',\n",
       " 'sexe_2',\n",
       " 'Tranche_age_moyen',\n",
       " 'situ_globale',\n",
       " 'top_pro',\n",
       " 'top_PDG',\n",
       " 'top_PRESIDENT',\n",
       " 'top_DIRECTEUR_GENERAL',\n",
       " 'top_GERANT',\n",
       " 'top_ADMINISTRATEUR',\n",
       " 'top_TRESORIER',\n",
       " 'top_COMMANDITAIRE',\n",
       " 'nouveau_societaire_M',\n",
       " 'perte_societaire_M',\n",
       " 'societaire_M',\n",
       " 'profil']"
      ]
     },
     "execution_count": 18,
     "metadata": {},
     "output_type": "execute_result"
    }
   ],
   "source": [
    "signa = []\n",
    "for i in categories['SIGNA']:\n",
    "    if pd.isna(i)==False:\n",
    "        signa.append(i)\n",
    "signa_array =  np.array(signa)\n",
    "\n",
    "signa\n"
   ]
  },
  {
   "cell_type": "code",
   "execution_count": 19,
   "id": "british-snowboard",
   "metadata": {},
   "outputs": [
    {
     "data": {
      "text/plain": [
       "array(['anciennete', 'NB_PARTENAIRES', 'nb_mineurs', 'csp_1', 'top_pro',\n",
       "       'top_PDG', 'top_PRESIDENT', 'top_DIRECTEUR_GENERAL', 'top_GERANT',\n",
       "       'top_ADMINISTRATEUR', 'top_TRESORIER', 'top_COMMANDITAIRE',\n",
       "       'nouveau_societaire_M', 'perte_societaire_M', 'societaire_M'],\n",
       "      dtype='<U21')"
      ]
     },
     "execution_count": 19,
     "metadata": {},
     "output_type": "execute_result"
    }
   ],
   "source": [
    "indexsigna =  np.array([np.argwhere(signa_array =='situ_fam_1'),\n",
    "                                            np.argwhere(signa_array =='sexe_2'),\n",
    "                                            np.argwhere(signa_array =='type_residence_2'),\n",
    "                                            np.argwhere(signa_array =='seg_nature_potentiel'),\n",
    "                       np.argwhere(signa_array =='contrat_travail_2'),\n",
    "                       np.argwhere(signa_array =='type_residence_1'),\n",
    "                     np.argwhere(signa_array =='cp_ou_pays'), \n",
    "                      np.argwhere(signa_array =='profil'),\n",
    "                       np.argwhere(signa_array =='SECTEUR_GESTION'),\n",
    "                       np.argwhere(signa_array =='situ_globale'),\n",
    "                       np.argwhere(signa_array =='Tranche_age_1'),\n",
    "                      np.argwhere(signa_array =='Tranche_age_moyen'),\n",
    "                      np.argwhere(signa_array =='Tranche_age_2'),\n",
    "                      np.argwhere(signa_array =='situ_fam_2'),\n",
    "                      np.argwhere(signa_array =='sexe_1'),\n",
    "                       np.argwhere(signa_array =='contrat_travail_1'),\n",
    "                       np.argwhere(signa_array =='csp_2')])\n",
    "signa_array =  np.delete(signa_array, indexsigna)      \n",
    "signa_array"
   ]
  },
  {
   "cell_type": "code",
   "execution_count": 20,
   "id": "abstract-colleague",
   "metadata": {},
   "outputs": [
    {
     "data": {
      "text/html": [
       "<div>\n",
       "<style scoped>\n",
       "    .dataframe tbody tr th:only-of-type {\n",
       "        vertical-align: middle;\n",
       "    }\n",
       "\n",
       "    .dataframe tbody tr th {\n",
       "        vertical-align: top;\n",
       "    }\n",
       "\n",
       "    .dataframe thead th {\n",
       "        text-align: right;\n",
       "    }\n",
       "</style>\n",
       "<table border=\"1\" class=\"dataframe\">\n",
       "  <thead>\n",
       "    <tr style=\"text-align: right;\">\n",
       "      <th></th>\n",
       "      <th>anciennete</th>\n",
       "      <th>NB_PARTENAIRES</th>\n",
       "      <th>nb_mineurs</th>\n",
       "      <th>csp_1</th>\n",
       "      <th>top_pro</th>\n",
       "      <th>top_PDG</th>\n",
       "      <th>top_PRESIDENT</th>\n",
       "      <th>top_DIRECTEUR_GENERAL</th>\n",
       "      <th>top_GERANT</th>\n",
       "      <th>top_ADMINISTRATEUR</th>\n",
       "      <th>top_TRESORIER</th>\n",
       "      <th>top_COMMANDITAIRE</th>\n",
       "      <th>nouveau_societaire_M</th>\n",
       "      <th>perte_societaire_M</th>\n",
       "      <th>societaire_M</th>\n",
       "    </tr>\n",
       "  </thead>\n",
       "  <tbody>\n",
       "    <tr>\n",
       "      <th>0</th>\n",
       "      <td>0.323760</td>\n",
       "      <td>0.103256</td>\n",
       "      <td>0.000000</td>\n",
       "      <td>0.744592</td>\n",
       "      <td>0.0</td>\n",
       "      <td>0.0</td>\n",
       "      <td>0.0</td>\n",
       "      <td>0.0</td>\n",
       "      <td>0.0</td>\n",
       "      <td>0.0</td>\n",
       "      <td>0.0</td>\n",
       "      <td>0.0</td>\n",
       "      <td>0.0</td>\n",
       "      <td>0.0</td>\n",
       "      <td>0.000000</td>\n",
       "    </tr>\n",
       "    <tr>\n",
       "      <th>1</th>\n",
       "      <td>0.001570</td>\n",
       "      <td>0.001369</td>\n",
       "      <td>0.001061</td>\n",
       "      <td>0.004499</td>\n",
       "      <td>0.0</td>\n",
       "      <td>0.0</td>\n",
       "      <td>0.0</td>\n",
       "      <td>0.0</td>\n",
       "      <td>0.0</td>\n",
       "      <td>0.0</td>\n",
       "      <td>0.0</td>\n",
       "      <td>0.0</td>\n",
       "      <td>0.0</td>\n",
       "      <td>0.0</td>\n",
       "      <td>0.000612</td>\n",
       "    </tr>\n",
       "    <tr>\n",
       "      <th>2</th>\n",
       "      <td>0.000707</td>\n",
       "      <td>0.000236</td>\n",
       "      <td>0.000000</td>\n",
       "      <td>0.001734</td>\n",
       "      <td>0.0</td>\n",
       "      <td>0.0</td>\n",
       "      <td>0.0</td>\n",
       "      <td>0.0</td>\n",
       "      <td>0.0</td>\n",
       "      <td>0.0</td>\n",
       "      <td>0.0</td>\n",
       "      <td>0.0</td>\n",
       "      <td>0.0</td>\n",
       "      <td>0.0</td>\n",
       "      <td>0.000000</td>\n",
       "    </tr>\n",
       "    <tr>\n",
       "      <th>3</th>\n",
       "      <td>0.000365</td>\n",
       "      <td>0.000219</td>\n",
       "      <td>0.000126</td>\n",
       "      <td>0.000768</td>\n",
       "      <td>0.0</td>\n",
       "      <td>0.0</td>\n",
       "      <td>0.0</td>\n",
       "      <td>0.0</td>\n",
       "      <td>0.0</td>\n",
       "      <td>0.0</td>\n",
       "      <td>0.0</td>\n",
       "      <td>0.0</td>\n",
       "      <td>0.0</td>\n",
       "      <td>0.0</td>\n",
       "      <td>0.000000</td>\n",
       "    </tr>\n",
       "    <tr>\n",
       "      <th>4</th>\n",
       "      <td>0.000072</td>\n",
       "      <td>0.000048</td>\n",
       "      <td>0.000034</td>\n",
       "      <td>0.000156</td>\n",
       "      <td>0.0</td>\n",
       "      <td>0.0</td>\n",
       "      <td>0.0</td>\n",
       "      <td>0.0</td>\n",
       "      <td>0.0</td>\n",
       "      <td>0.0</td>\n",
       "      <td>0.0</td>\n",
       "      <td>0.0</td>\n",
       "      <td>0.0</td>\n",
       "      <td>0.0</td>\n",
       "      <td>0.000024</td>\n",
       "    </tr>\n",
       "    <tr>\n",
       "      <th>...</th>\n",
       "      <td>...</td>\n",
       "      <td>...</td>\n",
       "      <td>...</td>\n",
       "      <td>...</td>\n",
       "      <td>...</td>\n",
       "      <td>...</td>\n",
       "      <td>...</td>\n",
       "      <td>...</td>\n",
       "      <td>...</td>\n",
       "      <td>...</td>\n",
       "      <td>...</td>\n",
       "      <td>...</td>\n",
       "      <td>...</td>\n",
       "      <td>...</td>\n",
       "      <td>...</td>\n",
       "    </tr>\n",
       "    <tr>\n",
       "      <th>99995</th>\n",
       "      <td>0.000472</td>\n",
       "      <td>0.000293</td>\n",
       "      <td>0.000000</td>\n",
       "      <td>0.002012</td>\n",
       "      <td>0.0</td>\n",
       "      <td>0.0</td>\n",
       "      <td>0.0</td>\n",
       "      <td>0.0</td>\n",
       "      <td>0.0</td>\n",
       "      <td>0.0</td>\n",
       "      <td>0.0</td>\n",
       "      <td>0.0</td>\n",
       "      <td>0.0</td>\n",
       "      <td>0.0</td>\n",
       "      <td>0.000293</td>\n",
       "    </tr>\n",
       "    <tr>\n",
       "      <th>99996</th>\n",
       "      <td>0.000275</td>\n",
       "      <td>0.000169</td>\n",
       "      <td>0.000120</td>\n",
       "      <td>0.000627</td>\n",
       "      <td>0.0</td>\n",
       "      <td>0.0</td>\n",
       "      <td>0.0</td>\n",
       "      <td>0.0</td>\n",
       "      <td>0.0</td>\n",
       "      <td>0.0</td>\n",
       "      <td>0.0</td>\n",
       "      <td>0.0</td>\n",
       "      <td>0.0</td>\n",
       "      <td>0.0</td>\n",
       "      <td>0.000000</td>\n",
       "    </tr>\n",
       "    <tr>\n",
       "      <th>99997</th>\n",
       "      <td>0.011232</td>\n",
       "      <td>0.006269</td>\n",
       "      <td>0.000000</td>\n",
       "      <td>0.029404</td>\n",
       "      <td>0.0</td>\n",
       "      <td>0.0</td>\n",
       "      <td>0.0</td>\n",
       "      <td>0.0</td>\n",
       "      <td>0.0</td>\n",
       "      <td>0.0</td>\n",
       "      <td>0.0</td>\n",
       "      <td>0.0</td>\n",
       "      <td>0.0</td>\n",
       "      <td>0.0</td>\n",
       "      <td>0.000000</td>\n",
       "    </tr>\n",
       "    <tr>\n",
       "      <th>99998</th>\n",
       "      <td>0.001246</td>\n",
       "      <td>0.000983</td>\n",
       "      <td>0.000000</td>\n",
       "      <td>0.003335</td>\n",
       "      <td>0.0</td>\n",
       "      <td>0.0</td>\n",
       "      <td>0.0</td>\n",
       "      <td>0.0</td>\n",
       "      <td>0.0</td>\n",
       "      <td>0.0</td>\n",
       "      <td>0.0</td>\n",
       "      <td>0.0</td>\n",
       "      <td>0.0</td>\n",
       "      <td>0.0</td>\n",
       "      <td>0.000695</td>\n",
       "    </tr>\n",
       "    <tr>\n",
       "      <th>99999</th>\n",
       "      <td>0.000805</td>\n",
       "      <td>0.000500</td>\n",
       "      <td>0.000000</td>\n",
       "      <td>0.004582</td>\n",
       "      <td>0.0</td>\n",
       "      <td>0.0</td>\n",
       "      <td>0.0</td>\n",
       "      <td>0.0</td>\n",
       "      <td>0.0</td>\n",
       "      <td>0.0</td>\n",
       "      <td>0.0</td>\n",
       "      <td>0.0</td>\n",
       "      <td>0.0</td>\n",
       "      <td>0.0</td>\n",
       "      <td>0.000000</td>\n",
       "    </tr>\n",
       "  </tbody>\n",
       "</table>\n",
       "<p>100000 rows × 15 columns</p>\n",
       "</div>"
      ],
      "text/plain": [
       "       anciennete  NB_PARTENAIRES  nb_mineurs     csp_1  top_pro  top_PDG  \\\n",
       "0        0.323760        0.103256    0.000000  0.744592      0.0      0.0   \n",
       "1        0.001570        0.001369    0.001061  0.004499      0.0      0.0   \n",
       "2        0.000707        0.000236    0.000000  0.001734      0.0      0.0   \n",
       "3        0.000365        0.000219    0.000126  0.000768      0.0      0.0   \n",
       "4        0.000072        0.000048    0.000034  0.000156      0.0      0.0   \n",
       "...           ...             ...         ...       ...      ...      ...   \n",
       "99995    0.000472        0.000293    0.000000  0.002012      0.0      0.0   \n",
       "99996    0.000275        0.000169    0.000120  0.000627      0.0      0.0   \n",
       "99997    0.011232        0.006269    0.000000  0.029404      0.0      0.0   \n",
       "99998    0.001246        0.000983    0.000000  0.003335      0.0      0.0   \n",
       "99999    0.000805        0.000500    0.000000  0.004582      0.0      0.0   \n",
       "\n",
       "       top_PRESIDENT  top_DIRECTEUR_GENERAL  top_GERANT  top_ADMINISTRATEUR  \\\n",
       "0                0.0                    0.0         0.0                 0.0   \n",
       "1                0.0                    0.0         0.0                 0.0   \n",
       "2                0.0                    0.0         0.0                 0.0   \n",
       "3                0.0                    0.0         0.0                 0.0   \n",
       "4                0.0                    0.0         0.0                 0.0   \n",
       "...              ...                    ...         ...                 ...   \n",
       "99995            0.0                    0.0         0.0                 0.0   \n",
       "99996            0.0                    0.0         0.0                 0.0   \n",
       "99997            0.0                    0.0         0.0                 0.0   \n",
       "99998            0.0                    0.0         0.0                 0.0   \n",
       "99999            0.0                    0.0         0.0                 0.0   \n",
       "\n",
       "       top_TRESORIER  top_COMMANDITAIRE  nouveau_societaire_M  \\\n",
       "0                0.0                0.0                   0.0   \n",
       "1                0.0                0.0                   0.0   \n",
       "2                0.0                0.0                   0.0   \n",
       "3                0.0                0.0                   0.0   \n",
       "4                0.0                0.0                   0.0   \n",
       "...              ...                ...                   ...   \n",
       "99995            0.0                0.0                   0.0   \n",
       "99996            0.0                0.0                   0.0   \n",
       "99997            0.0                0.0                   0.0   \n",
       "99998            0.0                0.0                   0.0   \n",
       "99999            0.0                0.0                   0.0   \n",
       "\n",
       "       perte_societaire_M  societaire_M  \n",
       "0                     0.0      0.000000  \n",
       "1                     0.0      0.000612  \n",
       "2                     0.0      0.000000  \n",
       "3                     0.0      0.000000  \n",
       "4                     0.0      0.000024  \n",
       "...                   ...           ...  \n",
       "99995                 0.0      0.000293  \n",
       "99996                 0.0      0.000000  \n",
       "99997                 0.0      0.000000  \n",
       "99998                 0.0      0.000695  \n",
       "99999                 0.0      0.000000  \n",
       "\n",
       "[100000 rows x 15 columns]"
      ]
     },
     "execution_count": 20,
     "metadata": {},
     "output_type": "execute_result"
    }
   ],
   "source": [
    "df_signa = df[signa_array]\n",
    "#df_eco = pd.concat([df2, df1], axis=1)\n",
    "df_signa"
   ]
  },
  {
   "cell_type": "markdown",
   "id": "gentle-wales",
   "metadata": {},
   "source": [
    "# Abod Cat: SIGNA "
   ]
  },
  {
   "cell_type": "code",
   "execution_count": 81,
   "id": "traditional-hopkins",
   "metadata": {},
   "outputs": [
    {
     "data": {
      "text/plain": [
       "<Figure size 1440x1080 with 0 Axes>"
      ]
     },
     "execution_count": 81,
     "metadata": {},
     "output_type": "execute_result"
    },
    {
     "data": {
      "text/plain": [
       "<Figure size 1440x1080 with 0 Axes>"
      ]
     },
     "metadata": {},
     "output_type": "display_data"
    }
   ],
   "source": [
    "outliers_fraction = 0.01\n",
    "clf = ABOD(contamination=outliers_fraction,n_neighbors = 5)\n",
    "xx , yy = np.meshgrid(np.linspace(0, 1, 100), np.linspace(0, 1, 100))\n",
    "plt.figure(figsize=(20, 15))"
   ]
  },
  {
   "cell_type": "code",
   "execution_count": 82,
   "id": "ignored-abuse",
   "metadata": {},
   "outputs": [
    {
     "name": "stderr",
     "output_type": "stream",
     "text": [
      "C:\\Python\\lib\\site-packages\\numpy\\core\\fromnumeric.py:3723: RuntimeWarning: Degrees of freedom <= 0 for slice\n",
      "  return _methods._var(a, axis=axis, dtype=dtype, out=out, ddof=ddof,\n",
      "C:\\Python\\lib\\site-packages\\numpy\\core\\_methods.py:222: RuntimeWarning: invalid value encountered in true_divide\n",
      "  arrmean = um.true_divide(arrmean, div, out=arrmean, casting='unsafe',\n",
      "C:\\Python\\lib\\site-packages\\numpy\\core\\_methods.py:254: RuntimeWarning: invalid value encountered in double_scalars\n",
      "  ret = ret.dtype.type(ret / rcount)\n"
     ]
    },
    {
     "data": {
      "text/plain": [
       "ABOD(contamination=0.01, method='fast', n_neighbors=5)"
      ]
     },
     "execution_count": 82,
     "metadata": {},
     "output_type": "execute_result"
    }
   ],
   "source": [
    "clf.fit(df_signa)"
   ]
  },
  {
   "cell_type": "code",
   "execution_count": null,
   "id": "joined-solomon",
   "metadata": {},
   "outputs": [],
   "source": [
    "score_pred = clf.decision_scores_*-1\n",
    "score_pred = np.nan_to_num(score_pred) \n",
    "score_pred"
   ]
  },
  {
   "cell_type": "code",
   "execution_count": 83,
   "id": "freelance-anime",
   "metadata": {},
   "outputs": [
    {
     "name": "stderr",
     "output_type": "stream",
     "text": [
      "C:\\Python\\lib\\site-packages\\numpy\\core\\fromnumeric.py:3723: RuntimeWarning: Degrees of freedom <= 0 for slice\n",
      "  return _methods._var(a, axis=axis, dtype=dtype, out=out, ddof=ddof,\n",
      "C:\\Python\\lib\\site-packages\\numpy\\core\\_methods.py:222: RuntimeWarning: invalid value encountered in true_divide\n",
      "  arrmean = um.true_divide(arrmean, div, out=arrmean, casting='unsafe',\n",
      "C:\\Python\\lib\\site-packages\\numpy\\core\\_methods.py:254: RuntimeWarning: invalid value encountered in double_scalars\n",
      "  ret = ret.dtype.type(ret / rcount)\n"
     ]
    },
    {
     "data": {
      "text/plain": [
       "array([0, 0, 0, ..., 0, 0, 0])"
      ]
     },
     "execution_count": 83,
     "metadata": {},
     "output_type": "execute_result"
    }
   ],
   "source": [
    "y_pred = clf.predict(df_signa)\n",
    "y_pred"
   ]
  },
  {
   "cell_type": "code",
   "execution_count": 84,
   "id": "rubber-notice",
   "metadata": {},
   "outputs": [
    {
     "name": "stderr",
     "output_type": "stream",
     "text": [
      "<ipython-input-20-57658cd24934>:3: RuntimeWarning: invalid value encountered in true_divide\n",
      "  f1_score = 2 * precision * recall / (precision + recall)\n"
     ]
    },
    {
     "data": {
      "image/png": "[encoded data removed]",
      "text/plain": [
       "<Figure size 432x288 with 1 Axes>"
      ]
     },
     "metadata": {
      "needs_background": "light"
     },
     "output_type": "display_data"
    },
    {
     "name": "stdout",
     "output_type": "stream",
     "text": [
      "Air sous la courbe :  0.001252606385929021\n"
     ]
    }
   ],
   "source": [
    "value, f1_score, precision, recall = evaluation(score_pred, data[\"TOP_FRAUDE\"], display=True)\n",
    "print(\"Air sous la courbe : \", value)  "
   ]
  },
  {
   "cell_type": "markdown",
   "id": "fifty-generator",
   "metadata": {},
   "source": [
    "# LOF --Cat:Signa"
   ]
  },
  {
   "cell_type": "code",
   "execution_count": 85,
   "id": "forbidden-vision",
   "metadata": {},
   "outputs": [
    {
     "data": {
      "text/plain": [
       "LOF(algorithm='auto', contamination=0.1, leaf_size=30, metric='minkowski',\n",
       "  metric_params=None, n_jobs=1, n_neighbors=20, novelty=True, p=2)"
      ]
     },
     "execution_count": 85,
     "metadata": {},
     "output_type": "execute_result"
    }
   ],
   "source": [
    "clf_name = 'LOF'\n",
    "clf = LOF()\n",
    "clf.fit(df_signa)"
   ]
  },
  {
   "cell_type": "code",
   "execution_count": 86,
   "id": "australian-belarus",
   "metadata": {},
   "outputs": [],
   "source": [
    "y_pred = clf.labels_\n",
    "y_scores = clf.decision_scores_"
   ]
  },
  {
   "cell_type": "code",
   "execution_count": 87,
   "id": "transsexual-satellite",
   "metadata": {},
   "outputs": [
    {
     "name": "stderr",
     "output_type": "stream",
     "text": [
      "<ipython-input-20-57658cd24934>:3: RuntimeWarning: invalid value encountered in true_divide\n",
      "  f1_score = 2 * precision * recall / (precision + recall)\n"
     ]
    },
    {
     "data": {
      "image/png": "[encoded data removed]",
      "text/plain": [
       "<Figure size 432x288 with 1 Axes>"
      ]
     },
     "metadata": {
      "needs_background": "light"
     },
     "output_type": "display_data"
    },
    {
     "name": "stdout",
     "output_type": "stream",
     "text": [
      "Air sous la courbe :  0.0015158938941935984\n"
     ]
    }
   ],
   "source": [
    "value, f1_score, precision, recall = evaluation(y_scores, data[\"TOP_FRAUDE\"], display=True)\n",
    "print(\"Air sous la courbe : \", value)  "
   ]
  },
  {
   "cell_type": "code",
   "execution_count": 51,
   "id": "abandoned-howard",
   "metadata": {},
   "outputs": [
    {
     "name": "stdout",
     "output_type": "stream",
     "text": [
      "TN / FP \n",
      "FN / TP\n",
      "[[99651   200]\n",
      " [  149     0]]\n",
      "Precision : 0.0\n",
      "Recall : 0.0\n",
      "F1_Score : nan\n"
     ]
    },
    {
     "name": "stderr",
     "output_type": "stream",
     "text": [
      "<ipython-input-9-2c33566eaa1e>:21: RuntimeWarning: invalid value encountered in double_scalars\n",
      "  f1_score = 2 * precision * recall / (precision + recall)\n"
     ]
    }
   ],
   "source": [
    " tn, fp, fn, tp = evaluation3(y_scores , data['TOP_FRAUDE'],0.2)"
   ]
  },
  {
   "cell_type": "markdown",
   "id": "periodic-pantyhose",
   "metadata": {},
   "source": [
    "# IFOREST-Cat:SIGNA"
   ]
  },
  {
   "cell_type": "code",
   "execution_count": 52,
   "id": "saving-maintenance",
   "metadata": {},
   "outputs": [
    {
     "name": "stderr",
     "output_type": "stream",
     "text": [
      "ERROR:root:Internal Python error in the inspect module.\n",
      "Below is the traceback from this internal error.\n",
      "\n"
     ]
    },
    {
     "name": "stdout",
     "output_type": "stream",
     "text": [
      "Traceback (most recent call last):\n",
      "  File \"C:\\Python\\lib\\site-packages\\IPython\\core\\interactiveshell.py\", line 3437, in run_code\n",
      "    exec(code_obj, self.user_global_ns, self.user_ns)\n",
      "  File \"<ipython-input-52-9b6e134375d1>\", line 3, in <module>\n",
      "    clf.fit(df_signa)\n",
      "  File \"C:\\Python\\lib\\site-packages\\pyod\\models\\iforest.py\", line 230, in fit\n",
      "    self.detector_.fit(X=X, y=None, sample_weight=None)\n",
      "  File \"C:\\Python\\lib\\site-packages\\sklearn\\ensemble\\_iforest.py\", line 289, in fit\n",
      "    self.offset_ = np.percentile(self.score_samples(X),\n",
      "  File \"C:\\Python\\lib\\site-packages\\sklearn\\ensemble\\_iforest.py\", line 387, in score_samples\n",
      "    return -self._compute_chunked_score_samples(X)\n",
      "  File \"C:\\Python\\lib\\site-packages\\sklearn\\ensemble\\_iforest.py\", line 417, in _compute_chunked_score_samples\n",
      "    scores[sl] = self._compute_score_samples(X[sl], subsample_features)\n",
      "  File \"C:\\Python\\lib\\site-packages\\sklearn\\ensemble\\_iforest.py\", line 441, in _compute_score_samples\n",
      "    node_indicator = tree.decision_path(X_subset)\n",
      "  File \"C:\\Python\\lib\\site-packages\\sklearn\\tree\\_classes.py\", line 521, in decision_path\n",
      "    return self.tree_.decision_path(X)\n",
      "  File \"sklearn\\tree\\_tree.pyx\", line 891, in sklearn.tree._tree.Tree.decision_path\n",
      "  File \"sklearn\\tree\\_tree.pyx\", line 896, in sklearn.tree._tree.Tree.decision_path\n",
      "  File \"sklearn\\tree\\_tree.pyx\", line 947, in sklearn.tree._tree.Tree._decision_path_dense\n",
      "  File \"C:\\Python\\lib\\site-packages\\numpy\\core\\numeric.py\", line 149, in ones\n",
      "    @set_array_function_like_doc\n",
      "KeyboardInterrupt\n",
      "\n",
      "During handling of the above exception, another exception occurred:\n",
      "\n",
      "Traceback (most recent call last):\n",
      "  File \"C:\\Python\\lib\\site-packages\\IPython\\core\\interactiveshell.py\", line 2061, in showtraceback\n",
      "    stb = value._render_traceback_()\n",
      "AttributeError: 'KeyboardInterrupt' object has no attribute '_render_traceback_'\n",
      "\n",
      "During handling of the above exception, another exception occurred:\n",
      "\n",
      "Traceback (most recent call last):\n",
      "  File \"C:\\Python\\lib\\site-packages\\IPython\\core\\ultratb.py\", line 1101, in get_records\n",
      "    return _fixed_getinnerframes(etb, number_of_lines_of_context, tb_offset)\n",
      "  File \"C:\\Python\\lib\\site-packages\\IPython\\core\\ultratb.py\", line 248, in wrapped\n",
      "    return f(*args, **kwargs)\n",
      "  File \"C:\\Python\\lib\\site-packages\\IPython\\core\\ultratb.py\", line 281, in _fixed_getinnerframes\n",
      "    records = fix_frame_records_filenames(inspect.getinnerframes(etb, context))\n",
      "  File \"C:\\Python\\lib\\inspect.py\", line 1503, in getinnerframes\n",
      "    frameinfo = (tb.tb_frame,) + getframeinfo(tb, context)\n",
      "  File \"C:\\Python\\lib\\inspect.py\", line 1465, in getframeinfo\n",
      "    lines, lnum = findsource(frame)\n",
      "  File \"C:\\Python\\lib\\site-packages\\IPython\\core\\ultratb.py\", line 182, in findsource\n",
      "    lines = linecache.getlines(file, globals_dict)\n",
      "  File \"C:\\Python\\lib\\linecache.py\", line 47, in getlines\n",
      "    return updatecache(filename, module_globals)\n",
      "  File \"C:\\Python\\lib\\linecache.py\", line 136, in updatecache\n",
      "    with tokenize.open(fullname) as fp:\n",
      "  File \"C:\\Python\\lib\\tokenize.py\", line 394, in open\n",
      "    encoding, lines = detect_encoding(buffer.readline)\n",
      "  File \"C:\\Python\\lib\\tokenize.py\", line 363, in detect_encoding\n",
      "    first = read_or_stop()\n",
      "  File \"C:\\Python\\lib\\tokenize.py\", line 321, in read_or_stop\n",
      "    return readline()\n",
      "KeyboardInterrupt\n"
     ]
    },
    {
     "ename": "TypeError",
     "evalue": "object of type 'NoneType' has no len()",
     "output_type": "error",
     "traceback": [
      "\u001b[1;31m---------------------------------------------------------------------------\u001b[0m",
      "\u001b[1;31mKeyboardInterrupt\u001b[0m                         Traceback (most recent call last)",
      "    \u001b[1;31m[... skipping hidden 1 frame]\u001b[0m\n",
      "\u001b[1;32m<ipython-input-52-9b6e134375d1>\u001b[0m in \u001b[0;36m<module>\u001b[1;34m\u001b[0m\n\u001b[0;32m      2\u001b[0m \u001b[0mclf\u001b[0m \u001b[1;33m=\u001b[0m \u001b[0mIForest\u001b[0m\u001b[1;33m(\u001b[0m\u001b[1;33m)\u001b[0m\u001b[1;33m\u001b[0m\u001b[1;33m\u001b[0m\u001b[0m\n\u001b[1;32m----> 3\u001b[1;33m \u001b[0mclf\u001b[0m\u001b[1;33m.\u001b[0m\u001b[0mfit\u001b[0m\u001b[1;33m(\u001b[0m\u001b[0mdf_signa\u001b[0m\u001b[1;33m)\u001b[0m\u001b[1;33m\u001b[0m\u001b[1;33m\u001b[0m\u001b[0m\n\u001b[0m",
      "\u001b[1;32mC:\\Python\\lib\\site-packages\\pyod\\models\\iforest.py\u001b[0m in \u001b[0;36mfit\u001b[1;34m(self, X, y)\u001b[0m\n\u001b[0;32m    229\u001b[0m \u001b[1;33m\u001b[0m\u001b[0m\n\u001b[1;32m--> 230\u001b[1;33m         \u001b[0mself\u001b[0m\u001b[1;33m.\u001b[0m\u001b[0mdetector_\u001b[0m\u001b[1;33m.\u001b[0m\u001b[0mfit\u001b[0m\u001b[1;33m(\u001b[0m\u001b[0mX\u001b[0m\u001b[1;33m=\u001b[0m\u001b[0mX\u001b[0m\u001b[1;33m,\u001b[0m \u001b[0my\u001b[0m\u001b[1;33m=\u001b[0m\u001b[1;32mNone\u001b[0m\u001b[1;33m,\u001b[0m \u001b[0msample_weight\u001b[0m\u001b[1;33m=\u001b[0m\u001b[1;32mNone\u001b[0m\u001b[1;33m)\u001b[0m\u001b[1;33m\u001b[0m\u001b[1;33m\u001b[0m\u001b[0m\n\u001b[0m\u001b[0;32m    231\u001b[0m \u001b[1;33m\u001b[0m\u001b[0m\n",
      "\u001b[1;32mC:\\Python\\lib\\site-packages\\sklearn\\ensemble\\_iforest.py\u001b[0m in \u001b[0;36mfit\u001b[1;34m(self, X, y, sample_weight)\u001b[0m\n\u001b[0;32m    288\u001b[0m         \u001b[1;31m# else, define offset_ wrt contamination parameter\u001b[0m\u001b[1;33m\u001b[0m\u001b[1;33m\u001b[0m\u001b[1;33m\u001b[0m\u001b[0m\n\u001b[1;32m--> 289\u001b[1;33m         self.offset_ = np.percentile(self.score_samples(X),\n\u001b[0m\u001b[0;32m    290\u001b[0m                                      100. * self.contamination)\n",
      "\u001b[1;32mC:\\Python\\lib\\site-packages\\sklearn\\ensemble\\_iforest.py\u001b[0m in \u001b[0;36mscore_samples\u001b[1;34m(self, X)\u001b[0m\n\u001b[0;32m    386\u001b[0m         \u001b[1;31m# abnormal)\u001b[0m\u001b[1;33m\u001b[0m\u001b[1;33m\u001b[0m\u001b[1;33m\u001b[0m\u001b[0m\n\u001b[1;32m--> 387\u001b[1;33m         \u001b[1;32mreturn\u001b[0m \u001b[1;33m-\u001b[0m\u001b[0mself\u001b[0m\u001b[1;33m.\u001b[0m\u001b[0m_compute_chunked_score_samples\u001b[0m\u001b[1;33m(\u001b[0m\u001b[0mX\u001b[0m\u001b[1;33m)\u001b[0m\u001b[1;33m\u001b[0m\u001b[1;33m\u001b[0m\u001b[0m\n\u001b[0m\u001b[0;32m    388\u001b[0m \u001b[1;33m\u001b[0m\u001b[0m\n",
      "\u001b[1;32mC:\\Python\\lib\\site-packages\\sklearn\\ensemble\\_iforest.py\u001b[0m in \u001b[0;36m_compute_chunked_score_samples\u001b[1;34m(self, X)\u001b[0m\n\u001b[0;32m    416\u001b[0m             \u001b[1;31m# compute score on the slices of test samples:\u001b[0m\u001b[1;33m\u001b[0m\u001b[1;33m\u001b[0m\u001b[1;33m\u001b[0m\u001b[0m\n\u001b[1;32m--> 417\u001b[1;33m             \u001b[0mscores\u001b[0m\u001b[1;33m[\u001b[0m\u001b[0msl\u001b[0m\u001b[1;33m]\u001b[0m \u001b[1;33m=\u001b[0m \u001b[0mself\u001b[0m\u001b[1;33m.\u001b[0m\u001b[0m_compute_score_samples\u001b[0m\u001b[1;33m(\u001b[0m\u001b[0mX\u001b[0m\u001b[1;33m[\u001b[0m\u001b[0msl\u001b[0m\u001b[1;33m]\u001b[0m\u001b[1;33m,\u001b[0m \u001b[0msubsample_features\u001b[0m\u001b[1;33m)\u001b[0m\u001b[1;33m\u001b[0m\u001b[1;33m\u001b[0m\u001b[0m\n\u001b[0m\u001b[0;32m    418\u001b[0m \u001b[1;33m\u001b[0m\u001b[0m\n",
      "\u001b[1;32mC:\\Python\\lib\\site-packages\\sklearn\\ensemble\\_iforest.py\u001b[0m in \u001b[0;36m_compute_score_samples\u001b[1;34m(self, X, subsample_features)\u001b[0m\n\u001b[0;32m    440\u001b[0m             \u001b[0mleaves_index\u001b[0m \u001b[1;33m=\u001b[0m \u001b[0mtree\u001b[0m\u001b[1;33m.\u001b[0m\u001b[0mapply\u001b[0m\u001b[1;33m(\u001b[0m\u001b[0mX_subset\u001b[0m\u001b[1;33m)\u001b[0m\u001b[1;33m\u001b[0m\u001b[1;33m\u001b[0m\u001b[0m\n\u001b[1;32m--> 441\u001b[1;33m             \u001b[0mnode_indicator\u001b[0m \u001b[1;33m=\u001b[0m \u001b[0mtree\u001b[0m\u001b[1;33m.\u001b[0m\u001b[0mdecision_path\u001b[0m\u001b[1;33m(\u001b[0m\u001b[0mX_subset\u001b[0m\u001b[1;33m)\u001b[0m\u001b[1;33m\u001b[0m\u001b[1;33m\u001b[0m\u001b[0m\n\u001b[0m\u001b[0;32m    442\u001b[0m             \u001b[0mn_samples_leaf\u001b[0m \u001b[1;33m=\u001b[0m \u001b[0mtree\u001b[0m\u001b[1;33m.\u001b[0m\u001b[0mtree_\u001b[0m\u001b[1;33m.\u001b[0m\u001b[0mn_node_samples\u001b[0m\u001b[1;33m[\u001b[0m\u001b[0mleaves_index\u001b[0m\u001b[1;33m]\u001b[0m\u001b[1;33m\u001b[0m\u001b[1;33m\u001b[0m\u001b[0m\n",
      "\u001b[1;32mC:\\Python\\lib\\site-packages\\sklearn\\tree\\_classes.py\u001b[0m in \u001b[0;36mdecision_path\u001b[1;34m(self, X, check_input)\u001b[0m\n\u001b[0;32m    520\u001b[0m         \u001b[0mX\u001b[0m \u001b[1;33m=\u001b[0m \u001b[0mself\u001b[0m\u001b[1;33m.\u001b[0m\u001b[0m_validate_X_predict\u001b[0m\u001b[1;33m(\u001b[0m\u001b[0mX\u001b[0m\u001b[1;33m,\u001b[0m \u001b[0mcheck_input\u001b[0m\u001b[1;33m)\u001b[0m\u001b[1;33m\u001b[0m\u001b[1;33m\u001b[0m\u001b[0m\n\u001b[1;32m--> 521\u001b[1;33m         \u001b[1;32mreturn\u001b[0m \u001b[0mself\u001b[0m\u001b[1;33m.\u001b[0m\u001b[0mtree_\u001b[0m\u001b[1;33m.\u001b[0m\u001b[0mdecision_path\u001b[0m\u001b[1;33m(\u001b[0m\u001b[0mX\u001b[0m\u001b[1;33m)\u001b[0m\u001b[1;33m\u001b[0m\u001b[1;33m\u001b[0m\u001b[0m\n\u001b[0m\u001b[0;32m    522\u001b[0m \u001b[1;33m\u001b[0m\u001b[0m\n",
      "\u001b[1;32msklearn\\tree\\_tree.pyx\u001b[0m in \u001b[0;36msklearn.tree._tree.Tree.decision_path\u001b[1;34m()\u001b[0m\n",
      "\u001b[1;32msklearn\\tree\\_tree.pyx\u001b[0m in \u001b[0;36msklearn.tree._tree.Tree.decision_path\u001b[1;34m()\u001b[0m\n",
      "\u001b[1;32msklearn\\tree\\_tree.pyx\u001b[0m in \u001b[0;36msklearn.tree._tree.Tree._decision_path_dense\u001b[1;34m()\u001b[0m\n",
      "\u001b[1;32mC:\\Python\\lib\\site-packages\\numpy\\core\\numeric.py\u001b[0m in \u001b[0;36mones\u001b[1;34m(shape, dtype, order, like)\u001b[0m\n\u001b[0;32m    148\u001b[0m \u001b[1;33m\u001b[0m\u001b[0m\n\u001b[1;32m--> 149\u001b[1;33m \u001b[1;33m@\u001b[0m\u001b[0mset_array_function_like_doc\u001b[0m\u001b[1;33m\u001b[0m\u001b[1;33m\u001b[0m\u001b[0m\n\u001b[0m\u001b[0;32m    150\u001b[0m \u001b[1;33m@\u001b[0m\u001b[0mset_module\u001b[0m\u001b[1;33m(\u001b[0m\u001b[1;34m'numpy'\u001b[0m\u001b[1;33m)\u001b[0m\u001b[1;33m\u001b[0m\u001b[1;33m\u001b[0m\u001b[0m\n",
      "\u001b[1;31mKeyboardInterrupt\u001b[0m: ",
      "\nDuring handling of the above exception, another exception occurred:\n",
      "\u001b[1;31mAttributeError\u001b[0m                            Traceback (most recent call last)",
      "\u001b[1;32mC:\\Python\\lib\\site-packages\\IPython\\core\\interactiveshell.py\u001b[0m in \u001b[0;36mshowtraceback\u001b[1;34m(self, exc_tuple, filename, tb_offset, exception_only, running_compiled_code)\u001b[0m\n\u001b[0;32m   2060\u001b[0m                         \u001b[1;31m# in the engines. This should return a list of strings.\u001b[0m\u001b[1;33m\u001b[0m\u001b[1;33m\u001b[0m\u001b[1;33m\u001b[0m\u001b[0m\n\u001b[1;32m-> 2061\u001b[1;33m                         \u001b[0mstb\u001b[0m \u001b[1;33m=\u001b[0m \u001b[0mvalue\u001b[0m\u001b[1;33m.\u001b[0m\u001b[0m_render_traceback_\u001b[0m\u001b[1;33m(\u001b[0m\u001b[1;33m)\u001b[0m\u001b[1;33m\u001b[0m\u001b[1;33m\u001b[0m\u001b[0m\n\u001b[0m\u001b[0;32m   2062\u001b[0m                     \u001b[1;32mexcept\u001b[0m \u001b[0mException\u001b[0m\u001b[1;33m:\u001b[0m\u001b[1;33m\u001b[0m\u001b[1;33m\u001b[0m\u001b[0m\n",
      "\u001b[1;31mAttributeError\u001b[0m: 'KeyboardInterrupt' object has no attribute '_render_traceback_'",
      "\nDuring handling of the above exception, another exception occurred:\n",
      "\u001b[1;31mTypeError\u001b[0m                                 Traceback (most recent call last)",
      "    \u001b[1;31m[... skipping hidden 1 frame]\u001b[0m\n",
      "\u001b[1;32mC:\\Python\\lib\\site-packages\\IPython\\core\\interactiveshell.py\u001b[0m in \u001b[0;36mshowtraceback\u001b[1;34m(self, exc_tuple, filename, tb_offset, exception_only, running_compiled_code)\u001b[0m\n\u001b[0;32m   2061\u001b[0m                         \u001b[0mstb\u001b[0m \u001b[1;33m=\u001b[0m \u001b[0mvalue\u001b[0m\u001b[1;33m.\u001b[0m\u001b[0m_render_traceback_\u001b[0m\u001b[1;33m(\u001b[0m\u001b[1;33m)\u001b[0m\u001b[1;33m\u001b[0m\u001b[1;33m\u001b[0m\u001b[0m\n\u001b[0;32m   2062\u001b[0m                     \u001b[1;32mexcept\u001b[0m \u001b[0mException\u001b[0m\u001b[1;33m:\u001b[0m\u001b[1;33m\u001b[0m\u001b[1;33m\u001b[0m\u001b[0m\n\u001b[1;32m-> 2063\u001b[1;33m                         stb = self.InteractiveTB.structured_traceback(etype,\n\u001b[0m\u001b[0;32m   2064\u001b[0m                                             value, tb, tb_offset=tb_offset)\n\u001b[0;32m   2065\u001b[0m \u001b[1;33m\u001b[0m\u001b[0m\n",
      "\u001b[1;32mC:\\Python\\lib\\site-packages\\IPython\\core\\ultratb.py\u001b[0m in \u001b[0;36mstructured_traceback\u001b[1;34m(self, etype, value, tb, tb_offset, number_of_lines_of_context)\u001b[0m\n\u001b[0;32m   1365\u001b[0m         \u001b[1;32melse\u001b[0m\u001b[1;33m:\u001b[0m\u001b[1;33m\u001b[0m\u001b[1;33m\u001b[0m\u001b[0m\n\u001b[0;32m   1366\u001b[0m             \u001b[0mself\u001b[0m\u001b[1;33m.\u001b[0m\u001b[0mtb\u001b[0m \u001b[1;33m=\u001b[0m \u001b[0mtb\u001b[0m\u001b[1;33m\u001b[0m\u001b[1;33m\u001b[0m\u001b[0m\n\u001b[1;32m-> 1367\u001b[1;33m         return FormattedTB.structured_traceback(\n\u001b[0m\u001b[0;32m   1368\u001b[0m             self, etype, value, tb, tb_offset, number_of_lines_of_context)\n\u001b[0;32m   1369\u001b[0m \u001b[1;33m\u001b[0m\u001b[0m\n",
      "\u001b[1;32mC:\\Python\\lib\\site-packages\\IPython\\core\\ultratb.py\u001b[0m in \u001b[0;36mstructured_traceback\u001b[1;34m(self, etype, value, tb, tb_offset, number_of_lines_of_context)\u001b[0m\n\u001b[0;32m   1265\u001b[0m         \u001b[1;32mif\u001b[0m \u001b[0mmode\u001b[0m \u001b[1;32min\u001b[0m \u001b[0mself\u001b[0m\u001b[1;33m.\u001b[0m\u001b[0mverbose_modes\u001b[0m\u001b[1;33m:\u001b[0m\u001b[1;33m\u001b[0m\u001b[1;33m\u001b[0m\u001b[0m\n\u001b[0;32m   1266\u001b[0m             \u001b[1;31m# Verbose modes need a full traceback\u001b[0m\u001b[1;33m\u001b[0m\u001b[1;33m\u001b[0m\u001b[1;33m\u001b[0m\u001b[0m\n\u001b[1;32m-> 1267\u001b[1;33m             return VerboseTB.structured_traceback(\n\u001b[0m\u001b[0;32m   1268\u001b[0m                 \u001b[0mself\u001b[0m\u001b[1;33m,\u001b[0m \u001b[0metype\u001b[0m\u001b[1;33m,\u001b[0m \u001b[0mvalue\u001b[0m\u001b[1;33m,\u001b[0m \u001b[0mtb\u001b[0m\u001b[1;33m,\u001b[0m \u001b[0mtb_offset\u001b[0m\u001b[1;33m,\u001b[0m \u001b[0mnumber_of_lines_of_context\u001b[0m\u001b[1;33m\u001b[0m\u001b[1;33m\u001b[0m\u001b[0m\n\u001b[0;32m   1269\u001b[0m             )\n",
      "\u001b[1;32mC:\\Python\\lib\\site-packages\\IPython\\core\\ultratb.py\u001b[0m in \u001b[0;36mstructured_traceback\u001b[1;34m(self, etype, evalue, etb, tb_offset, number_of_lines_of_context)\u001b[0m\n\u001b[0;32m   1122\u001b[0m         \u001b[1;34m\"\"\"Return a nice text document describing the traceback.\"\"\"\u001b[0m\u001b[1;33m\u001b[0m\u001b[1;33m\u001b[0m\u001b[0m\n\u001b[0;32m   1123\u001b[0m \u001b[1;33m\u001b[0m\u001b[0m\n\u001b[1;32m-> 1124\u001b[1;33m         formatted_exception = self.format_exception_as_a_whole(etype, evalue, etb, number_of_lines_of_context,\n\u001b[0m\u001b[0;32m   1125\u001b[0m                                                                tb_offset)\n\u001b[0;32m   1126\u001b[0m \u001b[1;33m\u001b[0m\u001b[0m\n",
      "\u001b[1;32mC:\\Python\\lib\\site-packages\\IPython\\core\\ultratb.py\u001b[0m in \u001b[0;36mformat_exception_as_a_whole\u001b[1;34m(self, etype, evalue, etb, number_of_lines_of_context, tb_offset)\u001b[0m\n\u001b[0;32m   1080\u001b[0m \u001b[1;33m\u001b[0m\u001b[0m\n\u001b[0;32m   1081\u001b[0m \u001b[1;33m\u001b[0m\u001b[0m\n\u001b[1;32m-> 1082\u001b[1;33m         \u001b[0mlast_unique\u001b[0m\u001b[1;33m,\u001b[0m \u001b[0mrecursion_repeat\u001b[0m \u001b[1;33m=\u001b[0m \u001b[0mfind_recursion\u001b[0m\u001b[1;33m(\u001b[0m\u001b[0morig_etype\u001b[0m\u001b[1;33m,\u001b[0m \u001b[0mevalue\u001b[0m\u001b[1;33m,\u001b[0m \u001b[0mrecords\u001b[0m\u001b[1;33m)\u001b[0m\u001b[1;33m\u001b[0m\u001b[1;33m\u001b[0m\u001b[0m\n\u001b[0m\u001b[0;32m   1083\u001b[0m \u001b[1;33m\u001b[0m\u001b[0m\n\u001b[0;32m   1084\u001b[0m         \u001b[0mframes\u001b[0m \u001b[1;33m=\u001b[0m \u001b[0mself\u001b[0m\u001b[1;33m.\u001b[0m\u001b[0mformat_records\u001b[0m\u001b[1;33m(\u001b[0m\u001b[0mrecords\u001b[0m\u001b[1;33m,\u001b[0m \u001b[0mlast_unique\u001b[0m\u001b[1;33m,\u001b[0m \u001b[0mrecursion_repeat\u001b[0m\u001b[1;33m)\u001b[0m\u001b[1;33m\u001b[0m\u001b[1;33m\u001b[0m\u001b[0m\n",
      "\u001b[1;32mC:\\Python\\lib\\site-packages\\IPython\\core\\ultratb.py\u001b[0m in \u001b[0;36mfind_recursion\u001b[1;34m(etype, value, records)\u001b[0m\n\u001b[0;32m    380\u001b[0m     \u001b[1;31m# first frame (from in to out) that looks different.\u001b[0m\u001b[1;33m\u001b[0m\u001b[1;33m\u001b[0m\u001b[1;33m\u001b[0m\u001b[0m\n\u001b[0;32m    381\u001b[0m     \u001b[1;32mif\u001b[0m \u001b[1;32mnot\u001b[0m \u001b[0mis_recursion_error\u001b[0m\u001b[1;33m(\u001b[0m\u001b[0metype\u001b[0m\u001b[1;33m,\u001b[0m \u001b[0mvalue\u001b[0m\u001b[1;33m,\u001b[0m \u001b[0mrecords\u001b[0m\u001b[1;33m)\u001b[0m\u001b[1;33m:\u001b[0m\u001b[1;33m\u001b[0m\u001b[1;33m\u001b[0m\u001b[0m\n\u001b[1;32m--> 382\u001b[1;33m         \u001b[1;32mreturn\u001b[0m \u001b[0mlen\u001b[0m\u001b[1;33m(\u001b[0m\u001b[0mrecords\u001b[0m\u001b[1;33m)\u001b[0m\u001b[1;33m,\u001b[0m \u001b[1;36m0\u001b[0m\u001b[1;33m\u001b[0m\u001b[1;33m\u001b[0m\u001b[0m\n\u001b[0m\u001b[0;32m    383\u001b[0m \u001b[1;33m\u001b[0m\u001b[0m\n\u001b[0;32m    384\u001b[0m     \u001b[1;31m# Select filename, lineno, func_name to track frames with\u001b[0m\u001b[1;33m\u001b[0m\u001b[1;33m\u001b[0m\u001b[1;33m\u001b[0m\u001b[0m\n",
      "\u001b[1;31mTypeError\u001b[0m: object of type 'NoneType' has no len()"
     ]
    }
   ],
   "source": [
    "    clf_name = 'IForest'\n",
    "    clf = IForest()\n",
    "    clf.fit(df_signa)"
   ]
  },
  {
   "cell_type": "code",
   "execution_count": 22,
   "id": "preliminary-massage",
   "metadata": {},
   "outputs": [],
   "source": [
    "y_pred = clf.labels_\n",
    "y_scores = clf.decision_scores_"
   ]
  },
  {
   "cell_type": "code",
   "execution_count": 27,
   "id": "controlling-receiver",
   "metadata": {},
   "outputs": [
    {
     "name": "stderr",
     "output_type": "stream",
     "text": [
      "<ipython-input-26-57658cd24934>:3: RuntimeWarning: invalid value encountered in true_divide\n",
      "  f1_score = 2 * precision * recall / (precision + recall)\n"
     ]
    },
    {
     "data": {
      "image/png": "[encoded data removed]",
      "text/plain": [
       "<Figure size 432x288 with 1 Axes>"
      ]
     },
     "metadata": {
      "needs_background": "light"
     },
     "output_type": "display_data"
    },
    {
     "name": "stdout",
     "output_type": "stream",
     "text": [
      "Air sous la courbe :  0.00115020426276943\n"
     ]
    }
   ],
   "source": [
    "value, f1_score, precision, recall = evaluation(y_scores, data[\"TOP_FRAUDE\"], display=True)\n",
    "print(\"Air sous la courbe : \", value)"
   ]
  },
  {
   "cell_type": "code",
   "execution_count": 35,
   "id": "black-perfume",
   "metadata": {},
   "outputs": [
    {
     "name": "stdout",
     "output_type": "stream",
     "text": [
      "TN / FP \n",
      "FN / TP\n",
      "[[97853  1998]\n",
      " [  147     2]]\n",
      "Precision : 0.001\n",
      "Recall : 0.013422818791946308\n",
      "F1_Score : 0.0018613308515588649\n"
     ]
    }
   ],
   "source": [
    " tn, fp, fn, tp = evaluation3(y_scores , data['TOP_FRAUDE'],2)"
   ]
  },
  {
   "cell_type": "markdown",
   "id": "confused-photographer",
   "metadata": {},
   "source": [
    "# MCD Cat:SIGNA"
   ]
  },
  {
   "cell_type": "code",
   "execution_count": 69,
   "id": "prescribed-special",
   "metadata": {},
   "outputs": [
    {
     "data": {
      "text/plain": [
       "MCD(assume_centered=False, contamination=0.1, random_state=None,\n",
       "  store_precision=True, support_fraction=None)"
      ]
     },
     "execution_count": 69,
     "metadata": {},
     "output_type": "execute_result"
    }
   ],
   "source": [
    "clf_name = 'MCD'\n",
    "clf = MCD()\n",
    "clf.fit(df_signa)"
   ]
  },
  {
   "cell_type": "code",
   "execution_count": 72,
   "id": "essential-bench",
   "metadata": {},
   "outputs": [
    {
     "data": {
      "text/plain": [
       "array([-4.29281925e+06, -7.48495628e+03, -1.33227349e+01, ...,\n",
       "       -5.16581855e+04, -2.38716098e+03, -2.52190306e+02])"
      ]
     },
     "execution_count": 72,
     "metadata": {},
     "output_type": "execute_result"
    }
   ],
   "source": [
    "score_pred = clf.decision_scores_*-1\n",
    "score_pred = np.nan_to_num(score_pred) \n",
    "score_pred"
   ]
  },
  {
   "cell_type": "code",
   "execution_count": 73,
   "id": "fresh-sponsorship",
   "metadata": {},
   "outputs": [
    {
     "data": {
      "text/plain": [
       "array([1, 0, 0, ..., 0, 0, 0])"
      ]
     },
     "execution_count": 73,
     "metadata": {},
     "output_type": "execute_result"
    }
   ],
   "source": [
    "y_pred = clf.predict(df_signa)\n",
    "y_pred\n"
   ]
  },
  {
   "cell_type": "code",
   "execution_count": 74,
   "id": "negative-doctor",
   "metadata": {},
   "outputs": [
    {
     "name": "stderr",
     "output_type": "stream",
     "text": [
      "<ipython-input-26-57658cd24934>:3: RuntimeWarning: invalid value encountered in true_divide\n",
      "  f1_score = 2 * precision * recall / (precision + recall)\n"
     ]
    },
    {
     "data": {
      "image/png": "[encoded data removed]",
      "text/plain": [
       "<Figure size 432x288 with 1 Axes>"
      ]
     },
     "metadata": {
      "needs_background": "light"
     },
     "output_type": "display_data"
    },
    {
     "name": "stdout",
     "output_type": "stream",
     "text": [
      "Air sous la courbe :  0.0028622758338952867\n"
     ]
    }
   ],
   "source": [
    "value, f1_score, precision, recall = evaluation(score_pred, data[\"TOP_FRAUDE\"], display=True)\n",
    "print(\"Air sous la courbe : \", value)"
   ]
  },
  {
   "cell_type": "code",
   "execution_count": 77,
   "id": "welsh-instrumentation",
   "metadata": {},
   "outputs": [
    {
     "name": "stdout",
     "output_type": "stream",
     "text": [
      "TN / FP \n",
      "FN / TP\n",
      "[[99654   197]\n",
      " [  146     3]]\n",
      "Precision : 0.015\n",
      "Recall : 0.020134228187919462\n",
      "F1_Score : 0.017191977077363897\n"
     ]
    }
   ],
   "source": [
    " tn, fp, fn, tp = evaluation3(score_pred , data['TOP_FRAUDE'],0.2)"
   ]
  },
  {
   "cell_type": "markdown",
   "id": "dense-queue",
   "metadata": {},
   "source": [
    "# HBOS--Cat:SIGNA"
   ]
  },
  {
   "cell_type": "code",
   "execution_count": 88,
   "id": "graduate-district",
   "metadata": {},
   "outputs": [
    {
     "data": {
      "text/plain": [
       "HBOS(alpha=0.1, contamination=0.1, n_bins=10, tol=0.5)"
      ]
     },
     "execution_count": 88,
     "metadata": {},
     "output_type": "execute_result"
    }
   ],
   "source": [
    "    clf_name = 'HBOS'\n",
    "    clf = HBOS()\n",
    "    clf.fit(df_signa)"
   ]
  },
  {
   "cell_type": "code",
   "execution_count": 89,
   "id": "surrounded-robin",
   "metadata": {},
   "outputs": [],
   "source": [
    "    y_pred = clf.labels_\n",
    "    y_scores = clf.decision_scores_"
   ]
  },
  {
   "cell_type": "code",
   "execution_count": 91,
   "id": "headed-drunk",
   "metadata": {},
   "outputs": [
    {
     "name": "stderr",
     "output_type": "stream",
     "text": [
      "<ipython-input-26-57658cd24934>:3: RuntimeWarning: invalid value encountered in true_divide\n",
      "  f1_score = 2 * precision * recall / (precision + recall)\n"
     ]
    },
    {
     "data": {
      "image/png": "[encoded data removed]",
      "text/plain": [
       "<Figure size 432x288 with 1 Axes>"
      ]
     },
     "metadata": {
      "needs_background": "light"
     },
     "output_type": "display_data"
    },
    {
     "name": "stdout",
     "output_type": "stream",
     "text": [
      "Air sous la courbe :  0.000913784392245923\n"
     ]
    }
   ],
   "source": [
    "value, f1_score, precision, recall = evaluation(y_scores, data[\"TOP_FRAUDE\"], display=True)\n",
    "print(\"Air sous la courbe : \", value)"
   ]
  },
  {
   "cell_type": "code",
   "execution_count": 94,
   "id": "blond-bridal",
   "metadata": {},
   "outputs": [
    {
     "name": "stdout",
     "output_type": "stream",
     "text": [
      "TN / FP \n",
      "FN / TP\n",
      "[[97853  1998]\n",
      " [  147     2]]\n",
      "Precision : 0.001\n",
      "Recall : 0.013422818791946308\n",
      "F1_Score : 0.0018613308515588649\n"
     ]
    }
   ],
   "source": [
    " tn, fp, fn, tp = evaluation3(y_scores , data['TOP_FRAUDE'],2)"
   ]
  },
  {
   "cell_type": "markdown",
   "id": "continental-patrick",
   "metadata": {},
   "source": [
    "# PCA --Cat:SIGNA"
   ]
  },
  {
   "cell_type": "code",
   "execution_count": 108,
   "id": "tender-combat",
   "metadata": {},
   "outputs": [
    {
     "data": {
      "text/plain": [
       "PCA(contamination=0.1, copy=True, iterated_power='auto', n_components=3,\n",
       "  n_selected_components=None, random_state=None, standardization=True,\n",
       "  svd_solver='auto', tol=0.0, weighted=True, whiten=False)"
      ]
     },
     "execution_count": 108,
     "metadata": {},
     "output_type": "execute_result"
    }
   ],
   "source": [
    "clf_name = 'PCA'\n",
    "clf = PCA(n_components=3)\n",
    "clf.fit(df_signa)"
   ]
  },
  {
   "cell_type": "code",
   "execution_count": 110,
   "id": "fewer-stroke",
   "metadata": {},
   "outputs": [],
   "source": [
    "    y_pred = clf.labels_\n",
    "    y_scores = clf.decision_scores_"
   ]
  },
  {
   "cell_type": "code",
   "execution_count": 111,
   "id": "israeli-geneva",
   "metadata": {},
   "outputs": [
    {
     "name": "stderr",
     "output_type": "stream",
     "text": [
      "<ipython-input-26-57658cd24934>:3: RuntimeWarning: invalid value encountered in true_divide\n",
      "  f1_score = 2 * precision * recall / (precision + recall)\n"
     ]
    },
    {
     "data": {
      "image/png": "[encoded data removed]",
      "text/plain": [
       "<Figure size 432x288 with 1 Axes>"
      ]
     },
     "metadata": {
      "needs_background": "light"
     },
     "output_type": "display_data"
    },
    {
     "name": "stdout",
     "output_type": "stream",
     "text": [
      "Air sous la courbe :  0.0013600325615577553\n"
     ]
    }
   ],
   "source": [
    "value, f1_score, precision, recall = evaluation(y_scores, data[\"TOP_FRAUDE\"], display=True)\n",
    "print(\"Air sous la courbe : \", value)"
   ]
  },
  {
   "cell_type": "code",
   "execution_count": 114,
   "id": "supported-ethnic",
   "metadata": {},
   "outputs": [
    {
     "name": "stdout",
     "output_type": "stream",
     "text": [
      "TN / FP \n",
      "FN / TP\n",
      "[[99651   200]\n",
      " [  149     0]]\n",
      "Precision : 0.0\n",
      "Recall : 0.0\n",
      "F1_Score : nan\n"
     ]
    },
    {
     "name": "stderr",
     "output_type": "stream",
     "text": [
      "<ipython-input-9-2c33566eaa1e>:21: RuntimeWarning: invalid value encountered in double_scalars\n",
      "  f1_score = 2 * precision * recall / (precision + recall)\n"
     ]
    }
   ],
   "source": [
    " tn, fp, fn, tp = evaluation3(y_scores , data['TOP_FRAUDE'],0.2)"
   ]
  },
  {
   "cell_type": "markdown",
   "id": "welsh-booth",
   "metadata": {},
   "source": [
    "# Test Categorie Autres"
   ]
  },
  {
   "cell_type": "code",
   "execution_count": 36,
   "id": "intellectual-grave",
   "metadata": {},
   "outputs": [
    {
     "data": {
      "text/plain": [
       "array(['top_situ_particuliere'], dtype='<U21')"
      ]
     },
     "execution_count": 36,
     "metadata": {},
     "output_type": "execute_result"
    }
   ],
   "source": [
    "autre = []\n",
    "for i in categories['AUTRE']:\n",
    "    if pd.isna(i)==False:\n",
    "        autre.append(i)\n",
    "autre =  np.array(autre)\n",
    "\n",
    "autre\n"
   ]
  },
  {
   "cell_type": "code",
   "execution_count": 37,
   "id": "forward-graphics",
   "metadata": {},
   "outputs": [
    {
     "data": {
      "text/html": [
       "<div>\n",
       "<style scoped>\n",
       "    .dataframe tbody tr th:only-of-type {\n",
       "        vertical-align: middle;\n",
       "    }\n",
       "\n",
       "    .dataframe tbody tr th {\n",
       "        vertical-align: top;\n",
       "    }\n",
       "\n",
       "    .dataframe thead th {\n",
       "        text-align: right;\n",
       "    }\n",
       "</style>\n",
       "<table border=\"1\" class=\"dataframe\">\n",
       "  <thead>\n",
       "    <tr style=\"text-align: right;\">\n",
       "      <th></th>\n",
       "      <th>top_situ_particuliere</th>\n",
       "    </tr>\n",
       "  </thead>\n",
       "  <tbody>\n",
       "    <tr>\n",
       "      <th>0</th>\n",
       "      <td>0.103256</td>\n",
       "    </tr>\n",
       "    <tr>\n",
       "      <th>1</th>\n",
       "      <td>0.000612</td>\n",
       "    </tr>\n",
       "    <tr>\n",
       "      <th>2</th>\n",
       "      <td>0.000000</td>\n",
       "    </tr>\n",
       "    <tr>\n",
       "      <th>3</th>\n",
       "      <td>0.000126</td>\n",
       "    </tr>\n",
       "    <tr>\n",
       "      <th>4</th>\n",
       "      <td>0.000000</td>\n",
       "    </tr>\n",
       "    <tr>\n",
       "      <th>...</th>\n",
       "      <td>...</td>\n",
       "    </tr>\n",
       "    <tr>\n",
       "      <th>99995</th>\n",
       "      <td>0.000000</td>\n",
       "    </tr>\n",
       "    <tr>\n",
       "      <th>99996</th>\n",
       "      <td>0.000000</td>\n",
       "    </tr>\n",
       "    <tr>\n",
       "      <th>99997</th>\n",
       "      <td>0.006269</td>\n",
       "    </tr>\n",
       "    <tr>\n",
       "      <th>99998</th>\n",
       "      <td>0.000000</td>\n",
       "    </tr>\n",
       "    <tr>\n",
       "      <th>99999</th>\n",
       "      <td>0.000000</td>\n",
       "    </tr>\n",
       "  </tbody>\n",
       "</table>\n",
       "<p>100000 rows × 1 columns</p>\n",
       "</div>"
      ],
      "text/plain": [
       "       top_situ_particuliere\n",
       "0                   0.103256\n",
       "1                   0.000612\n",
       "2                   0.000000\n",
       "3                   0.000126\n",
       "4                   0.000000\n",
       "...                      ...\n",
       "99995               0.000000\n",
       "99996               0.000000\n",
       "99997               0.006269\n",
       "99998               0.000000\n",
       "99999               0.000000\n",
       "\n",
       "[100000 rows x 1 columns]"
      ]
     },
     "execution_count": 37,
     "metadata": {},
     "output_type": "execute_result"
    }
   ],
   "source": [
    "df_autre = df[autre]\n",
    "#df_eco = pd.concat([df2, df1], axis=1)\n",
    "df_autre"
   ]
  },
  {
   "cell_type": "markdown",
   "id": "fourth-departure",
   "metadata": {},
   "source": [
    "# Abod -- Cat:Autre"
   ]
  },
  {
   "cell_type": "code",
   "execution_count": 15,
   "id": "electoral-diameter",
   "metadata": {},
   "outputs": [
    {
     "data": {
      "text/plain": [
       "<Figure size 1440x1080 with 0 Axes>"
      ]
     },
     "execution_count": 15,
     "metadata": {},
     "output_type": "execute_result"
    },
    {
     "data": {
      "text/plain": [
       "<Figure size 1440x1080 with 0 Axes>"
      ]
     },
     "metadata": {},
     "output_type": "display_data"
    }
   ],
   "source": [
    "outliers_fraction = 0.01\n",
    "clf = ABOD(contamination=outliers_fraction,n_neighbors = 5)\n",
    "xx , yy = np.meshgrid(np.linspace(0, 1, 100), np.linspace(0, 1, 100))\n",
    "plt.figure(figsize=(20, 15))"
   ]
  },
  {
   "cell_type": "code",
   "execution_count": 16,
   "id": "casual-ability",
   "metadata": {},
   "outputs": [
    {
     "name": "stderr",
     "output_type": "stream",
     "text": [
      "C:\\Python\\lib\\site-packages\\numpy\\core\\fromnumeric.py:3723: RuntimeWarning: Degrees of freedom <= 0 for slice\n",
      "  return _methods._var(a, axis=axis, dtype=dtype, out=out, ddof=ddof,\n",
      "C:\\Python\\lib\\site-packages\\numpy\\core\\_methods.py:222: RuntimeWarning: invalid value encountered in true_divide\n",
      "  arrmean = um.true_divide(arrmean, div, out=arrmean, casting='unsafe',\n",
      "C:\\Python\\lib\\site-packages\\numpy\\core\\_methods.py:254: RuntimeWarning: invalid value encountered in double_scalars\n",
      "  ret = ret.dtype.type(ret / rcount)\n"
     ]
    },
    {
     "data": {
      "text/plain": [
       "ABOD(contamination=0.01, method='fast', n_neighbors=5)"
      ]
     },
     "execution_count": 16,
     "metadata": {},
     "output_type": "execute_result"
    }
   ],
   "source": [
    "clf.fit(df_autre)"
   ]
  },
  {
   "cell_type": "code",
   "execution_count": 17,
   "id": "respiratory-layout",
   "metadata": {},
   "outputs": [
    {
     "data": {
      "text/plain": [
       "array([1.46196141e+19, 1.71904532e+25, 0.00000000e+00, ...,\n",
       "       3.16738894e+19, 0.00000000e+00, 0.00000000e+00])"
      ]
     },
     "execution_count": 17,
     "metadata": {},
     "output_type": "execute_result"
    }
   ],
   "source": [
    "score_pred = clf.decision_scores_*-1\n",
    "score_pred = np.nan_to_num(score_pred) \n",
    "score_pred"
   ]
  },
  {
   "cell_type": "code",
   "execution_count": 19,
   "id": "killing-gender",
   "metadata": {},
   "outputs": [
    {
     "name": "stderr",
     "output_type": "stream",
     "text": [
      "C:\\Python\\lib\\site-packages\\numpy\\core\\fromnumeric.py:3723: RuntimeWarning: Degrees of freedom <= 0 for slice\n",
      "  return _methods._var(a, axis=axis, dtype=dtype, out=out, ddof=ddof,\n",
      "C:\\Python\\lib\\site-packages\\numpy\\core\\_methods.py:222: RuntimeWarning: invalid value encountered in true_divide\n",
      "  arrmean = um.true_divide(arrmean, div, out=arrmean, casting='unsafe',\n",
      "C:\\Python\\lib\\site-packages\\numpy\\core\\_methods.py:254: RuntimeWarning: invalid value encountered in double_scalars\n",
      "  ret = ret.dtype.type(ret / rcount)\n"
     ]
    },
    {
     "data": {
      "text/plain": [
       "array([0, 0, 0, ..., 0, 0, 0])"
      ]
     },
     "execution_count": 19,
     "metadata": {},
     "output_type": "execute_result"
    }
   ],
   "source": [
    "y_pred = clf.predict(df_autre)\n",
    "y_pred"
   ]
  },
  {
   "cell_type": "code",
   "execution_count": 22,
   "id": "thirty-lighting",
   "metadata": {},
   "outputs": [
    {
     "name": "stderr",
     "output_type": "stream",
     "text": [
      "<ipython-input-20-57658cd24934>:3: RuntimeWarning: invalid value encountered in true_divide\n",
      "  f1_score = 2 * precision * recall / (precision + recall)\n"
     ]
    },
    {
     "data": {
      "image/png": "[encoded data removed]",
      "text/plain": [
       "<Figure size 432x288 with 1 Axes>"
      ]
     },
     "metadata": {
      "needs_background": "light"
     },
     "output_type": "display_data"
    },
    {
     "name": "stdout",
     "output_type": "stream",
     "text": [
      "Air sous la courbe :  0.001228103765343146\n"
     ]
    }
   ],
   "source": [
    "value, f1_score, precision, recall = evaluation(score_pred, data[\"TOP_FRAUDE\"], display=True)\n",
    "print(\"Air sous la courbe : \", value)  "
   ]
  },
  {
   "cell_type": "markdown",
   "id": "physical-mustang",
   "metadata": {},
   "source": [
    "# IFOREST-- Cat:Autre"
   ]
  },
  {
   "cell_type": "code",
   "execution_count": 33,
   "id": "plain-recipient",
   "metadata": {},
   "outputs": [
    {
     "data": {
      "text/plain": [
       "IForest(behaviour='old', bootstrap=False, contamination=0.1, max_features=1.0,\n",
       "    max_samples='auto', n_estimators=100, n_jobs=1, random_state=None,\n",
       "    verbose=0)"
      ]
     },
     "execution_count": 33,
     "metadata": {},
     "output_type": "execute_result"
    }
   ],
   "source": [
    "    clf_name = 'IForest'\n",
    "    clf = IForest()\n",
    "    clf.fit(df_autre)"
   ]
  },
  {
   "cell_type": "code",
   "execution_count": 32,
   "id": "casual-olive",
   "metadata": {},
   "outputs": [
    {
     "data": {
      "text/plain": [
       "array([1, 1, 0, ..., 1, 0, 0])"
      ]
     },
     "execution_count": 32,
     "metadata": {},
     "output_type": "execute_result"
    }
   ],
   "source": [
    "y_pred = clf.predict(df_autre)\n",
    "y_pred"
   ]
  },
  {
   "cell_type": "code",
   "execution_count": 33,
   "id": "phantom-buffer",
   "metadata": {},
   "outputs": [
    {
     "data": {
      "image/png": "[encoded data removed]",
      "text/plain": [
       "<Figure size 432x288 with 1 Axes>"
      ]
     },
     "metadata": {
      "needs_background": "light"
     },
     "output_type": "display_data"
    },
    {
     "name": "stdout",
     "output_type": "stream",
     "text": [
      "Air sous la courbe :  0.03138646517967997\n"
     ]
    }
   ],
   "source": [
    "value, f1_score, precision, recall = evaluation(y_pred, data[\"TOP_FRAUDE\"], display=True)\n",
    "print(\"Air sous la courbe : \", value)  "
   ]
  },
  {
   "cell_type": "code",
   "execution_count": 40,
   "id": "changed-prime",
   "metadata": {},
   "outputs": [
    {
     "name": "stdout",
     "output_type": "stream",
     "text": [
      "TN / FP \n",
      "FN / TP\n",
      "[[99651   200]\n",
      " [  149     0]]\n",
      "Precision : 0.0\n",
      "Recall : 0.0\n",
      "F1_Score : nan\n"
     ]
    },
    {
     "name": "stderr",
     "output_type": "stream",
     "text": [
      "<ipython-input-9-2c33566eaa1e>:21: RuntimeWarning: invalid value encountered in double_scalars\n",
      "  f1_score = 2 * precision * recall / (precision + recall)\n"
     ]
    }
   ],
   "source": [
    " tn, fp, fn, tp = evaluation3(y_scores , data['TOP_FRAUDE'],0.2)"
   ]
  },
  {
   "cell_type": "markdown",
   "id": "harmful-track",
   "metadata": {},
   "source": [
    "# LOF --Cat:Autre"
   ]
  },
  {
   "cell_type": "code",
   "execution_count": 53,
   "id": "narrative-understanding",
   "metadata": {},
   "outputs": [
    {
     "data": {
      "text/plain": [
       "LOF(algorithm='auto', contamination=0.1, leaf_size=30, metric='minkowski',\n",
       "  metric_params=None, n_jobs=1, n_neighbors=20, novelty=True, p=2)"
      ]
     },
     "execution_count": 53,
     "metadata": {},
     "output_type": "execute_result"
    }
   ],
   "source": [
    "clf_name = 'LOF'\n",
    "clf = LOF()\n",
    "clf.fit(df_autre)"
   ]
  },
  {
   "cell_type": "code",
   "execution_count": 54,
   "id": "progressive-transcript",
   "metadata": {},
   "outputs": [],
   "source": [
    "y_pred = clf.labels_\n",
    "y_scores = clf.decision_scores_"
   ]
  },
  {
   "cell_type": "code",
   "execution_count": 55,
   "id": "commercial-portland",
   "metadata": {},
   "outputs": [
    {
     "name": "stderr",
     "output_type": "stream",
     "text": [
      "<ipython-input-26-57658cd24934>:3: RuntimeWarning: invalid value encountered in true_divide\n",
      "  f1_score = 2 * precision * recall / (precision + recall)\n"
     ]
    },
    {
     "data": {
      "image/png": "[encoded data removed]",
      "text/plain": [
       "<Figure size 432x288 with 1 Axes>"
      ]
     },
     "metadata": {
      "needs_background": "light"
     },
     "output_type": "display_data"
    },
    {
     "name": "stdout",
     "output_type": "stream",
     "text": [
      "Air sous la courbe :  0.00118584304755305\n"
     ]
    }
   ],
   "source": [
    "value, f1_score, precision, recall = evaluation(y_scores, data[\"TOP_FRAUDE\"], display=True)\n",
    "print(\"Air sous la courbe : \", value)  "
   ]
  },
  {
   "cell_type": "code",
   "execution_count": 60,
   "id": "proper-texture",
   "metadata": {},
   "outputs": [
    {
     "name": "stdout",
     "output_type": "stream",
     "text": [
      "TN / FP \n",
      "FN / TP\n",
      "[[97851  2000]\n",
      " [  149     0]]\n",
      "Precision : 0.0\n",
      "Recall : 0.0\n",
      "F1_Score : nan\n"
     ]
    },
    {
     "name": "stderr",
     "output_type": "stream",
     "text": [
      "<ipython-input-9-2c33566eaa1e>:21: RuntimeWarning: invalid value encountered in double_scalars\n",
      "  f1_score = 2 * precision * recall / (precision + recall)\n"
     ]
    }
   ],
   "source": [
    " tn, fp, fn, tp = evaluation3(y_scores , data['TOP_FRAUDE'],2)"
   ]
  },
  {
   "cell_type": "markdown",
   "id": "respiratory-spare",
   "metadata": {},
   "source": [
    "# HBOS --Cat:autre"
   ]
  },
  {
   "cell_type": "code",
   "execution_count": 95,
   "id": "encouraging-withdrawal",
   "metadata": {},
   "outputs": [
    {
     "data": {
      "text/plain": [
       "HBOS(alpha=0.1, contamination=0.1, n_bins=10, tol=0.5)"
      ]
     },
     "execution_count": 95,
     "metadata": {},
     "output_type": "execute_result"
    }
   ],
   "source": [
    "    clf_name = 'HBOS'\n",
    "    clf = HBOS()\n",
    "    clf.fit(df_autre)"
   ]
  },
  {
   "cell_type": "code",
   "execution_count": 96,
   "id": "hungry-picking",
   "metadata": {},
   "outputs": [],
   "source": [
    "y_pred = clf.labels_\n",
    "y_scores = clf.decision_scores_"
   ]
  },
  {
   "cell_type": "code",
   "execution_count": 97,
   "id": "further-builder",
   "metadata": {},
   "outputs": [
    {
     "name": "stderr",
     "output_type": "stream",
     "text": [
      "<ipython-input-26-57658cd24934>:3: RuntimeWarning: invalid value encountered in true_divide\n",
      "  f1_score = 2 * precision * recall / (precision + recall)\n"
     ]
    },
    {
     "data": {
      "image/png": "[encoded data removed]",
      "text/plain": [
       "<Figure size 432x288 with 1 Axes>"
      ]
     },
     "metadata": {
      "needs_background": "light"
     },
     "output_type": "display_data"
    },
    {
     "name": "stdout",
     "output_type": "stream",
     "text": [
      "Air sous la courbe :  0.000745\n"
     ]
    }
   ],
   "source": [
    "value, f1_score, precision, recall = evaluation(y_scores, data[\"TOP_FRAUDE\"], display=True)\n",
    "print(\"Air sous la courbe : \", value)  "
   ]
  },
  {
   "cell_type": "code",
   "execution_count": 100,
   "id": "postal-football",
   "metadata": {},
   "outputs": [
    {
     "name": "stdout",
     "output_type": "stream",
     "text": [
      "TN / FP \n",
      "FN / TP\n",
      "[[99667   184]\n",
      " [  149     0]]\n",
      "Precision : 0.0\n",
      "Recall : 0.0\n",
      "F1_Score : nan\n"
     ]
    },
    {
     "name": "stderr",
     "output_type": "stream",
     "text": [
      "<ipython-input-9-2c33566eaa1e>:21: RuntimeWarning: invalid value encountered in double_scalars\n",
      "  f1_score = 2 * precision * recall / (precision + recall)\n"
     ]
    }
   ],
   "source": [
    " tn, fp, fn, tp = evaluation3(y_scores , data['TOP_FRAUDE'],0.2)"
   ]
  },
  {
   "cell_type": "markdown",
   "id": "champion-sterling",
   "metadata": {},
   "source": [
    "# PCA Cat:Autre"
   ]
  },
  {
   "cell_type": "code",
   "execution_count": null,
   "id": "funky-extra",
   "metadata": {},
   "outputs": [],
   "source": []
  }
 ],
 "metadata": {
  "kernelspec": {
   "display_name": "Python 3",
   "language": "python",
   "name": "python3"
  },
  "language_info": {
   "codemirror_mode": {
    "name": "ipython",
    "version": 3
   },
   "file_extension": ".py",
   "mimetype": "text/x-python",
   "name": "python",
   "nbconvert_exporter": "python",
   "pygments_lexer": "ipython3",
   "version": "3.8.3"
  }
 },
 "nbformat": 4,
 "nbformat_minor": 5
}

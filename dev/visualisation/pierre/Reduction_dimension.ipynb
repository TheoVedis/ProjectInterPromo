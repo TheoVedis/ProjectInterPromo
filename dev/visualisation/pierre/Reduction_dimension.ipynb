{
 "cells": [
  {
   "cell_type": "code",
   "execution_count": 11,
   "id": "fc63f904",
   "metadata": {},
   "outputs": [
    {
     "name": "stdout",
     "output_type": "stream",
     "text": [
      "Populating the interactive namespace from numpy and matplotlib\n"
     ]
    }
   ],
   "source": [
    "import pandas as pd\n",
    "import  numpy as np\n",
    "%pylab inline"
   ]
  },
  {
   "cell_type": "markdown",
   "id": "c5cd54ec",
   "metadata": {},
   "source": [
    "# LINEAR DISCRIMINANT ANALYSE"
   ]
  },
  {
   "cell_type": "code",
   "execution_count": 8,
   "id": "a1100d5b",
   "metadata": {},
   "outputs": [],
   "source": [
    "path = r\"C:\\Users\\Utilisateur\\Desktop\\Projet_interpromo_2k22\\ProjectInterPromo\\data\\Donnees_v1.csv\""
   ]
  },
  {
   "cell_type": "code",
   "execution_count": 9,
   "id": "9919cf64",
   "metadata": {},
   "outputs": [],
   "source": [
    "data = pd.read_csv(path)\n"
   ]
  },
  {
   "cell_type": "code",
   "execution_count": 18,
   "id": "3361a658",
   "metadata": {},
   "outputs": [],
   "source": [
    "quali_col = []\n",
    "count = 0\n",
    "for i, name in zip(data.dtypes, data.columns):\n",
    "    if i == \"object\":\n",
    "        quali_col.append(name)\n",
    "\n",
    "data_quanti = data.drop(columns=quali_col + [\"Unnamed: 0\"])\n"
   ]
  },
  {
   "cell_type": "code",
   "execution_count": 26,
   "id": "de4dec11",
   "metadata": {},
   "outputs": [],
   "source": [
    "'''\n",
    "solvers : {‘svd’, ‘lsqr’, ‘eigen’}\n",
    "\n",
    "\n",
    "'''\n",
    "df = data_quanti.sample(100000)"
   ]
  },
  {
   "cell_type": "code",
   "execution_count": 13,
   "id": "c882cf97",
   "metadata": {},
   "outputs": [],
   "source": [
    "from sklearn.discriminant_analysis import LinearDiscriminantAnalysis\n"
   ]
  },
  {
   "cell_type": "code",
   "execution_count": 27,
   "id": "6ceb9619",
   "metadata": {},
   "outputs": [],
   "source": [
    "X , Y = df.drop(['TOP_FRAUDE', 'TOP_FRAUDE_CARTE', 'TOP_FRAUDE_VIREMENT'],1) , df['TOP_FRAUDE']"
   ]
  },
  {
   "cell_type": "code",
   "execution_count": 42,
   "id": "305dec18",
   "metadata": {},
   "outputs": [
    {
     "data": {
      "text/plain": [
       "LinearDiscriminantAnalysis()"
      ]
     },
     "execution_count": 42,
     "metadata": {},
     "output_type": "execute_result"
    }
   ],
   "source": [
    "clf = LinearDiscriminantAnalysis()\n",
    "clf.fit(X , Y)"
   ]
  },
  {
   "cell_type": "code",
   "execution_count": 61,
   "id": "fb144793",
   "metadata": {},
   "outputs": [],
   "source": [
    "coefficients = clf.coef_\n",
    "#plt.plot(clf.xbar_)\n",
    "# EQM\n",
    "X_test = data_quanti.sample(50000)\n",
    "Y_test = X_test['TOP_FRAUDE']\n",
    "X_test = X_test.drop(['TOP_FRAUDE', 'TOP_FRAUDE_CARTE', 'TOP_FRAUDE_VIREMENT'],1) \n"
   ]
  },
  {
   "cell_type": "code",
   "execution_count": 62,
   "id": "ecf6ec02",
   "metadata": {},
   "outputs": [
    {
     "data": {
      "text/plain": [
       "array([0, 0, 0, ..., 0, 0, 0], dtype=int64)"
      ]
     },
     "execution_count": 62,
     "metadata": {},
     "output_type": "execute_result"
    }
   ],
   "source": [
    "clf.predict(X_test)"
   ]
  },
  {
   "cell_type": "code",
   "execution_count": 65,
   "id": "d0801b29",
   "metadata": {},
   "outputs": [],
   "source": [
    "# evaluation\n",
    "from sklearn.metrics import precision_recall_curve, auc\n",
    "def evaluation(score: np.ndarray, y: np.ndarray, display=False):\n",
    "    precision, recall, thresholds = precision_recall_curve(y, score)\n",
    "    f1_score = 2 * precision * recall / (precision + recall)\n",
    "    \n",
    "    value = auc(recall, precision)\n",
    "    \n",
    "    if display:\n",
    "        plt.plot(recall, precision)\n",
    "        plt.show()\n",
    "    print(f'l''aire sous la courbe{value}')\n",
    "    print(f'le f1_score est{f1_score}')\n",
    "    print(f'la precision est{precision}')\n",
    "    print(f'le recall est{recall}')\n",
    "    return value, f1_score, precision, recall\n"
   ]
  },
  {
   "cell_type": "code",
   "execution_count": 66,
   "id": "6afbe180",
   "metadata": {},
   "outputs": [
    {
     "data": {
      "image/png": "[encoded data removed]",
      "text/plain": [
       "<Figure size 432x288 with 1 Axes>"
      ]
     },
     "metadata": {
      "needs_background": "light"
     },
     "output_type": "display_data"
    },
    {
     "name": "stdout",
     "output_type": "stream",
     "text": [
      "laire sous la courbe{value}\n",
      "le f1_score est[0.0041912  0.02173913 0.        ]\n",
      "la precision est[0.0021     0.01754386 1.        ]\n",
      "le recall est[1.         0.02857143 0.        ]\n"
     ]
    },
    {
     "data": {
      "text/plain": [
       "(0.02407764411027569,\n",
       " array([0.0041912 , 0.02173913, 0.        ]),\n",
       " array([0.0021    , 0.01754386, 1.        ]),\n",
       " array([1.        , 0.02857143, 0.        ]))"
      ]
     },
     "execution_count": 66,
     "metadata": {},
     "output_type": "execute_result"
    }
   ],
   "source": [
    "evaluation(clf.predict(X_test) , Y_test, True)"
   ]
  },
  {
   "cell_type": "code",
   "execution_count": 110,
   "id": "9d18a4d9",
   "metadata": {},
   "outputs": [],
   "source": [
    "importances = clf.coef_"
   ]
  },
  {
   "cell_type": "code",
   "execution_count": 139,
   "id": "1db8dcb7",
   "metadata": {},
   "outputs": [
    {
     "data": {
      "text/plain": [
       "'seg_nature_potentiel_HDG DYNAMIQUE'"
      ]
     },
     "execution_count": 139,
     "metadata": {},
     "output_type": "execute_result"
    }
   ],
   "source": [
    "importances = importances.reshape(393 , 1)\n",
    "\n",
    "d = dict(zip(data_quanti.columns , importances))\n",
    "d_tri = sorted(d.items(), key=lambda t: np.abs(t[1]))\n",
    "d_tri[-1][0]"
   ]
  },
  {
   "cell_type": "code",
   "execution_count": 151,
   "id": "44f5d83d",
   "metadata": {},
   "outputs": [
    {
     "data": {
      "image/png": "[encoded data removed]",
      "text/plain": [
       "<Figure size 432x288 with 1 Axes>"
      ]
     },
     "metadata": {
      "needs_background": "light"
     },
     "output_type": "display_data"
    }
   ],
   "source": [
    "plt.scatter(data_quanti[data_quanti[\"TOP_FRAUDE\"]==0][d_tri[-1][0]], data_quanti[data_quanti[\"TOP_FRAUDE\"]==0][d_tri[-2][0]], alpha=0.2, c=\"orange\", label=\"Not Fraude\")\n",
    "#plt.scatter(data_quanti[data_quanti[\"TOP_FRAUDE\"]==1][d_tri[-1][0]], data_quanti[data_quanti[\"TOP_FRAUDE\"]==1][d_tri[-2][0]], alpha=0.7, c=\"blue\", label=\"Fraude\")\n",
    "#plt.legend()\n",
    "plt.show()"
   ]
  },
  {
   "cell_type": "code",
   "execution_count": 148,
   "id": "abf348a3",
   "metadata": {},
   "outputs": [
    {
     "data": {
      "text/plain": [
       "[<matplotlib.lines.Line2D at 0x1fe91824490>]"
      ]
     },
     "execution_count": 148,
     "metadata": {},
     "output_type": "execute_result"
    },
    {
     "data": {
      "image/png": "[encoded data removed]",
      "text/plain": [
       "<Figure size 432x288 with 1 Axes>"
      ]
     },
     "metadata": {
      "needs_background": "light"
     },
     "output_type": "display_data"
    }
   ],
   "source": [
    "plt.plot(data_quanti[d_tri[-1][0]] , data_quanti['TOP_FRAUDE'])\n",
    "plt.savefig"
   ]
  },
  {
   "cell_type": "code",
   "execution_count": 152,
   "id": "cf816adb",
   "metadata": {},
   "outputs": [
    {
     "data": {
      "text/plain": [
       "['__class__',\n",
       " '__delattr__',\n",
       " '__dict__',\n",
       " '__dir__',\n",
       " '__doc__',\n",
       " '__eq__',\n",
       " '__format__',\n",
       " '__ge__',\n",
       " '__getattribute__',\n",
       " '__getstate__',\n",
       " '__gt__',\n",
       " '__hash__',\n",
       " '__init__',\n",
       " '__init_subclass__',\n",
       " '__le__',\n",
       " '__lt__',\n",
       " '__module__',\n",
       " '__ne__',\n",
       " '__new__',\n",
       " '__reduce__',\n",
       " '__reduce_ex__',\n",
       " '__repr__',\n",
       " '__setattr__',\n",
       " '__setstate__',\n",
       " '__sizeof__',\n",
       " '__str__',\n",
       " '__subclasshook__',\n",
       " '__weakref__',\n",
       " '_check_n_features',\n",
       " '_estimator_type',\n",
       " '_get_param_names',\n",
       " '_get_tags',\n",
       " '_max_components',\n",
       " '_more_tags',\n",
       " '_predict_proba_lr',\n",
       " '_repr_html_',\n",
       " '_repr_html_inner',\n",
       " '_repr_mimebundle_',\n",
       " '_solve_eigen',\n",
       " '_solve_lsqr',\n",
       " '_solve_svd',\n",
       " '_validate_data',\n",
       " 'classes_',\n",
       " 'coef_',\n",
       " 'covariance_estimator',\n",
       " 'decision_function',\n",
       " 'explained_variance_ratio_',\n",
       " 'fit',\n",
       " 'fit_transform',\n",
       " 'get_params',\n",
       " 'intercept_',\n",
       " 'means_',\n",
       " 'n_components',\n",
       " 'n_features_in_',\n",
       " 'predict',\n",
       " 'predict_log_proba',\n",
       " 'predict_proba',\n",
       " 'priors',\n",
       " 'priors_',\n",
       " 'scalings_',\n",
       " 'score',\n",
       " 'set_params',\n",
       " 'shrinkage',\n",
       " 'solver',\n",
       " 'store_covariance',\n",
       " 'tol',\n",
       " 'transform',\n",
       " 'xbar_']"
      ]
     },
     "execution_count": 152,
     "metadata": {},
     "output_type": "execute_result"
    }
   ],
   "source": [
    "dir(clf)"
   ]
  }
 ],
 "metadata": {
  "kernelspec": {
   "display_name": "Python 3",
   "language": "python",
   "name": "python3"
  },
  "language_info": {
   "codemirror_mode": {
    "name": "ipython",
    "version": 3
   },
   "file_extension": ".py",
   "mimetype": "text/x-python",
   "name": "python",
   "nbconvert_exporter": "python",
   "pygments_lexer": "ipython3",
   "version": "3.8.3"
  }
 },
 "nbformat": 4,
 "nbformat_minor": 5
}

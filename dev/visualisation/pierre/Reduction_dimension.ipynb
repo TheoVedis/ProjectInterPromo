{
 "cells": [
  {
   "cell_type": "code",
   "execution_count": 1,
   "id": "8b1d8c7d",
   "metadata": {},
   "outputs": [
    {
     "name": "stdout",
     "output_type": "stream",
     "text": [
      "Populating the interactive namespace from numpy and matplotlib\n"
     ]
    }
   ],
   "source": [
    "import pandas as pd\n",
    "import  numpy as np\n",
    "%pylab inline"
   ]
  },
  {
   "cell_type": "markdown",
   "id": "f22d7c84",
   "metadata": {},
   "source": [
    "# LINEAR DISCRIMINANT ANALYSE"
   ]
  },
  {
   "cell_type": "code",
   "execution_count": 3,
   "id": "bae38dfb",
   "metadata": {},
   "outputs": [],
   "source": [
    "path = r\"C:\\Users\\Utilisateur\\Desktop\\Projet_interpromo_2k22\\ProjectInterPromo\\data\\Donnees_v1.csv\""
   ]
  },
  {
   "cell_type": "code",
   "execution_count": 4,
   "id": "e108aaee",
   "metadata": {},
   "outputs": [],
   "source": [
    "data = pd.read_csv(path)"
   ]
  },
  {
   "cell_type": "code",
   "execution_count": 5,
   "id": "3c4caae6",
   "metadata": {},
   "outputs": [],
   "source": [
    "quali_col = []\n",
    "count = 0\n",
    "for i, name in zip(data.dtypes, data.columns):\n",
    "    if i == \"object\":\n",
    "        quali_col.append(name)\n",
    "\n",
    "data_quanti = data.drop(columns=quali_col + [\"Unnamed: 0\"])\n"
   ]
  },
  {
   "cell_type": "code",
   "execution_count": 16,
   "id": "4998445a",
   "metadata": {},
   "outputs": [],
   "source": [
    "'''\n",
    "solvers : {‘svd’, ‘lsqr’, ‘eigen’}\n",
    "\n",
    "\n",
    "'''\n",
    "df = data_quanti.sample(1000)"
   ]
  },
  {
   "cell_type": "code",
   "execution_count": null,
   "id": "438bd829",
   "metadata": {},
   "outputs": [],
   "source": []
  },
  {
   "cell_type": "code",
   "execution_count": 13,
   "id": "46ca73bb",
   "metadata": {},
   "outputs": [],
   "source": [
    "from sklearn.discriminant_analysis import LinearDiscriminantAnalysis\n"
   ]
  },
  {
   "cell_type": "code",
   "execution_count": 27,
   "id": "872a09ad",
   "metadata": {},
   "outputs": [],
   "source": [
    "X , Y = df.drop(['TOP_FRAUDE', 'TOP_FRAUDE_CARTE', 'TOP_FRAUDE_VIREMENT'],1) , df['TOP_FRAUDE']"
   ]
  },
  {
   "cell_type": "code",
   "execution_count": 42,
   "id": "b6cb8c7e",
   "metadata": {},
   "outputs": [
    {
     "data": {
      "text/plain": [
       "LinearDiscriminantAnalysis()"
      ]
     },
     "execution_count": 42,
     "metadata": {},
     "output_type": "execute_result"
    }
   ],
   "source": [
    "clf = LinearDiscriminantAnalysis()\n",
    "clf.fit(X , Y)"
   ]
  },
  {
   "cell_type": "code",
   "execution_count": 61,
   "id": "0afb7060",
   "metadata": {},
   "outputs": [],
   "source": [
    "coefficients = clf.coef_\n",
    "#plt.plot(clf.xbar_)\n",
    "# EQM\n",
    "X_test = data_quanti.sample(50000)\n",
    "Y_test = X_test['TOP_FRAUDE']\n",
    "X_test = X_test.drop(['TOP_FRAUDE', 'TOP_FRAUDE_CARTE', 'TOP_FRAUDE_VIREMENT'],1) \n"
   ]
  },
  {
   "cell_type": "code",
   "execution_count": 62,
   "id": "202fa05b",
   "metadata": {},
   "outputs": [
    {
     "data": {
      "text/plain": [
       "array([0, 0, 0, ..., 0, 0, 0], dtype=int64)"
      ]
     },
     "execution_count": 62,
     "metadata": {},
     "output_type": "execute_result"
    }
   ],
   "source": [
    "clf.predict(X_test)"
   ]
  },
  {
   "cell_type": "code",
   "execution_count": 65,
   "id": "3450f2e1",
   "metadata": {},
   "outputs": [],
   "source": [
    "# evaluation\n",
    "from sklearn.metrics import precision_recall_curve, auc\n",
    "def evaluation(score: np.ndarray, y: np.ndarray, display=False):\n",
    "    precision, recall, thresholds = precision_recall_curve(y, score)\n",
    "    f1_score = 2 * precision * recall / (precision + recall)\n",
    "    \n",
    "    value = auc(recall, precision)\n",
    "    \n",
    "    if display:\n",
    "        plt.plot(recall, precision)\n",
    "        plt.show()\n",
    "    print(f'l''aire sous la courbe{value}')\n",
    "    print(f'le f1_score est{f1_score}')\n",
    "    print(f'la precision est{precision}')\n",
    "    print(f'le recall est{recall}')\n",
    "    return value, f1_score, precision, recall\n"
   ]
  },
  {
   "cell_type": "code",
   "execution_count": 66,
   "id": "b8eccde7",
   "metadata": {},
   "outputs": [
    {
     "data": {
      "image/png": "[encoded data removed]",
      "text/plain": [
       "<Figure size 432x288 with 1 Axes>"
      ]
     },
     "metadata": {
      "needs_background": "light"
     },
     "output_type": "display_data"
    },
    {
     "name": "stdout",
     "output_type": "stream",
     "text": [
      "laire sous la courbe{value}\n",
      "le f1_score est[0.0041912  0.02173913 0.        ]\n",
      "la precision est[0.0021     0.01754386 1.        ]\n",
      "le recall est[1.         0.02857143 0.        ]\n"
     ]
    },
    {
     "data": {
      "text/plain": [
       "(0.02407764411027569,\n",
       " array([0.0041912 , 0.02173913, 0.        ]),\n",
       " array([0.0021    , 0.01754386, 1.        ]),\n",
       " array([1.        , 0.02857143, 0.        ]))"
      ]
     },
     "execution_count": 66,
     "metadata": {},
     "output_type": "execute_result"
    }
   ],
   "source": [
    "evaluation(clf.predict(X_test) , Y_test, True)"
   ]
  },
  {
   "cell_type": "code",
   "execution_count": 179,
   "id": "17be1842",
   "metadata": {},
   "outputs": [],
   "source": [
    "importances = clf.coef_\n"
   ]
  },
  {
   "cell_type": "code",
   "execution_count": 180,
   "id": "ba8c7835",
   "metadata": {},
   "outputs": [
    {
     "data": {
      "text/plain": [
       "'seg_nature_potentiel_HDG DYNAMIQUE'"
      ]
     },
     "execution_count": 180,
     "metadata": {},
     "output_type": "execute_result"
    }
   ],
   "source": [
    "importances = importances.reshape(393 , 1)\n",
    "\n",
    "d = dict(zip(data_quanti.columns , importances))\n",
    "d_tri = sorted(d.items(), key=lambda t: np.abs(t[1]))\n",
    "d_tri[-1][0]"
   ]
  },
  {
   "cell_type": "code",
   "execution_count": 182,
   "id": "fcdc9e0f",
   "metadata": {},
   "outputs": [
    {
     "data": {
      "image/png": "[encoded data removed]",
      "text/plain": [
       "<Figure size 432x288 with 1 Axes>"
      ]
     },
     "metadata": {
      "needs_background": "light"
     },
     "output_type": "display_data"
    }
   ],
   "source": [
    "plt.scatter(data_quanti[data_quanti[\"TOP_FRAUDE\"]==0][d_tri[-1][0]], data_quanti[data_quanti[\"TOP_FRAUDE\"]==0][d_tri[-2][0]], alpha=0.2, c=\"orange\", label=\"Not Fraude\")\n",
    "#plt.scatter(data_quanti[data_quanti[\"TOP_FRAUDE\"]==1][d_tri[-1][0]], data_quanti[data_quanti[\"TOP_FRAUDE\"]==1][d_tri[-2][0]], alpha=0.7, c=\"blue\", label=\"Fraude\")\n",
    "#plt.legend()\n",
    "plt.show()"
   ]
  },
  {
   "cell_type": "code",
   "execution_count": 148,
   "id": "eef70167",
   "metadata": {},
   "outputs": [
    {
     "data": {
      "text/plain": [
       "[<matplotlib.lines.Line2D at 0x1fe91824490>]"
      ]
     },
     "execution_count": 148,
     "metadata": {},
     "output_type": "execute_result"
    },
    {
     "data": {
      "image/png": "[encoded data removed]",
      "text/plain": [
       "<Figure size 432x288 with 1 Axes>"
      ]
     },
     "metadata": {
      "needs_background": "light"
     },
     "output_type": "display_data"
    }
   ],
   "source": [
    "plt.plot(data_quanti[d_tri[-1][0]] , data_quanti['TOP_FRAUDE'])\n",
    "plt.savefig"
   ]
  },
  {
   "cell_type": "code",
   "execution_count": 160,
   "id": "3189fd1e",
   "metadata": {},
   "outputs": [
    {
     "name": "stdout",
     "output_type": "stream",
     "text": [
      "le taux de la variable la plus pertinente est 0.018876587568812307 tandis que le taux fraude est 0.0019189745376801835\n"
     ]
    }
   ],
   "source": [
    "a = np.sum(data_quanti[d_tri[-1][0]]) / len(data_quanti[d_tri[-1][0]])\n",
    "\n",
    "b= np.sum(data_quanti[\"TOP_FRAUDE\"]) / len(data_quanti[\"TOP_FRAUDE\"])\n",
    "\n",
    "print(f'le taux de la variable la plus pertinente est {a} tandis que le taux fraude est {b}')"
   ]
  },
  {
   "cell_type": "markdown",
   "id": "7c98948d",
   "metadata": {},
   "source": [
    "# Fonction LDA:"
   ]
  },
  {
   "cell_type": "code",
   "execution_count": 201,
   "id": "2f649726",
   "metadata": {},
   "outputs": [],
   "source": [
    "def LDA (df, \n",
    "         column_fraude,\n",
    "        alpha #list(alpha0 , alpha1)\n",
    "        ):\n",
    "    # enlever les variables qualitatives.\n",
    "    quali_col = []\n",
    "    for i, name in zip(df.dtypes, df.columns):\n",
    "        if i == \"object\":\n",
    "            quali_col.append(name)\n",
    "\n",
    "    data_quanti = df.drop(columns=quali_col)\n",
    "    X , Y = data_quanti.drop(['TOP_FRAUDE', 'TOP_FRAUDE_CARTE', 'TOP_FRAUDE_VIREMENT'],1) , column_fraude\n",
    "    clf = LinearDiscriminantAnalysis()\n",
    "    clf.fit(X , Y)\n",
    "    importances = clf.coef_\n",
    "    importances = importances.reshape(len(X.columns) , 1)\n",
    "\n",
    "    d = dict(zip(data_quanti.columns , importances))\n",
    "    d_tri = sorted(d.items(), key=lambda t: np.abs(t[1]))\n",
    "    \n",
    "    plt.scatter(data_quanti[data_quanti[\"TOP_FRAUDE\"]==0][d_tri[-1][0]], data_quanti[data_quanti[\"TOP_FRAUDE\"]==0][d_tri[-2][0]], alpha=alpha[0], c=\"orange\", label=\"Not Fraude\")\n",
    "    plt.scatter(data_quanti[data_quanti[\"TOP_FRAUDE\"]==1][d_tri[-1][0]], data_quanti[data_quanti[\"TOP_FRAUDE\"]==1][d_tri[-2][0]], alpha=alpha[1], c=\"blue\", label=\"Fraude\")\n",
    "    plt.legend()\n",
    "    plt.title('Fraudes sur les 2 meilleurs axes')\n",
    "    plt.show()\n",
    "    print(f'Les variables 10 variables les plus importantes sont {d_tri[-10:]}')"
   ]
  },
  {
   "cell_type": "markdown",
   "id": "67d5d674",
   "metadata": {},
   "source": [
    "# TSNE:"
   ]
  },
  {
   "cell_type": "code",
   "execution_count": 10,
   "id": "7faab3f8",
   "metadata": {},
   "outputs": [],
   "source": [
    "import matplotlib.pyplot as plt \n",
    "import seaborn as sns"
   ]
  },
  {
   "cell_type": "code",
   "execution_count": 12,
   "id": "68763dec",
   "metadata": {},
   "outputs": [
    {
     "data": {
      "text/plain": [
       "Index(['TOP_FRAUDE', 'TOP_FRAUDE_CARTE', 'TOP_FRAUDE_VIREMENT', 'TOP_E_RELEVE',\n",
       "       'MESSAGERIE_WEB_ACTIVE', 'FIAB_TEL_DOMICILE', 'FIAB_TEL_TRAVAIL',\n",
       "       'FIAB_TEL_PORTABLE', 'FIAB_EMAIL', 'REFUS_SEA',\n",
       "       ...\n",
       "       'SECTEUR_GESTION_SECTEUR MONTPELLIER CENTRE UNIV',\n",
       "       'SECTEUR_GESTION_SECTEUR MONTPELLIER PIC ST LOUP',\n",
       "       'SECTEUR_GESTION_SECTEUR NARBONNE', 'SECTEUR_GESTION_SECTEUR NIMES',\n",
       "       'SECTEUR_GESTION_SECTEUR NORD', 'SECTEUR_GESTION_SECTEUR OUEST',\n",
       "       'SECTEUR_GESTION_SECTEUR SUD', 'SECTEUR_GESTION_SECTEUR THAU LITTORAL',\n",
       "       'SECTEUR_GESTION_SECTEUR VALLEE DU RHONE',\n",
       "       'SECTEUR_GESTION_SVCES SIEGES BR RESEAUX'],\n",
       "      dtype='object', length=396)"
      ]
     },
     "execution_count": 12,
     "metadata": {},
     "output_type": "execute_result"
    }
   ],
   "source": [
    "from sklearn.manifold import TSNE\n",
    "df.columns"
   ]
  },
  {
   "cell_type": "code",
   "execution_count": 15,
   "id": "284e3092",
   "metadata": {},
   "outputs": [
    {
     "name": "stdout",
     "output_type": "stream",
     "text": [
      "[t-SNE] Computing 91 nearest neighbors...\n",
      "[t-SNE] Indexed 100000 samples in 0.053s...\n",
      "[t-SNE] Computed neighbors for 100000 samples in 469.700s...\n",
      "[t-SNE] Computed conditional probabilities for sample 1000 / 100000\n",
      "[t-SNE] Computed conditional probabilities for sample 2000 / 100000\n",
      "[t-SNE] Computed conditional probabilities for sample 3000 / 100000\n",
      "[t-SNE] Computed conditional probabilities for sample 4000 / 100000\n",
      "[t-SNE] Computed conditional probabilities for sample 5000 / 100000\n",
      "[t-SNE] Computed conditional probabilities for sample 6000 / 100000\n",
      "[t-SNE] Computed conditional probabilities for sample 7000 / 100000\n",
      "[t-SNE] Computed conditional probabilities for sample 8000 / 100000\n",
      "[t-SNE] Computed conditional probabilities for sample 9000 / 100000\n",
      "[t-SNE] Computed conditional probabilities for sample 10000 / 100000\n",
      "[t-SNE] Computed conditional probabilities for sample 11000 / 100000\n",
      "[t-SNE] Computed conditional probabilities for sample 12000 / 100000\n",
      "[t-SNE] Computed conditional probabilities for sample 13000 / 100000\n",
      "[t-SNE] Computed conditional probabilities for sample 14000 / 100000\n",
      "[t-SNE] Computed conditional probabilities for sample 15000 / 100000\n",
      "[t-SNE] Computed conditional probabilities for sample 16000 / 100000\n",
      "[t-SNE] Computed conditional probabilities for sample 17000 / 100000\n",
      "[t-SNE] Computed conditional probabilities for sample 18000 / 100000\n",
      "[t-SNE] Computed conditional probabilities for sample 19000 / 100000\n",
      "[t-SNE] Computed conditional probabilities for sample 20000 / 100000\n",
      "[t-SNE] Computed conditional probabilities for sample 21000 / 100000\n",
      "[t-SNE] Computed conditional probabilities for sample 22000 / 100000\n",
      "[t-SNE] Computed conditional probabilities for sample 23000 / 100000\n",
      "[t-SNE] Computed conditional probabilities for sample 24000 / 100000\n",
      "[t-SNE] Computed conditional probabilities for sample 25000 / 100000\n",
      "[t-SNE] Computed conditional probabilities for sample 26000 / 100000\n",
      "[t-SNE] Computed conditional probabilities for sample 27000 / 100000\n",
      "[t-SNE] Computed conditional probabilities for sample 28000 / 100000\n",
      "[t-SNE] Computed conditional probabilities for sample 29000 / 100000\n",
      "[t-SNE] Computed conditional probabilities for sample 30000 / 100000\n",
      "[t-SNE] Computed conditional probabilities for sample 31000 / 100000\n",
      "[t-SNE] Computed conditional probabilities for sample 32000 / 100000\n",
      "[t-SNE] Computed conditional probabilities for sample 33000 / 100000\n",
      "[t-SNE] Computed conditional probabilities for sample 34000 / 100000\n",
      "[t-SNE] Computed conditional probabilities for sample 35000 / 100000\n",
      "[t-SNE] Computed conditional probabilities for sample 36000 / 100000\n",
      "[t-SNE] Computed conditional probabilities for sample 37000 / 100000\n",
      "[t-SNE] Computed conditional probabilities for sample 38000 / 100000\n",
      "[t-SNE] Computed conditional probabilities for sample 39000 / 100000\n",
      "[t-SNE] Computed conditional probabilities for sample 40000 / 100000\n",
      "[t-SNE] Computed conditional probabilities for sample 41000 / 100000\n",
      "[t-SNE] Computed conditional probabilities for sample 42000 / 100000\n",
      "[t-SNE] Computed conditional probabilities for sample 43000 / 100000\n",
      "[t-SNE] Computed conditional probabilities for sample 44000 / 100000\n",
      "[t-SNE] Computed conditional probabilities for sample 45000 / 100000\n",
      "[t-SNE] Computed conditional probabilities for sample 46000 / 100000\n",
      "[t-SNE] Computed conditional probabilities for sample 47000 / 100000\n",
      "[t-SNE] Computed conditional probabilities for sample 48000 / 100000\n",
      "[t-SNE] Computed conditional probabilities for sample 49000 / 100000\n",
      "[t-SNE] Computed conditional probabilities for sample 50000 / 100000\n",
      "[t-SNE] Computed conditional probabilities for sample 51000 / 100000\n",
      "[t-SNE] Computed conditional probabilities for sample 52000 / 100000\n",
      "[t-SNE] Computed conditional probabilities for sample 53000 / 100000\n",
      "[t-SNE] Computed conditional probabilities for sample 54000 / 100000\n",
      "[t-SNE] Computed conditional probabilities for sample 55000 / 100000\n",
      "[t-SNE] Computed conditional probabilities for sample 56000 / 100000\n",
      "[t-SNE] Computed conditional probabilities for sample 57000 / 100000\n",
      "[t-SNE] Computed conditional probabilities for sample 58000 / 100000\n",
      "[t-SNE] Computed conditional probabilities for sample 59000 / 100000\n",
      "[t-SNE] Computed conditional probabilities for sample 60000 / 100000\n",
      "[t-SNE] Computed conditional probabilities for sample 61000 / 100000\n",
      "[t-SNE] Computed conditional probabilities for sample 62000 / 100000\n",
      "[t-SNE] Computed conditional probabilities for sample 63000 / 100000\n",
      "[t-SNE] Computed conditional probabilities for sample 64000 / 100000\n",
      "[t-SNE] Computed conditional probabilities for sample 65000 / 100000\n",
      "[t-SNE] Computed conditional probabilities for sample 66000 / 100000\n",
      "[t-SNE] Computed conditional probabilities for sample 67000 / 100000\n",
      "[t-SNE] Computed conditional probabilities for sample 68000 / 100000\n",
      "[t-SNE] Computed conditional probabilities for sample 69000 / 100000\n",
      "[t-SNE] Computed conditional probabilities for sample 70000 / 100000\n",
      "[t-SNE] Computed conditional probabilities for sample 71000 / 100000\n",
      "[t-SNE] Computed conditional probabilities for sample 72000 / 100000\n",
      "[t-SNE] Computed conditional probabilities for sample 73000 / 100000\n",
      "[t-SNE] Computed conditional probabilities for sample 74000 / 100000\n",
      "[t-SNE] Computed conditional probabilities for sample 75000 / 100000\n",
      "[t-SNE] Computed conditional probabilities for sample 76000 / 100000\n",
      "[t-SNE] Computed conditional probabilities for sample 77000 / 100000\n",
      "[t-SNE] Computed conditional probabilities for sample 78000 / 100000\n",
      "[t-SNE] Computed conditional probabilities for sample 79000 / 100000\n",
      "[t-SNE] Computed conditional probabilities for sample 80000 / 100000\n",
      "[t-SNE] Computed conditional probabilities for sample 81000 / 100000\n",
      "[t-SNE] Computed conditional probabilities for sample 82000 / 100000\n",
      "[t-SNE] Computed conditional probabilities for sample 83000 / 100000\n",
      "[t-SNE] Computed conditional probabilities for sample 84000 / 100000\n",
      "[t-SNE] Computed conditional probabilities for sample 85000 / 100000\n",
      "[t-SNE] Computed conditional probabilities for sample 86000 / 100000\n",
      "[t-SNE] Computed conditional probabilities for sample 87000 / 100000\n",
      "[t-SNE] Computed conditional probabilities for sample 88000 / 100000\n",
      "[t-SNE] Computed conditional probabilities for sample 89000 / 100000\n",
      "[t-SNE] Computed conditional probabilities for sample 90000 / 100000\n",
      "[t-SNE] Computed conditional probabilities for sample 91000 / 100000\n",
      "[t-SNE] Computed conditional probabilities for sample 92000 / 100000\n",
      "[t-SNE] Computed conditional probabilities for sample 93000 / 100000\n",
      "[t-SNE] Computed conditional probabilities for sample 94000 / 100000\n",
      "[t-SNE] Computed conditional probabilities for sample 95000 / 100000\n",
      "[t-SNE] Computed conditional probabilities for sample 96000 / 100000\n",
      "[t-SNE] Computed conditional probabilities for sample 97000 / 100000\n",
      "[t-SNE] Computed conditional probabilities for sample 98000 / 100000\n",
      "[t-SNE] Computed conditional probabilities for sample 99000 / 100000\n",
      "[t-SNE] Computed conditional probabilities for sample 100000 / 100000\n",
      "[t-SNE] Mean sigma: 10.806723\n",
      "[t-SNE] KL divergence after 250 iterations with early exaggeration: 100.108704\n",
      "[t-SNE] KL divergence after 1000 iterations: 3.045720\n"
     ]
    }
   ],
   "source": [
    "X =df.drop(['TOP_FRAUDE', 'TOP_FRAUDE_CARTE', 'TOP_FRAUDE_VIREMENT'], 1)\n",
    "Y = df['TOP_FRAUDE']\n",
    "\n",
    "tsne = TSNE(n_components=2, verbose=1, random_state=123)\n",
    "z = tsne.fit_transform(X) "
   ]
  },
  {
   "cell_type": "code",
   "execution_count": 47,
   "id": "d4c04fa5",
   "metadata": {},
   "outputs": [],
   "source": [
    "from sklearn.manifold import TSNE\n",
    "import matplotlib.pyplot as plt \n",
    "import seaborn as sns\n",
    "\n",
    "def T_SNE(\n",
    "    df,\n",
    "    column_fraude,\n",
    "    n_composant,\n",
    "    \n",
    "    alphas\n",
    "    ):\n",
    "\n",
    "    #preparation des entrées du modèles\n",
    "    X = df.drop(['TOP_FRAUDE', 'TOP_FRAUDE_CARTE', 'TOP_FRAUDE_VIREMENT'],1)\n",
    "    Y = df[str(column_fraude)]\n",
    "    tsne = TSNE(n_components = int(n_composant), verbose=1, random_state=123)\n",
    "    z = tsne.fit_transform(X) \n",
    "    resultat = pd.DataFrame()\n",
    "    resultat[\"y\"] = Y\n",
    "    resultat[\"comp-1\"] = z[:,0]\n",
    "    resultat[\"comp-2\"] = z[:,1]\n",
    "\n",
    "    plt.scatter(resultat[\"comp-1\"][data_quanti[column_fraude]==0], resultat[\"comp-2\"][data_quanti[column_fraude]==0], alpha=alphas[0], c=\"orange\", label=\"Not Fraude\")\n",
    "    plt.scatter(resultat[\"comp-1\"][data_quanti[column_fraude]==1], resultat[\"comp-2\"][data_quanti[column_fraude]==1], alpha=alphas[1], c=\"b\", label=\"Fraude\")\n",
    "    plt.legend()\n",
    "    plt.show()\n",
    "    d = {'coordonnées composante 1' : resultat['comp-1'], 'coordonnées composante 2': resultat[\"comp-2\"]}\n",
    "    return pd.DataFrame(d)"
   ]
  },
  {
   "cell_type": "code",
   "execution_count": 48,
   "id": "70dcf333",
   "metadata": {},
   "outputs": [
    {
     "name": "stdout",
     "output_type": "stream",
     "text": [
      "[t-SNE] Computing 91 nearest neighbors...\n",
      "[t-SNE] Indexed 1000 samples in 0.000s...\n",
      "[t-SNE] Computed neighbors for 1000 samples in 0.069s...\n",
      "[t-SNE] Computed conditional probabilities for sample 1000 / 1000\n",
      "[t-SNE] Mean sigma: 72.725169\n",
      "[t-SNE] KL divergence after 250 iterations with early exaggeration: 61.175610\n",
      "[t-SNE] KL divergence after 1000 iterations: 0.461764\n"
     ]
    },
    {
     "data": {
      "image/png": "[encoded data removed]",
      "text/plain": [
       "<Figure size 432x288 with 1 Axes>"
      ]
     },
     "metadata": {
      "needs_background": "light"
     },
     "output_type": "display_data"
    },
    {
     "data": {
      "text/html": [
       "<div>\n",
       "<style scoped>\n",
       "    .dataframe tbody tr th:only-of-type {\n",
       "        vertical-align: middle;\n",
       "    }\n",
       "\n",
       "    .dataframe tbody tr th {\n",
       "        vertical-align: top;\n",
       "    }\n",
       "\n",
       "    .dataframe thead th {\n",
       "        text-align: right;\n",
       "    }\n",
       "</style>\n",
       "<table border=\"1\" class=\"dataframe\">\n",
       "  <thead>\n",
       "    <tr style=\"text-align: right;\">\n",
       "      <th></th>\n",
       "      <th>coordonnées composante 1</th>\n",
       "      <th>coordonnées composante 2</th>\n",
       "    </tr>\n",
       "  </thead>\n",
       "  <tbody>\n",
       "    <tr>\n",
       "      <th>169876</th>\n",
       "      <td>-11.711293</td>\n",
       "      <td>4.838533</td>\n",
       "    </tr>\n",
       "    <tr>\n",
       "      <th>380682</th>\n",
       "      <td>-2.513147</td>\n",
       "      <td>4.324501</td>\n",
       "    </tr>\n",
       "    <tr>\n",
       "      <th>710489</th>\n",
       "      <td>-3.064573</td>\n",
       "      <td>6.146793</td>\n",
       "    </tr>\n",
       "    <tr>\n",
       "      <th>707414</th>\n",
       "      <td>-9.733522</td>\n",
       "      <td>2.337250</td>\n",
       "    </tr>\n",
       "    <tr>\n",
       "      <th>815145</th>\n",
       "      <td>-13.224954</td>\n",
       "      <td>2.119411</td>\n",
       "    </tr>\n",
       "    <tr>\n",
       "      <th>...</th>\n",
       "      <td>...</td>\n",
       "      <td>...</td>\n",
       "    </tr>\n",
       "    <tr>\n",
       "      <th>15154</th>\n",
       "      <td>-1.254954</td>\n",
       "      <td>14.975705</td>\n",
       "    </tr>\n",
       "    <tr>\n",
       "      <th>1355</th>\n",
       "      <td>-1.813629</td>\n",
       "      <td>15.327593</td>\n",
       "    </tr>\n",
       "    <tr>\n",
       "      <th>700892</th>\n",
       "      <td>-8.628689</td>\n",
       "      <td>0.933974</td>\n",
       "    </tr>\n",
       "    <tr>\n",
       "      <th>113073</th>\n",
       "      <td>-1.113059</td>\n",
       "      <td>2.172549</td>\n",
       "    </tr>\n",
       "    <tr>\n",
       "      <th>647678</th>\n",
       "      <td>-3.352216</td>\n",
       "      <td>13.008951</td>\n",
       "    </tr>\n",
       "  </tbody>\n",
       "</table>\n",
       "<p>1000 rows × 2 columns</p>\n",
       "</div>"
      ],
      "text/plain": [
       "        coordonnées composante 1  coordonnées composante 2\n",
       "169876                -11.711293                  4.838533\n",
       "380682                 -2.513147                  4.324501\n",
       "710489                 -3.064573                  6.146793\n",
       "707414                 -9.733522                  2.337250\n",
       "815145                -13.224954                  2.119411\n",
       "...                          ...                       ...\n",
       "15154                  -1.254954                 14.975705\n",
       "1355                   -1.813629                 15.327593\n",
       "700892                 -8.628689                  0.933974\n",
       "113073                 -1.113059                  2.172549\n",
       "647678                 -3.352216                 13.008951\n",
       "\n",
       "[1000 rows x 2 columns]"
      ]
     },
     "execution_count": 48,
     "metadata": {},
     "output_type": "execute_result"
    }
   ],
   "source": [
    "T_SNE(df, 'TOP_FRAUDE',3, [0.1, 0.5])"
   ]
  },
  {
   "cell_type": "code",
   "execution_count": null,
   "id": "693d6322",
   "metadata": {},
   "outputs": [],
   "source": []
  },
  {
   "cell_type": "markdown",
   "id": "6e4689f3",
   "metadata": {},
   "source": [
    "Test sur les données centrées réduites"
   ]
  }
 ],
 "metadata": {
  "kernelspec": {
   "display_name": "Python 3",
   "language": "python",
   "name": "python3"
  },
  "language_info": {
   "codemirror_mode": {
    "name": "ipython",
    "version": 3
   },
   "file_extension": ".py",
   "mimetype": "text/x-python",
   "name": "python",
   "nbconvert_exporter": "python",
   "pygments_lexer": "ipython3",
   "version": "3.8.3"
  }
 },
 "nbformat": 4,
 "nbformat_minor": 5
}

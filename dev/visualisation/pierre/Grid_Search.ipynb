{
 "cells": [
  {
   "cell_type": "code",
   "execution_count": 2,
   "id": "ec5acca4",
   "metadata": {},
   "outputs": [
    {
     "name": "stdout",
     "output_type": "stream",
     "text": [
      "Populating the interactive namespace from numpy and matplotlib\n"
     ]
    }
   ],
   "source": [
    "%pylab inline\n",
    "import pandas as pd"
   ]
  },
  {
   "cell_type": "code",
   "execution_count": 3,
   "id": "2d5063e6",
   "metadata": {},
   "outputs": [],
   "source": [
    "from sklearn.decomposition import PCA\n",
    "from sklearn.pipeline import Pipeline\n",
    "from sklearn.model_selection import GridSearchCV\n",
    "from sklearn.preprocessing import StandardScaler"
   ]
  },
  {
   "cell_type": "code",
   "execution_count": 18,
   "id": "a9910f28",
   "metadata": {},
   "outputs": [],
   "source": [
    "path = r\"C:\\Users\\Utilisateur\\Desktop\\Projet_interpromo_2k22\\ProjectInterPromo\\data\\donnee_v2_ech_train_transfo.csv\"\n",
    "\n",
    "data = pd.read_csv(path)\n",
    "quali_col = []\n",
    "count = 0\n",
    "for i, name in zip(data.dtypes, data.columns):\n",
    "    if i == \"object\":\n",
    "        quali_col.append(name)\n",
    "\n",
    "data_quanti = data.drop(columns=quali_col + [\"Unnamed: 0\"])"
   ]
  },
  {
   "cell_type": "code",
   "execution_count": 38,
   "id": "b4861efd",
   "metadata": {},
   "outputs": [],
   "source": [
    "X = data_quanti.drop(['TOP_FRAUDE_CARTE', 'TOP_FRAUDE_VIREMENT'] , 1)\n",
    "X_s = X.sample(100000)\n",
    "Y_s = X_s['TOP_FRAUDE']\n",
    "X_s = X_s.drop('TOP_FRAUDE', 1)"
   ]
  },
  {
   "cell_type": "code",
   "execution_count": 25,
   "id": "0dc35110",
   "metadata": {},
   "outputs": [
    {
     "data": {
      "text/plain": [
       "GridSearchCV(estimator=Pipeline(steps=[('scaler', StandardScaler()),\n",
       "                                       ('pca', PCA())]),\n",
       "             n_jobs=2,\n",
       "             param_grid={'pca__n_components': [5, 15, 30, 45, 60],\n",
       "                         'pca__svd_solver': ['auto', 'full', 'arpack',\n",
       "                                             'randomized']})"
      ]
     },
     "execution_count": 25,
     "metadata": {},
     "output_type": "execute_result"
    }
   ],
   "source": [
    "pca = PCA()\n",
    "scaler = StandardScaler()\n",
    "pipe = Pipeline(steps=[(\"scaler\", scaler), (\"pca\", pca)])\n",
    "\n",
    "\n",
    "param_grid = {\n",
    "    \"pca__n_components\": [5, 15, 30, 45, 60],\n",
    "    \"pca__svd_solver\" : ['auto', 'full', 'arpack', 'randomized']\n",
    "}\n",
    "search = GridSearchCV(pipe, param_grid, n_jobs=2)\n",
    "search.fit(X_s)"
   ]
  },
  {
   "cell_type": "code",
   "execution_count": 26,
   "id": "c83781a1",
   "metadata": {},
   "outputs": [
    {
     "name": "stdout",
     "output_type": "stream",
     "text": [
      "les meilleurs paramètres sont {'pca__n_components': 60, 'pca__svd_solver': 'full'}\n"
     ]
    }
   ],
   "source": [
    "print(f'les meilleurs paramètres sont {search.best_params_}')\n"
   ]
  },
  {
   "cell_type": "markdown",
   "id": "f12e3bd1",
   "metadata": {},
   "source": [
    "##LASSO"
   ]
  },
  {
   "cell_type": "code",
   "execution_count": 43,
   "id": "be135656",
   "metadata": {},
   "outputs": [
    {
     "name": "stderr",
     "output_type": "stream",
     "text": [
      "c:\\users\\utilisateur\\appdata\\local\\programs\\python\\python38\\lib\\site-packages\\sklearn\\linear_model\\_coordinate_descent.py:530: ConvergenceWarning: Objective did not converge. You might want to increase the number of iterations. Duality gap: 87.95304157153575, tolerance: 0.01786795900000012\n",
      "  model = cd_fast.enet_coordinate_descent(\n"
     ]
    },
    {
     "data": {
      "text/plain": [
       "GridSearchCV(estimator=Pipeline(steps=[('scaler', StandardScaler()),\n",
       "                                       ('lasso', Lasso())]),\n",
       "             n_jobs=2,\n",
       "             param_grid={'lasso__alpha': [1e-100, 2e-100, 5e-100, 1e-10]})"
      ]
     },
     "execution_count": 43,
     "metadata": {},
     "output_type": "execute_result"
    }
   ],
   "source": [
    "from sklearn import linear_model\n",
    "Y = X_s\n",
    "lasso = linear_model.Lasso()\n",
    "\n",
    "params = {\n",
    "    'lasso__alpha': [1e-10, 2e-10, 5e-10, 1e-10]\n",
    "}\n",
    "scaler = StandardScaler()\n",
    "pipe = Pipeline(steps=[(\"scaler\", scaler), (\"lasso\", lasso)])\n",
    "search_lasso = GridSearchCV(pipe, params, n_jobs=2)\n",
    "search_lasso.fit(X_s , Y_s)"
   ]
  },
  {
   "cell_type": "code",
   "execution_count": 44,
   "id": "56391e41",
   "metadata": {},
   "outputs": [
    {
     "name": "stdout",
     "output_type": "stream",
     "text": [
      "les meilleurs paramères pour le Lasso sont {'lasso__alpha': 1e-10}\n"
     ]
    },
    {
     "data": {
      "text/plain": [
       "[1e-100, 2e-100, 5e-100, 1e-10]"
      ]
     },
     "execution_count": 44,
     "metadata": {},
     "output_type": "execute_result"
    }
   ],
   "source": [
    "print(f'les meilleurs paramères pour le Lasso sont {search_lasso.best_params_}')\n",
    "[1e-100, 2e-100, 5e-100, 1e-10]\n",
    "\n"
   ]
  },
  {
   "cell_type": "code",
   "execution_count": 49,
   "id": "a0d5b3ff",
   "metadata": {},
   "outputs": [
    {
     "data": {
      "text/plain": [
       "True"
      ]
     },
     "execution_count": 49,
     "metadata": {},
     "output_type": "execute_result"
    }
   ],
   "source": [
    "1e-10 == 0.0000000001\n"
   ]
  }
 ],
 "metadata": {
  "kernelspec": {
   "display_name": "Python 3",
   "language": "python",
   "name": "python3"
  },
  "language_info": {
   "codemirror_mode": {
    "name": "ipython",
    "version": 3
   },
   "file_extension": ".py",
   "mimetype": "text/x-python",
   "name": "python",
   "nbconvert_exporter": "python",
   "pygments_lexer": "ipython3",
   "version": "3.8.3"
  }
 },
 "nbformat": 4,
 "nbformat_minor": 5
}

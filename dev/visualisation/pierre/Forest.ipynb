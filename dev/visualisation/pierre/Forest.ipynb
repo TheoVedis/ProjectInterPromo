{
 "cells": [
  {
   "cell_type": "code",
   "execution_count": 1,
   "id": "206ee015",
   "metadata": {},
   "outputs": [],
   "source": [
    "import pandas as pd\n",
    "import numpy as np\n",
    "from sklearn.metrics import precision_recall_curve, auc\n",
    "import matplotlib.pyplot as plt\n",
    "from sklearn.ensemble import IsolationForest\n",
    "import random\n",
    "import seaborn as sns\n",
    "from sklearn.ensemble import IsolationForest"
   ]
  },
  {
   "cell_type": "code",
   "execution_count": 2,
   "id": "0111a195",
   "metadata": {},
   "outputs": [],
   "source": [
    "def evaluation(score: np.ndarray, y: np.ndarray, display=False):\n",
    "    precision, recall, thresholds = precision_recall_curve(y, score)\n",
    "    f1_score = 2 * precision * recall / (precision + recall)\n",
    "    \n",
    "    value = auc(recall, precision)\n",
    "    \n",
    "    if display:\n",
    "        plt.plot(recall, precision)\n",
    "        plt.show()\n",
    "    print(f'l''aire sous la courbe{value}')\n",
    "    print(f'le f1_score est{f1_score}')\n",
    "    print(f'la precision est{precision}')\n",
    "    print(f'le recall est{recall}')\n",
    "    return value, f1_score, precision, recall"
   ]
  },
  {
   "cell_type": "code",
   "execution_count": 27,
   "id": "3404c994",
   "metadata": {},
   "outputs": [
    {
     "name": "stdout",
     "output_type": "stream",
     "text": [
      "Nombre de fraude : 1618\n",
      "Nombre de données :  849346\n",
      "Ratio :  0.1904995137435156\n",
      "------------ Sur un echantillion ------------\n",
      "Nombre de fraude : 198\n",
      "Nombre de données :  100000\n",
      "Ratio :  0.198\n"
     ]
    }
   ],
   "source": [
    "# Lecture du fichier de donnée\n",
    "data_v0 = pd.read_csv(r\"C:\\Users\\Utilisateur\\Desktop\\Projet_interpromo_2k22\\ProjectInterPromo\\data\\Donnees_v0_NAN_remplaces.csv\")\n",
    "\n",
    "print(\"Nombre de fraude :\", sum(data_v0[\"TOP_FRAUDE\"]))\n",
    "print(\"Nombre de données : \", len(data_v0))\n",
    "print(\"Ratio : \", sum(data_v0[\"TOP_FRAUDE\"]) / len(data_v0) * 100)\n",
    "\n",
    "# Suppression des variables qualitative\n",
    "quali_col = []\n",
    "count = 0\n",
    "for i, name in zip(data_v0.dtypes, data_v0.columns):\n",
    "    if i == \"object\":\n",
    "        quali_col.append(name)\n",
    "\n",
    "data_quanti = data_v0.drop(columns=quali_col + [\"Unnamed: 0\"])\n",
    "\n",
    "# \n",
    "data_quanti = data_quanti.sample(100000)\n",
    "\n",
    "print(\"------------ Sur un echantillion ------------\")\n",
    "print(\"Nombre de fraude :\", sum(data_quanti[\"TOP_FRAUDE\"]))\n",
    "print(\"Nombre de données : \", len(data_quanti))\n",
    "print(\"Ratio : \", sum(data_quanti[\"TOP_FRAUDE\"]) / len(data_quanti) * 100)"
   ]
  },
  {
   "cell_type": "markdown",
   "id": "7cdff1db",
   "metadata": {},
   "source": [
    "# Prediction Aléatoire"
   ]
  },
  {
   "cell_type": "code",
   "execution_count": 5,
   "id": "a5edc64a",
   "metadata": {},
   "outputs": [
    {
     "data": {
      "image/png": "[encoded data removed]",
      "text/plain": [
       "<Figure size 432x288 with 1 Axes>"
      ]
     },
     "metadata": {
      "needs_background": "light"
     },
     "output_type": "display_data"
    },
    {
     "name": "stdout",
     "output_type": "stream",
     "text": [
      "laire sous la courbe{value}\n",
      "le f1_score est[0.00367324 0.00346876 0.        ]\n",
      "la precision est[0.00184    0.00174077 1.        ]\n",
      "le recall est[1.         0.47282609 0.        ]\n"
     ]
    },
    {
     "data": {
      "text/plain": [
       "(0.23776842644676702,\n",
       " array([0.00367324, 0.00346876, 0.        ]),\n",
       " array([0.00184   , 0.00174077, 1.        ]),\n",
       " array([1.        , 0.47282609, 0.        ]))"
      ]
     },
     "execution_count": 5,
     "metadata": {},
     "output_type": "execute_result"
    }
   ],
   "source": [
    "# comparaison a la prédiction aléaotire\n",
    "n = len(data_quanti)\n",
    "y = np.random.choice(2,n) \n",
    "evaluation(y , data_quanti['TOP_FRAUDE'] , True)"
   ]
  },
  {
   "cell_type": "markdown",
   "id": "2b55aad2",
   "metadata": {},
   "source": [
    "#  Modèle 1 : "
   ]
  },
  {
   "cell_type": "code",
   "execution_count": 12,
   "id": "976eb912",
   "metadata": {},
   "outputs": [
    {
     "data": {
      "text/plain": [
       "Index(['TOP_FRAUDE', 'TOP_FRAUDE_CARTE', 'TOP_FRAUDE_VIREMENT', 'TOP_E_RELEVE',\n",
       "       'MESSAGERIE_WEB_ACTIVE', 'FIAB_TEL_DOMICILE', 'FIAB_TEL_TRAVAIL',\n",
       "       'FIAB_TEL_PORTABLE', 'FIAB_EMAIL', 'REFUS_SEA',\n",
       "       ...\n",
       "       'top_produit_Credit', 'top_produit_Epargne', 'top_produit_Services',\n",
       "       'mt_factu_ttc_M', 'mt_factu_ttc_M6', 'mt_reduc_ttc_M',\n",
       "       'mt_reduc_ttc_M6', 'mt_rist_ttc_M', 'mt_rist_ttc_M6',\n",
       "       'Flag_bq_principale'],\n",
       "      dtype='object', length=231)"
      ]
     },
     "execution_count": 12,
     "metadata": {},
     "output_type": "execute_result"
    }
   ],
   "source": [
    "data_quanti.columns"
   ]
  },
  {
   "cell_type": "code",
   "execution_count": 28,
   "id": "d4612a6f",
   "metadata": {},
   "outputs": [],
   "source": [
    "X = data_quanti.drop([ 'TOP_FRAUDE_CARTE', 'TOP_FRAUDE_VIREMENT', 'TOP_FRAUDE'], 1)"
   ]
  },
  {
   "cell_type": "code",
   "execution_count": 29,
   "id": "0c541b5e",
   "metadata": {},
   "outputs": [
    {
     "data": {
      "text/plain": [
       "IsolationForest(contamination=0.05, n_estimators=200)"
      ]
     },
     "execution_count": 29,
     "metadata": {},
     "output_type": "execute_result"
    }
   ],
   "source": [
    "model=IsolationForest(n_estimators=200, max_samples='auto', contamination=float(0.05),max_features=1.0)\n",
    "model.fit(X)"
   ]
  },
  {
   "cell_type": "code",
   "execution_count": 32,
   "id": "2aab0611",
   "metadata": {},
   "outputs": [],
   "source": [
    "\n",
    "scores = model.decision_function(X)\n",
    "#anomlies =model.predict(df[['TOP_FRAUDE']])"
   ]
  },
  {
   "cell_type": "markdown",
   "id": "26f3c3c2",
   "metadata": {},
   "source": [
    "evaluation du modèle"
   ]
  },
  {
   "cell_type": "code",
   "execution_count": 33,
   "id": "19165f22",
   "metadata": {},
   "outputs": [
    {
     "name": "stderr",
     "output_type": "stream",
     "text": [
      "<ipython-input-2-649c1f741720>:3: RuntimeWarning: invalid value encountered in true_divide\n",
      "  f1_score = 2 * precision * recall / (precision + recall)\n"
     ]
    },
    {
     "data": {
      "image/png": "[encoded data removed]",
      "text/plain": [
       "<Figure size 432x288 with 1 Axes>"
      ]
     },
     "metadata": {
      "needs_background": "light"
     },
     "output_type": "display_data"
    },
    {
     "name": "stdout",
     "output_type": "stream",
     "text": [
      "laire sous la courbe{value}\n",
      "le f1_score est[0.00395814 0.00393819 0.00393823 ...        nan        nan 0.        ]\n",
      "la precision est[0.00198299 0.001973   0.00197302 ... 0.         0.         1.        ]\n",
      "le recall est[1.         0.99494949 0.99494949 ... 0.         0.         0.        ]\n"
     ]
    },
    {
     "data": {
      "text/plain": [
       "(0.0014314776455430695,\n",
       " array([0.00395814, 0.00393819, 0.00393823, ...,        nan,        nan,\n",
       "        0.        ]),\n",
       " array([0.00198299, 0.001973  , 0.00197302, ..., 0.        , 0.        ,\n",
       "        1.        ]),\n",
       " array([1.        , 0.99494949, 0.99494949, ..., 0.        , 0.        ,\n",
       "        0.        ]))"
      ]
     },
     "execution_count": 33,
     "metadata": {},
     "output_type": "execute_result"
    }
   ],
   "source": [
    "#df.reindex(data_quanti.index)\n",
    "#scores = pd.Series(scores).apply(lambda x : np.abs(x))\n",
    "evaluation(scores, data_quanti['TOP_FRAUDE'] , True)\n",
    "\n",
    "\n"
   ]
  },
  {
   "cell_type": "code",
   "execution_count": 23,
   "id": "e57d7272",
   "metadata": {},
   "outputs": [
    {
     "data": {
      "text/plain": [
       "Index(['TOP_E_RELEVE', 'MESSAGERIE_WEB_ACTIVE', 'FIAB_TEL_DOMICILE',\n",
       "       'FIAB_TEL_TRAVAIL', 'FIAB_TEL_PORTABLE', 'FIAB_EMAIL', 'REFUS_SEA',\n",
       "       'NBJ_CNT_AGENCE_DEPOT_6M', 'NBJ_CNT_AGENCE_VENTE_6M',\n",
       "       'NBJ_CNT_RDV_AGENCE_6M',\n",
       "       ...\n",
       "       'top_produit_Credit', 'top_produit_Epargne', 'top_produit_Services',\n",
       "       'mt_factu_ttc_M', 'mt_factu_ttc_M6', 'mt_reduc_ttc_M',\n",
       "       'mt_reduc_ttc_M6', 'mt_rist_ttc_M', 'mt_rist_ttc_M6',\n",
       "       'Flag_bq_principale'],\n",
       "      dtype='object', length=228)"
      ]
     },
     "execution_count": 23,
     "metadata": {},
     "output_type": "execute_result"
    }
   ],
   "source": [
    "scores\n",
    "\n",
    "data_quanti.columns"
   ]
  },
  {
   "cell_type": "markdown",
   "id": "055c375a",
   "metadata": {},
   "source": [
    "# Modèle 2"
   ]
  },
  {
   "cell_type": "code",
   "execution_count": 34,
   "id": "68fed67b",
   "metadata": {},
   "outputs": [],
   "source": [
    "from sklearn.ensemble import IsolationForest\n",
    "X = data_quanti.drop(['TOP_FRAUDE_CARTE', 'TOP_FRAUDE_VIREMENT', 'TOP_FRAUDE'] , 1)\n",
    "clf = IsolationForest(random_state=0).fit(X)\n",
    "predic_forest=clf.predict(X)"
   ]
  },
  {
   "cell_type": "code",
   "execution_count": 35,
   "id": "f6223852",
   "metadata": {},
   "outputs": [],
   "source": [
    "def remplacement(liste):\n",
    "    for i in range(len(liste)):\n",
    "        if liste[i] == -1:\n",
    "            liste[i] =0\n",
    "    return liste\n",
    "\n",
    "score = remplacement(predic_forest)"
   ]
  },
  {
   "cell_type": "code",
   "execution_count": 36,
   "id": "01efb9a4",
   "metadata": {},
   "outputs": [
    {
     "data": {
      "image/png": "[encoded data removed]",
      "text/plain": [
       "<Figure size 432x288 with 1 Axes>"
      ]
     },
     "metadata": {
      "needs_background": "light"
     },
     "output_type": "display_data"
    },
    {
     "name": "stdout",
     "output_type": "stream",
     "text": [
      "laire sous la courbe{value}\n",
      "le f1_score est[0.00395217 0.00388537 0.        ]\n",
      "la precision est[0.00198    0.00194657 1.        ]\n",
      "le recall est[1.         0.97474747 0.        ]\n"
     ]
    },
    {
     "data": {
      "text/plain": [
       "(0.4883720200089631,\n",
       " array([0.00395217, 0.00388537, 0.        ]),\n",
       " array([0.00198   , 0.00194657, 1.        ]),\n",
       " array([1.        , 0.97474747, 0.        ]))"
      ]
     },
     "execution_count": 36,
     "metadata": {},
     "output_type": "execute_result"
    }
   ],
   "source": [
    "evaluation(score , data_quanti['TOP_FRAUDE'] , True)"
   ]
  },
  {
   "cell_type": "markdown",
   "id": "5e9098a8",
   "metadata": {},
   "source": [
    "# Modèle 3:"
   ]
  },
  {
   "cell_type": "code",
   "execution_count": 43,
   "id": "560321e0",
   "metadata": {},
   "outputs": [
    {
     "data": {
      "text/plain": [
       "pandas.core.series.Series"
      ]
     },
     "execution_count": 43,
     "metadata": {},
     "output_type": "execute_result"
    }
   ],
   "source": [
    "# modification des paramètres : \n",
    "\n",
    "params = {\n",
    "    n_\n",
    "}"
   ]
  }
 ],
 "metadata": {
  "kernelspec": {
   "display_name": "Python 3",
   "language": "python",
   "name": "python3"
  },
  "language_info": {
   "codemirror_mode": {
    "name": "ipython",
    "version": 3
   },
   "file_extension": ".py",
   "mimetype": "text/x-python",
   "name": "python",
   "nbconvert_exporter": "python",
   "pygments_lexer": "ipython3",
   "version": "3.8.3"
  }
 },
 "nbformat": 4,
 "nbformat_minor": 5
}

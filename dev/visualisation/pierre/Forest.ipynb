{
 "cells": [
  {
   "cell_type": "code",
   "execution_count": 1,
   "id": "206ee015",
   "metadata": {},
   "outputs": [],
   "source": [
    "import pandas as pd\n",
    "import numpy as np\n",
    "from sklearn.metrics import precision_recall_curve, auc\n",
    "import matplotlib.pyplot as plt\n",
    "from sklearn.ensemble import IsolationForest\n",
    "import random\n",
    "import seaborn as sns\n",
    "from sklearn.ensemble import IsolationForest"
   ]
  },
  {
   "cell_type": "code",
   "execution_count": 2,
   "id": "0111a195",
   "metadata": {},
   "outputs": [],
   "source": [
    "def evaluation(score: np.ndarray, y: np.ndarray, display=False):\n",
    "    precision, recall, thresholds = precision_recall_curve(y, score)\n",
    "    f1_score = 2 * precision * recall / (precision + recall)\n",
    "    \n",
    "    value = auc(recall, precision)\n",
    "    \n",
    "    if display:\n",
    "        plt.plot(recall, precision)\n",
    "        plt.show()\n",
    "    print(f'l''aire sous la courbe{value}')\n",
    "    print(f'le f1_score est{f1_score}')\n",
    "    print(f'la precision est{precision}')\n",
    "    print(f'le recall est{recall}')\n",
    "    return value, f1_score, precision, recall"
   ]
  },
  {
   "cell_type": "code",
   "execution_count": 3,
   "id": "3404c994",
   "metadata": {},
   "outputs": [
    {
     "name": "stdout",
     "output_type": "stream",
     "text": [
      "Nombre de fraude : 1618\n",
      "Nombre de données :  849346\n",
      "Ratio :  0.1904995137435156\n",
      "------------ Sur un echantillion ------------\n",
      "Nombre de fraude : 186\n",
      "Nombre de données :  100000\n",
      "Ratio :  0.186\n"
     ]
    }
   ],
   "source": [
    "# Lecture du fichier de donnée\n",
    "data_v0 = pd.read_csv(r\"C:\\Users\\Utilisateur\\Desktop\\Projet_interpromo_2k22\\ProjectInterPromo\\data\\Donnees_v0_NAN_remplaces.csv\")\n",
    "\n",
    "print(\"Nombre de fraude :\", sum(data_v0[\"TOP_FRAUDE\"]))\n",
    "print(\"Nombre de données : \", len(data_v0))\n",
    "print(\"Ratio : \", sum(data_v0[\"TOP_FRAUDE\"]) / len(data_v0) * 100)\n",
    "\n",
    "# Suppression des variables qualitative\n",
    "quali_col = []\n",
    "count = 0\n",
    "for i, name in zip(data_v0.dtypes, data_v0.columns):\n",
    "    if i == \"object\":\n",
    "        quali_col.append(name)\n",
    "\n",
    "data_quanti = data_v0.drop(columns=quali_col + [\"Unnamed: 0\"])\n",
    "\n",
    "# \n",
    "data_quanti = data_quanti.sample(100000)\n",
    "\n",
    "print(\"------------ Sur un echantillion ------------\")\n",
    "print(\"Nombre de fraude :\", sum(data_quanti[\"TOP_FRAUDE\"]))\n",
    "print(\"Nombre de données : \", len(data_quanti))\n",
    "print(\"Ratio : \", sum(data_quanti[\"TOP_FRAUDE\"]) / len(data_quanti) * 100)"
   ]
  },
  {
   "cell_type": "markdown",
   "id": "7cdff1db",
   "metadata": {},
   "source": [
    "# Prediction Aléatoire"
   ]
  },
  {
   "cell_type": "code",
   "execution_count": 4,
   "id": "a5edc64a",
   "metadata": {},
   "outputs": [
    {
     "data": {
      "image/png": "[encoded data removed]",
      "text/plain": [
       "<Figure size 432x288 with 1 Axes>"
      ]
     },
     "metadata": {
      "needs_background": "light"
     },
     "output_type": "display_data"
    },
    {
     "name": "stdout",
     "output_type": "stream",
     "text": [
      "laire sous la courbe{value}\n",
      "le f1_score est[0.00371309 0.00383195 0.        ]\n",
      "la precision est[0.00186    0.00192312 1.        ]\n",
      "le recall est[1.         0.51612903 0.        ]\n"
     ]
    },
    {
     "data": {
      "text/plain": [
       "(0.2594760738525444,\n",
       " array([0.00371309, 0.00383195, 0.        ]),\n",
       " array([0.00186   , 0.00192312, 1.        ]),\n",
       " array([1.        , 0.51612903, 0.        ]))"
      ]
     },
     "execution_count": 4,
     "metadata": {},
     "output_type": "execute_result"
    }
   ],
   "source": [
    "# comparaison a la prédiction aléaotire\n",
    "n = len(data_quanti)\n",
    "y = np.random.choice(2,n) \n",
    "evaluation(y , data_quanti['TOP_FRAUDE'] , True)"
   ]
  },
  {
   "cell_type": "markdown",
   "id": "2b55aad2",
   "metadata": {},
   "source": [
    "#  Modèle 1 : "
   ]
  },
  {
   "cell_type": "code",
   "execution_count": 5,
   "id": "976eb912",
   "metadata": {},
   "outputs": [
    {
     "data": {
      "text/plain": [
       "Index(['TOP_FRAUDE', 'TOP_FRAUDE_CARTE', 'TOP_FRAUDE_VIREMENT', 'TOP_E_RELEVE',\n",
       "       'MESSAGERIE_WEB_ACTIVE', 'FIAB_TEL_DOMICILE', 'FIAB_TEL_TRAVAIL',\n",
       "       'FIAB_TEL_PORTABLE', 'FIAB_EMAIL', 'REFUS_SEA',\n",
       "       ...\n",
       "       'top_produit_Credit', 'top_produit_Epargne', 'top_produit_Services',\n",
       "       'mt_factu_ttc_M', 'mt_factu_ttc_M6', 'mt_reduc_ttc_M',\n",
       "       'mt_reduc_ttc_M6', 'mt_rist_ttc_M', 'mt_rist_ttc_M6',\n",
       "       'Flag_bq_principale'],\n",
       "      dtype='object', length=231)"
      ]
     },
     "execution_count": 5,
     "metadata": {},
     "output_type": "execute_result"
    }
   ],
   "source": [
    "data_quanti.columns"
   ]
  },
  {
   "cell_type": "code",
   "execution_count": 6,
   "id": "d4612a6f",
   "metadata": {},
   "outputs": [],
   "source": [
    "data_quanti = data_quanti.drop([ 'TOP_FRAUDE_CARTE', 'TOP_FRAUDE_VIREMENT'], 1)"
   ]
  },
  {
   "cell_type": "code",
   "execution_count": 101,
   "id": "0c541b5e",
   "metadata": {},
   "outputs": [
    {
     "data": {
      "text/plain": [
       "IsolationForest(contamination=0.05, n_estimators=200)"
      ]
     },
     "execution_count": 101,
     "metadata": {},
     "output_type": "execute_result"
    }
   ],
   "source": [
    "model=IsolationForest(n_estimators=200, max_samples='auto', contamination=float(0.05),max_features=1.0)\n",
    "model.fit(data_quanti.drop('TOP_FRAUDE', 1))"
   ]
  },
  {
   "cell_type": "code",
   "execution_count": 102,
   "id": "2aab0611",
   "metadata": {},
   "outputs": [
    {
     "ename": "ValueError",
     "evalue": "Number of features of the model must match the input. Model n_features is 228 and input n_features is 1.",
     "output_type": "error",
     "traceback": [
      "\u001b[1;31m---------------------------------------------------------------------------\u001b[0m",
      "\u001b[1;31mValueError\u001b[0m                                Traceback (most recent call last)",
      "\u001b[1;32m<ipython-input-102-986a9512722e>\u001b[0m in \u001b[0;36m<module>\u001b[1;34m\u001b[0m\n\u001b[0;32m      1\u001b[0m \u001b[0mdf\u001b[0m \u001b[1;33m=\u001b[0m \u001b[0mdata_quanti\u001b[0m\u001b[1;33m[\u001b[0m\u001b[1;33m[\u001b[0m\u001b[1;34m'TOP_FRAUDE'\u001b[0m\u001b[1;33m]\u001b[0m\u001b[1;33m]\u001b[0m\u001b[1;33m\u001b[0m\u001b[1;33m\u001b[0m\u001b[0m\n\u001b[1;32m----> 2\u001b[1;33m \u001b[0mdf\u001b[0m\u001b[1;33m[\u001b[0m\u001b[1;34m'scores'\u001b[0m\u001b[1;33m]\u001b[0m\u001b[1;33m=\u001b[0m\u001b[0mmodel\u001b[0m\u001b[1;33m.\u001b[0m\u001b[0mdecision_function\u001b[0m\u001b[1;33m(\u001b[0m\u001b[0mdf\u001b[0m\u001b[1;33m[\u001b[0m\u001b[1;33m[\u001b[0m\u001b[1;34m'TOP_FRAUDE'\u001b[0m\u001b[1;33m]\u001b[0m\u001b[1;33m]\u001b[0m\u001b[1;33m)\u001b[0m\u001b[1;33m\u001b[0m\u001b[1;33m\u001b[0m\u001b[0m\n\u001b[0m\u001b[0;32m      3\u001b[0m \u001b[0mdf\u001b[0m\u001b[1;33m[\u001b[0m\u001b[1;34m'anomaly'\u001b[0m\u001b[1;33m]\u001b[0m\u001b[1;33m=\u001b[0m\u001b[0mmodel\u001b[0m\u001b[1;33m.\u001b[0m\u001b[0mpredict\u001b[0m\u001b[1;33m(\u001b[0m\u001b[0mdf\u001b[0m\u001b[1;33m[\u001b[0m\u001b[1;33m[\u001b[0m\u001b[1;34m'TOP_FRAUDE'\u001b[0m\u001b[1;33m]\u001b[0m\u001b[1;33m]\u001b[0m\u001b[1;33m)\u001b[0m\u001b[1;33m\u001b[0m\u001b[1;33m\u001b[0m\u001b[0m\n",
      "\u001b[1;32mc:\\users\\utilisateur\\appdata\\local\\programs\\python\\python38\\lib\\site-packages\\sklearn\\ensemble\\_iforest.py\u001b[0m in \u001b[0;36mdecision_function\u001b[1;34m(self, X)\u001b[0m\n\u001b[0;32m    345\u001b[0m         \u001b[1;31m# an outlier:\u001b[0m\u001b[1;33m\u001b[0m\u001b[1;33m\u001b[0m\u001b[1;33m\u001b[0m\u001b[0m\n\u001b[0;32m    346\u001b[0m \u001b[1;33m\u001b[0m\u001b[0m\n\u001b[1;32m--> 347\u001b[1;33m         \u001b[1;32mreturn\u001b[0m \u001b[0mself\u001b[0m\u001b[1;33m.\u001b[0m\u001b[0mscore_samples\u001b[0m\u001b[1;33m(\u001b[0m\u001b[0mX\u001b[0m\u001b[1;33m)\u001b[0m \u001b[1;33m-\u001b[0m \u001b[0mself\u001b[0m\u001b[1;33m.\u001b[0m\u001b[0moffset_\u001b[0m\u001b[1;33m\u001b[0m\u001b[1;33m\u001b[0m\u001b[0m\n\u001b[0m\u001b[0;32m    348\u001b[0m \u001b[1;33m\u001b[0m\u001b[0m\n\u001b[0;32m    349\u001b[0m     \u001b[1;32mdef\u001b[0m \u001b[0mscore_samples\u001b[0m\u001b[1;33m(\u001b[0m\u001b[0mself\u001b[0m\u001b[1;33m,\u001b[0m \u001b[0mX\u001b[0m\u001b[1;33m)\u001b[0m\u001b[1;33m:\u001b[0m\u001b[1;33m\u001b[0m\u001b[1;33m\u001b[0m\u001b[0m\n",
      "\u001b[1;32mc:\\users\\utilisateur\\appdata\\local\\programs\\python\\python38\\lib\\site-packages\\sklearn\\ensemble\\_iforest.py\u001b[0m in \u001b[0;36mscore_samples\u001b[1;34m(self, X)\u001b[0m\n\u001b[0;32m    378\u001b[0m         \u001b[0mX\u001b[0m \u001b[1;33m=\u001b[0m \u001b[0mcheck_array\u001b[0m\u001b[1;33m(\u001b[0m\u001b[0mX\u001b[0m\u001b[1;33m,\u001b[0m \u001b[0maccept_sparse\u001b[0m\u001b[1;33m=\u001b[0m\u001b[1;34m'csr'\u001b[0m\u001b[1;33m)\u001b[0m\u001b[1;33m\u001b[0m\u001b[1;33m\u001b[0m\u001b[0m\n\u001b[0;32m    379\u001b[0m         \u001b[1;32mif\u001b[0m \u001b[0mself\u001b[0m\u001b[1;33m.\u001b[0m\u001b[0mn_features_\u001b[0m \u001b[1;33m!=\u001b[0m \u001b[0mX\u001b[0m\u001b[1;33m.\u001b[0m\u001b[0mshape\u001b[0m\u001b[1;33m[\u001b[0m\u001b[1;36m1\u001b[0m\u001b[1;33m]\u001b[0m\u001b[1;33m:\u001b[0m\u001b[1;33m\u001b[0m\u001b[1;33m\u001b[0m\u001b[0m\n\u001b[1;32m--> 380\u001b[1;33m             raise ValueError(\"Number of features of the model must \"\n\u001b[0m\u001b[0;32m    381\u001b[0m                              \u001b[1;34m\"match the input. Model n_features is {0} and \"\u001b[0m\u001b[1;33m\u001b[0m\u001b[1;33m\u001b[0m\u001b[0m\n\u001b[0;32m    382\u001b[0m                              \u001b[1;34m\"input n_features is {1}.\"\u001b[0m\u001b[1;33m\u001b[0m\u001b[1;33m\u001b[0m\u001b[0m\n",
      "\u001b[1;31mValueError\u001b[0m: Number of features of the model must match the input. Model n_features is 228 and input n_features is 1."
     ]
    }
   ],
   "source": [
    "df = data_quanti[['TOP_FRAUDE']]\n",
    "df['scores']=model.decision_function(df[['TOP_FRAUDE']])\n",
    "df['anomaly']=model.predict(df[['TOP_FRAUDE']])"
   ]
  },
  {
   "cell_type": "markdown",
   "id": "26f3c3c2",
   "metadata": {},
   "source": [
    "evaluation du modèle"
   ]
  },
  {
   "cell_type": "code",
   "execution_count": 97,
   "id": "19165f22",
   "metadata": {},
   "outputs": [
    {
     "data": {
      "image/png": "[encoded data removed]",
      "text/plain": [
       "<Figure size 432x288 with 1 Axes>"
      ]
     },
     "metadata": {
      "needs_background": "light"
     },
     "output_type": "display_data"
    },
    {
     "name": "stdout",
     "output_type": "stream",
     "text": [
      "laire sous la courbe{value}\n",
      "le f1_score est[1. 0.]\n",
      "la precision est[1. 1.]\n",
      "le recall est[1. 0.]\n"
     ]
    },
    {
     "data": {
      "text/plain": [
       "(1.0, array([1., 0.]), array([1., 1.]), array([1., 0.]))"
      ]
     },
     "execution_count": 97,
     "metadata": {},
     "output_type": "execute_result"
    }
   ],
   "source": [
    "df.reindex(data_quanti.index)\n",
    "scores = df['scores'].apply(lambda x : np.abs(x))\n",
    "evaluation(scores, data_quanti['TOP_FRAUDE'] , True)"
   ]
  },
  {
   "cell_type": "markdown",
   "id": "055c375a",
   "metadata": {},
   "source": [
    "# Modèle 2"
   ]
  },
  {
   "cell_type": "code",
   "execution_count": 8,
   "id": "68fed67b",
   "metadata": {},
   "outputs": [],
   "source": [
    "from sklearn.ensemble import IsolationForest\n",
    "X = data_quanti.drop(['TOP_FRAUDE'] , 1)\n",
    "clf = IsolationForest(random_state=0).fit(X)\n",
    "predic_forest=clf.predict(X)"
   ]
  },
  {
   "cell_type": "code",
   "execution_count": 13,
   "id": "f6223852",
   "metadata": {},
   "outputs": [],
   "source": [
    "def remplacement(liste):\n",
    "    for i in range(len(liste)):\n",
    "        if liste[i] == -1:\n",
    "            liste[i] =0\n",
    "    return liste\n",
    "\n",
    "score = remplacement(predic_forest)"
   ]
  },
  {
   "cell_type": "code",
   "execution_count": 17,
   "id": "01efb9a4",
   "metadata": {},
   "outputs": [
    {
     "data": {
      "image/png": "[encoded data removed]",
      "text/plain": [
       "<Figure size 432x288 with 1 Axes>"
      ]
     },
     "metadata": {
      "needs_background": "light"
     },
     "output_type": "display_data"
    },
    {
     "name": "stdout",
     "output_type": "stream",
     "text": [
      "laire sous la courbe{value}\n",
      "le f1_score est[0.00371309 0.00354646 0.        ]\n",
      "la precision est[0.00186    0.00177656 1.        ]\n",
      "le recall est[1.         0.94623656 0.        ]\n"
     ]
    },
    {
     "data": {
      "text/plain": [
       "(0.47405655832791727,\n",
       " array([0.00371309, 0.00354646, 0.        ]),\n",
       " array([0.00186   , 0.00177656, 1.        ]),\n",
       " array([1.        , 0.94623656, 0.        ]))"
      ]
     },
     "execution_count": 17,
     "metadata": {},
     "output_type": "execute_result"
    }
   ],
   "source": [
    "evaluation(score , data_quanti['TOP_FRAUDE'] , True)"
   ]
  }
 ],
 "metadata": {
  "kernelspec": {
   "display_name": "Python 3",
   "language": "python",
   "name": "python3"
  },
  "language_info": {
   "codemirror_mode": {
    "name": "ipython",
    "version": 3
   },
   "file_extension": ".py",
   "mimetype": "text/x-python",
   "name": "python",
   "nbconvert_exporter": "python",
   "pygments_lexer": "ipython3",
   "version": "3.8.3"
  }
 },
 "nbformat": 4,
 "nbformat_minor": 5
}

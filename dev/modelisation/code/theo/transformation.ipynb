{
 "cells": [
  {
   "cell_type": "code",
   "execution_count": 1,
   "metadata": {},
   "outputs": [],
   "source": [
    "import pandas as pd\n",
    "import numpy as np\n",
    "from tqdm.notebook import tqdm\n",
    "import sweetviz as sv"
   ]
  },
  {
   "cell_type": "code",
   "execution_count": 2,
   "metadata": {},
   "outputs": [],
   "source": [
    "PROJECT_PATH = \"D:/ProjectInterPromo/\""
   ]
  },
  {
   "cell_type": "code",
   "execution_count": 3,
   "metadata": {},
   "outputs": [],
   "source": [
    "def bool_other_col(data: pd.DataFrame):\n",
    "    bool_col = []\n",
    "    for i in data.columns:\n",
    "        unique_value = np.unique(data[i])\n",
    "\n",
    "        if len(unique_value) == 2:\n",
    "            if 1 in unique_value and 0 in unique_value:\n",
    "                bool_col.append(i)\n",
    "\n",
    "    autre_col = list(set(data.columns) - set(bool_col))\n",
    "    return autre_col, bool_col"
   ]
  },
  {
   "cell_type": "code",
   "execution_count": 4,
   "metadata": {},
   "outputs": [],
   "source": [
    "# Transformation function\n",
    "\n",
    "def puissance_10(X: pd.Series):\n",
    "    return np.unique(np.floor(np.log10(X + 1)), return_counts=True)\n",
    "\n",
    "\n",
    "def var_neg(colonne):\n",
    "    for elem in colonne:\n",
    "        if elem < 0:\n",
    "            return True\n",
    "    return False\n",
    "\n",
    "\n",
    "def var_neg_affichage(colonne):\n",
    "    return np.maximum(colonne, 0), np.minimum(colonne, 0)\n",
    "\n",
    "\n",
    "def zeros(col, seuil):\n",
    "    return (col == 0).sum() / len(col) >= seuil\n",
    "\n",
    "\n",
    "def to_bool(col):\n",
    "    return (col != 0).astype(int)\n",
    "\n",
    "\n",
    "# df[col] = df[col].apply(replaceNonZero)"
   ]
  },
  {
   "cell_type": "code",
   "execution_count": 5,
   "metadata": {},
   "outputs": [],
   "source": [
    "def transformation_pos(col):\n",
    "    # Si taux 0 >> 0.9\n",
    "    if zeros(col, 0.9):\n",
    "        # Return to_bool\n",
    "        # return np.array([i if i == 0 else 1 for i in col])\n",
    "        return to_bool(col)\n",
    "\n",
    "    # Sinon\n",
    "    else:\n",
    "        power = puissance_10(col)[0]\n",
    "\n",
    "        # Application log si valeur grande, ou plus de 3 ordre différent\n",
    "        if max(power) > 6 or len(power) > 2:\n",
    "            return np.log(col + 1)\n",
    "\n",
    "        # Peu d'ordre de grandeur application d'une sqrt\n",
    "        elif max(power) > 0:\n",
    "            return np.sqrt(col)\n",
    "        \n",
    "        return col\n",
    "\n",
    "\n",
    "def transformation(df: pd.DataFrame):\n",
    "    df2 = df.copy()\n",
    "    autre_col, bool_col = bool_other_col(df)\n",
    "\n",
    "    for col in tqdm(autre_col, total=len(autre_col)):\n",
    "        if col in [\"ID\", \"TOP_FRAUDE\", \"TOP_FRAUDE_VIREMENT\", \"TOP_FRAUDE_CARTE\"]:\n",
    "            pass\n",
    "        else:\n",
    "            if var_neg(df[col]):\n",
    "                pos, neg = var_neg_affichage(df[col])\n",
    "                \n",
    "                # Full neg or 0\n",
    "                if len(np.unique(pos)) == 1:\n",
    "                    df2[col] = transformation_pos(- np.array(neg)).copy()\n",
    "\n",
    "                else:\n",
    "                    # df2[col + \"_neg\"] = [i if i == 0 else 1 for i in -np.array(neg)]\n",
    "                    df2[col + \"_pos\"] = transformation_pos(np.array(pos))\n",
    "                    df2[col + \"_neg\"] = to_bool(- np.array(neg))\n",
    "                    df2 = df2.drop(columns=[col])\n",
    "\n",
    "            else:\n",
    "                df2[col] = transformation_pos(df[col])\n",
    "    return df2"
   ]
  },
  {
   "cell_type": "code",
   "execution_count": 6,
   "metadata": {},
   "outputs": [],
   "source": [
    "ech_train = pd.read_csv(PROJECT_PATH + \"data/donnee_v2_ech_train.csv\")\n",
    "ech_test = pd.read_csv(PROJECT_PATH + \"data/donnee_v2_ech_test.csv\")"
   ]
  },
  {
   "cell_type": "code",
   "execution_count": 7,
   "metadata": {},
   "outputs": [
    {
     "data": {
      "application/vnd.jupyter.widget-view+json": {
       "model_id": "d03c31a4a2b44001b3cb5a1c7e39196e",
       "version_major": 2,
       "version_minor": 0
      },
      "text/plain": [
       "  0%|          | 0/202 [00:00<?, ?it/s]"
      ]
     },
     "metadata": {},
     "output_type": "display_data"
    }
   ],
   "source": [
    "transfo = transformation(ech_train)"
   ]
  },
  {
   "cell_type": "code",
   "execution_count": 8,
   "metadata": {},
   "outputs": [],
   "source": [
    "transfo.to_csv(PROJECT_PATH + \"data/donnee_v2_ech_train_transfo.csv\")"
   ]
  },
  {
   "cell_type": "code",
   "execution_count": 9,
   "metadata": {},
   "outputs": [],
   "source": [
    "autre, bool_col = bool_other_col(ech_train)\n",
    "new_col = list((set(transfo.columns) - set(ech_train.columns)).union(set(transfo.columns).intersection(set(autre))))"
   ]
  },
  {
   "cell_type": "code",
   "execution_count": 10,
   "metadata": {},
   "outputs": [
    {
     "data": {
      "text/plain": [
       "219"
      ]
     },
     "execution_count": 10,
     "metadata": {},
     "output_type": "execute_result"
    }
   ],
   "source": [
    "len(new_col)"
   ]
  },
  {
   "cell_type": "code",
   "execution_count": 11,
   "metadata": {},
   "outputs": [
    {
     "data": {
      "application/vnd.jupyter.widget-view+json": {
       "model_id": "63c0224eeb5e498490383605c77bd4ee",
       "version_major": 2,
       "version_minor": 0
      },
      "text/plain": [
       "                                             |          | [  0%]   00:00 -> (? left)"
      ]
     },
     "metadata": {},
     "output_type": "display_data"
    },
    {
     "name": "stdout",
     "output_type": "stream",
     "text": [
      "Report report_transfo.html was generated! NOTEBOOK/COLAB USERS: the web browser MAY not pop up, regardless, the report IS saved in your notebook/colab files.\n"
     ]
    }
   ],
   "source": [
    "my_report = sv.analyze(transfo[new_col], pairwise_analysis=\"off\")\n",
    "my_report.show_html(filepath=\"report_transfo.html\") # Default arguments will generate to \"SWEETVIZ_REPORT.html\""
   ]
  },
  {
   "cell_type": "code",
   "execution_count": 12,
   "metadata": {},
   "outputs": [
    {
     "data": {
      "application/vnd.jupyter.widget-view+json": {
       "model_id": "27f1e582b4664a75bb10ff9a14c8c26d",
       "version_major": 2,
       "version_minor": 0
      },
      "text/plain": [
       "                                             |          | [  0%]   00:00 -> (? left)"
      ]
     },
     "metadata": {},
     "output_type": "display_data"
    },
    {
     "name": "stdout",
     "output_type": "stream",
     "text": [
      "Report report_raw.html was generated! NOTEBOOK/COLAB USERS: the web browser MAY not pop up, regardless, the report IS saved in your notebook/colab files.\n"
     ]
    }
   ],
   "source": [
    "my_report = sv.analyze(ech_train[autre], pairwise_analysis=\"off\")\n",
    "my_report.show_html(filepath=\"report_raw.html\") # Default arguments will generate to \"SWEETVIZ_REPORT.html\""
   ]
  },
  {
   "cell_type": "code",
   "execution_count": null,
   "metadata": {},
   "outputs": [],
   "source": []
  }
 ],
 "metadata": {
  "interpreter": {
   "hash": "27d96bb1e0b93ca21c1ea578b97b188c3d970d37e870548d5c47751314357b7e"
  },
  "kernelspec": {
   "display_name": "Python 3.9.7 64-bit",
   "language": "python",
   "name": "python3"
  },
  "language_info": {
   "codemirror_mode": {
    "name": "ipython",
    "version": 3
   },
   "file_extension": ".py",
   "mimetype": "text/x-python",
   "name": "python",
   "nbconvert_exporter": "python",
   "pygments_lexer": "ipython3",
   "version": "3.9.7"
  },
  "orig_nbformat": 4
 },
 "nbformat": 4,
 "nbformat_minor": 2
}

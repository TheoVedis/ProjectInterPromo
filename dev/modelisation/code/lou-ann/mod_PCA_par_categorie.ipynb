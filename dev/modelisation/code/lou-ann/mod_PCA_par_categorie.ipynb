{
 "cells": [
  {
   "cell_type": "code",
   "execution_count": 5,
   "metadata": {},
   "outputs": [
    {
     "data": {
      "text/plain": [
       "'\\nCreated on Mon Jan 10 11:02:55 2022\\nGroup 2\\n@authors: L-A C\\n'"
      ]
     },
     "execution_count": 5,
     "metadata": {},
     "output_type": "execute_result"
    }
   ],
   "source": [
    "PROJECT_PATH = \"C:/Users/Thierry/Desktop/ProjetInterPromo/ProjectInterPromo/\"\n",
    "\"\"\"\n",
    "Created on Mon Jan 10 11:02:55 2022\n",
    "Group 2\n",
    "@authors: L-A C\n",
    "\"\"\""
   ]
  },
  {
   "cell_type": "markdown",
   "metadata": {},
   "source": [
    "# Importation"
   ]
  },
  {
   "cell_type": "code",
   "execution_count": 6,
   "metadata": {},
   "outputs": [],
   "source": [
    "import pandas as pd\n",
    "import plotly.express as px\n",
    "import sweetviz as sv\n",
    "import seaborn as sns\n",
    "import matplotlib.pyplot as plt\n",
    "import numpy as np\n",
    "from pyod.models.knn import KNN\n",
    "from sklearn.metrics import precision_recall_curve, auc\n",
    "from sklearn.metrics import confusion_matrix\n",
    "pd.set_option('max_columns', None)\n",
    "%matplotlib inline"
   ]
  },
  {
   "cell_type": "markdown",
   "metadata": {},
   "source": [
    "# Normalisation des les données"
   ]
  },
  {
   "cell_type": "code",
   "execution_count": 7,
   "metadata": {},
   "outputs": [],
   "source": [
    "df = pd.read_csv(PROJECT_PATH + 'data/CLEAN/donnee_v2_ech_train_transfo.csv').drop(columns=\"Unnamed: 0\")\n",
    "\n",
    "def normalize(df: pd.DataFrame):\n",
    "    autre, bool_col = bool_other_col(df)\n",
    "\n",
    "    y_col = [\"TOP_FRAUDE\", \"TOP_FRAUDE_CARTE\", \"TOP_FRAUDE_VIREMENT\"]\n",
    "\n",
    "    autre_col = list(set(df.columns) - set(bool_col + y_col + [\"ID\"]))\n",
    "\n",
    "    sub_df = df[autre_col]\n",
    "\n",
    "    df[autre_col] = ((sub_df - sub_df.mean()) / sub_df.std())\n",
    "    \n",
    "    return df"
   ]
  },
  {
   "cell_type": "markdown",
   "metadata": {},
   "source": [
    "# Variable à analyser"
   ]
  },
  {
   "cell_type": "code",
   "execution_count": 8,
   "metadata": {},
   "outputs": [],
   "source": [
    "EQUIP = ['top_affecte', 'note_Funivers', 'note_Fassu', 'note_Fcredit', 'note_Fepargne', 'note_FService', 'top_produit_collecte', 'top_produit_monetaire_dispo', 'top_produit_monetaire_bloque', 'top_produit_emprunts', 'top_produit_epargne_logement', 'nb_DAV', 'nb_produit_Assurance', 'nb_produit_Cartes', 'nb_produit_Credit', 'nb_produit_Epargne', 'nb_produit_Services', 'top_DAV', 'top_produit_Assurance', 'top_produit_Cartes', 'top_produit_Credit', 'top_produit_Epargne', 'top_produit_Services']\n",
    "DIG = ['TOP_E_RELEVE', 'MESSAGERIE_WEB_ACTIVE', 'FIAB_TEL_DOMICILE', 'FIAB_TEL_TRAVAIL', 'FIAB_TEL_PORTABLE', 'FIAB_EMAIL', 'REFUS_SEA', 'TOT_CNX_WEB_WEEK_6M', 'TOT_CNX_WEB_END_6M', 'TOT_CCOMPTE_WEB_6M', 'TOT_IMPRESSIONRIB_WEB_6M', 'TOT_TLCHGMTEDOC_WEB_6M', 'TOT_CCOMPTE_MBANQUE_6M', 'TOT_CMS_WEB_6M', 'TOT_CNX_INVSTORE_WEB_6M', 'NB_JR_WEB_6M', 'NB_CNXS_WEB_6M', 'DUREE_CNX_WEB_TOT_6M', 'DUREE_CNX_MOY_WEB_6M', 'NB_JR_MBANQUE_6M', 'NB_CNXS_MBANQUE_6M', 'NB_JR_CABOURSE_6M', 'NB_CNXS_CABOURSE_6M', 'NB_JR_MACARTE_6M', 'NB_CNXS_MACARTE_6M', 'ALERTE_SMS_6M', 'NB_SAISI_IBAN_6M', 'NB_RDV_MBANQUE_6M', 'NB_RDV_WEB_6M', 'NB_PAP_RECU_6M', 'NB_PAP_CLIQUEE_6M', 'TAUX_LECTURE_PAP_6M', 'TOP_SECURIPASS' ]\n",
    "HB = ['NBJ_CNT_AGENCE_DEPOT_6M', 'NBJ_CNT_AGENCE_VENTE_6M', 'NBJ_CNT_RDV_AGENCE_6M', 'NBJ_CNT_AUTOMATE_RETRAIT_6M', 'NBJ_CNT_AUTOMATES_DEPOT_6M', 'NBJ_CNT_AGENCE_RETRAIT_6M', 'NBJ_CNT_AGENCE_6M', 'NBJ_CNT_SMS_6M', 'NBJ_CNT_EMAIL_6M', 'NBJ_CNT_APPELENTRANTS_6M', 'NBJ_CNT_AUTOMATE_6M', 'NBJ_CNT_LETTRES_6M', 'TOT_CVAD_WEB_6M', 'TOT_VEL_WEB_6M', 'TOT_ATT_SIGN_VAD_WEB_6M', 'TOT_CHABITAT_WEB_6M', 'TOT_MODIF_PARAM_CARTE_WEB_6M', 'TOT_VIR_WEB_6M', 'TOT_VIR_M_6M', 'NB_VIR_AGENCE_6M', 'NB_RETRAIT_MN_6M', 'NBPAIEMENTS_6M', 'MNTPAIEMENTS_6M', 'NBPAIEMENTS_WEB_6M', 'MNTPAIEMENTS_WEB_6M', 'NB_PAIEMENT_SS_CONTACT_6M', 'MNT_PAIEMENT_SS_CONTACT_6M', 'TX_PAIEMTNB_WEB_TOT_6M', 'TX_PAIEMTMTT_WEB_TOT_6M', 'NB_VEL_EPARGNE_6M', 'NB_VEL_PACIFICA_6M', 'NB_MAIL_RECU_6M', 'NB_MAIL_LU_6M', 'TAUX_LECTURE_EMAIL_6M', 'NB_MS_RECU_6M', 'NB_MS_LU_6M', 'TAUX_LECTURE_MS_6M', 'NB_DEPOSE_PREDICA_WEB_6M', 'NB_DEPOSE_PREDICA_AG_6M', 'NB_DEPOSE_PACIFICA_AG_6M', 'NB_DEPOSE_EPARGNE_WEB_6M', 'NB_DEPOSE_EPARGNE_MBQE_6M', 'NB_DEPOSE_EPARGNE_AG_6M', 'NB_DEPOSE_PACIFICA_WEB_6M', 'NB_VENTE_DEVIS_PACIFICA_WEB_6M', 'NB_VENTE_DEVIS_PACIFICA_AG_6M', 'NB_DEVIS_PACIFICA_WEB_6M', 'NB_DEVIS_PACIFICA_AG_6M', 'NB_VENTE_DEVIS_PACIFICA_6M', 'NB_PAIMT_PAYLIB_6M', 'MTT_PAIMT_PAYLIB_6M', 'top_entretien_3M', 'top_entretien_6M', 'top_entretien_12M', 'nb_mois_dernier_entretien', 'note_mire', 'note_FOpDebitrice', 'nb_pret_realise', 'mt_pret_realise', 'nb_mois_dern_realisation_pret', 'top_real_pret_3M', 'top_real_pret_6M', 'mt_op_cred_ep_a_terme_M', 'mt_op_cred_ep_a_terme_M6', 'mt_op_debit_ep_a_terme_M', 'mt_op_debit_ep_a_terme_M6', 'mt_operation_credit_depot_M', 'mt_operation_credit_depot_M6', 'mt_operation_credit_ep_a_vue_M', 'mt_operation_credit_ep_a_vue_M6', 'mt_operation_debit_depot_M', 'mt_operation_debit_depot_M6', 'mt_operation_debit_ep_a_vue_M', 'mt_operation_debit_ep_a_vue_M6', 'mt_paiement_carte_M', 'mt_paiement_carte_M6', 'mt_paiement_chq_M', 'mt_paiement_chq_M6', 'mt_pmts_carte_etr_M', 'mt_pmts_carte_etr_M6', 'mt_prlv_impaye', 'mt_remise_chq_M', 'mt_remise_chq_M6', 'mt_ret_carte_Aut_bq_M', 'mt_ret_carte_Aut_bq_M6', 'mt_ret_carte_CRCA_M', 'mt_ret_carte_CRCA_M6', 'mt_ret_carte_etr_M', 'mt_ret_carte_etr_M6', 'mt_retrait_carte_M', 'mt_retrait_carte_M6', 'nb_cheque_impaye', 'nb_commission_intervention', 'nb_ferm_prod_6M', 'nb_flux_cred_normeB2_M', 'nb_flux_cred_normeB2_M6', 'nb_irregularite_particuliere', 'nb_op_cred_ep_a_terme_M', 'nb_op_cred_ep_a_terme_M6', 'nb_op_debit_ep_a_terme_M', 'nb_op_debit_ep_a_terme_M6', 'nb_operation_credit_depot_M', 'nb_operation_credit_depot_M6', 'nb_operation_credit_ep_a_vue_M', 'nb_operation_credit_ep_a_vue_M6', 'nb_operation_debit_depot_M', 'nb_operation_debit_depot_M6', 'nb_operation_debit_ep_a_vue_M', 'nb_operation_debit_ep_a_vue_M6', 'nb_ouv_prod_6M', 'nb_paiement_carte_M', 'nb_paiement_carte_M6', 'nb_paiement_chq_M', 'nb_paiement_chq_M6', 'nb_pmts_carte_etr_M', 'nb_pmts_carte_etr_M6', 'nb_prlv_impaye', 'nb_remise_chq_M', 'nb_remise_chq_M6', 'nb_ret_carte_Aut_bq_M', 'nb_ret_carte_Aut_bq_M6', 'nb_ret_carte_CRCA_M', 'nb_ret_carte_CRCA_M6', 'nb_ret_carte_etr_M', 'nb_ret_carte_etr_M6', 'nb_retrait_carte_M', 'nb_retrait_carte_M6', 'top_debiteur_M', 'top_ferm_prod_6M', 'top_ouv_prod_6M', 'mt_rist_ttc_M', 'mt_rist_ttc_M6', 'Flag_bq_principale']"
   ]
  },
  {
   "cell_type": "markdown",
   "metadata": {},
   "source": [
    "# Echantillonage"
   ]
  },
  {
   "cell_type": "code",
   "execution_count": 9,
   "metadata": {},
   "outputs": [
    {
     "name": "stdout",
     "output_type": "stream",
     "text": [
      "Nombre de fraude : 1461\n",
      "Nombre de données :  764471\n",
      "Ratio :  0.19111254710773856\n",
      "------------ Sur un echantillion ------------\n",
      "Nombre de fraude : 191\n",
      "Nombre de données :  100000\n",
      "Ratio :  0.191\n"
     ]
    }
   ],
   "source": [
    "# Lecture du fichier de donnée\n",
    "df = pd.read_csv(PROJECT_PATH + 'data/CLEAN/donnee_v2_ech_train_transfo.csv').drop(columns=\"Unnamed: 0\")\n",
    "\n",
    "print(\"Nombre de fraude :\", sum(df[\"TOP_FRAUDE\"]))\n",
    "print(\"Nombre de données : \", len(df))\n",
    "print(\"Ratio : \", sum(df[\"TOP_FRAUDE\"]) / len(df) * 100)\n",
    "\n",
    "# Suppression des variables qualitatives\n",
    "quali_col = []\n",
    "count = 0\n",
    "for i, name in zip(df.dtypes, df.columns):\n",
    "    if i == \"object\":\n",
    "        quali_col.append(name)\n",
    "\n",
    "data_quanti = df.drop(columns=quali_col)\n",
    "\n",
    "# \n",
    "dfs = data_quanti.sample(100000)\n",
    "\n",
    "print(\"------------ Sur un echantillion ------------\")\n",
    "print(\"Nombre de fraude :\", sum(dfs[\"TOP_FRAUDE\"]))\n",
    "print(\"Nombre de données : \", len(dfs))\n",
    "print(\"Ratio : \", sum(dfs[\"TOP_FRAUDE\"]) / len(dfs) * 100)"
   ]
  },
  {
   "cell_type": "markdown",
   "metadata": {},
   "source": [
    "# Evaluation"
   ]
  },
  {
   "cell_type": "code",
   "execution_count": 10,
   "metadata": {},
   "outputs": [],
   "source": [
    "def evaluation2(\n",
    "    score: np.ndarray, y: np.ndarray, display=False):\n",
    "    \"\"\"Evaluation with predicted value\n",
    "\n",
    "    Args:\n",
    "        score (np.ndarray): Score for each individual, hight value => outlayer, low value => normal\n",
    "        y (np.ndarray): True TOP_FRAUDE\n",
    "        display (bool, optional): plot ROC curve. Defaults to False.\n",
    "\n",
    "    Returns:\n",
    "        list[float, list[float], list[float], list[float]]: [description]\n",
    "    \"\"\"\n",
    "    precision, recall, thresholds = precision_recall_curve(y, score)\n",
    "    f1_score = 2 * precision * recall / (precision + recall)\n",
    "\n",
    "    value = auc(recall, precision)\n",
    "\n",
    "    if display:\n",
    "        plt.plot(recall, precision)\n",
    "        plt.show()\n",
    "\n",
    "    return value, f1_score, precision, recall\n",
    "\n",
    "\n",
    "def evaluation3(score: np.ndarray, y: np.ndarray, percentage: float, display=True):\n",
    "    \"\"\"Evaluation with threshold\n",
    "\n",
    "    Args:\n",
    "        score (np.ndarray): Score for each individual, hight value => outlayer, low value => normal\n",
    "        y (np.ndarray): True TOP_FRAUDE\n",
    "        percentage (float): Threshold over 100 (example: 2%)\n",
    "        display (bool, optional): display precision, recall, f1_score. Defaults to True.\n",
    "\n",
    "    Returns:\n",
    "        tp, fp, fn, tp\n",
    "    \"\"\"\n",
    "    pred = score > sorted(score, key=lambda x: -x)[int(percentage / 100 * len(score))]\n",
    "\n",
    "    confusion_mat = confusion_matrix(y, pred)\n",
    "\n",
    "    tn, fp, fn, tp = confusion_mat.ravel()\n",
    "\n",
    "    precision = tp / (tp + fp)\n",
    "    recall = tp / (tp + fn)\n",
    "    f1_score = 2 * precision * recall / (precision + recall)\n",
    "\n",
    "    if display:\n",
    "        print(\"TN / FP \\nFN / TP\")\n",
    "        print(confusion_mat)\n",
    "        print(f\"Precision : {precision}\")\n",
    "        print(f\"Recall : {recall}\")\n",
    "        print(f\"F1_Score : {f1_score}\")\n",
    "\n",
    "    return tn, fp, fn, tp"
   ]
  },
  {
   "cell_type": "markdown",
   "metadata": {},
   "source": [
    "# Modele PCA"
   ]
  },
  {
   "cell_type": "code",
   "execution_count": 11,
   "metadata": {},
   "outputs": [],
   "source": [
    "from pyod.models.pca import PCA"
   ]
  },
  {
   "cell_type": "code",
   "execution_count": 12,
   "metadata": {},
   "outputs": [],
   "source": [
    "data_EQUIP = dfs[EQUIP]\n",
    "data_DIG = dfs[DIG]\n",
    "data_HB = dfs[HB]"
   ]
  },
  {
   "cell_type": "markdown",
   "metadata": {},
   "source": [
    "### sample"
   ]
  },
  {
   "cell_type": "code",
   "execution_count": null,
   "metadata": {},
   "outputs": [],
   "source": [
    "clf_name = 'PCA'\n",
    "clf = PCA()\n",
    "clf.fit(dfs)"
   ]
  },
  {
   "cell_type": "code",
   "execution_count": null,
   "metadata": {},
   "outputs": [],
   "source": [
    "value, f1_score, precision, recall = evaluation2(y_scores, data[\"TOP_FRAUDE\"], display=True)\n",
    "print(\"Air sous la courbe : \", value)"
   ]
  },
  {
   "cell_type": "code",
   "execution_count": null,
   "metadata": {},
   "outputs": [],
   "source": [
    "value, f1_score, precision, recall = evaluation3(y_scores, data[\"TOP_FRAUDE\"], 20, display=True)\n",
    "print(\"Air sous la courbe : \", value)"
   ]
  },
  {
   "cell_type": "markdown",
   "metadata": {},
   "source": [
    "### EQUIP"
   ]
  },
  {
   "cell_type": "code",
   "execution_count": 13,
   "metadata": {},
   "outputs": [],
   "source": [
    "clf_name = 'PCA'\n",
    "clf = PCA()\n",
    "clf.fit(data_EQUIP)\n",
    "y_pred = clf.labels_ \n",
    "y_scores = clf.decision_scores_"
   ]
  },
  {
   "cell_type": "code",
   "execution_count": 14,
   "metadata": {},
   "outputs": [
    {
     "name": "stderr",
     "output_type": "stream",
     "text": [
      "<ipython-input-10-5c013ce26ccd>:14: RuntimeWarning: invalid value encountered in true_divide\n",
      "  f1_score = 2 * precision * recall / (precision + recall)\n"
     ]
    },
    {
     "data": {
      "image/png": "[encoded data removed]",
      "text/plain": [
       "<Figure size 432x288 with 1 Axes>"
      ]
     },
     "metadata": {
      "needs_background": "light"
     },
     "output_type": "display_data"
    },
    {
     "name": "stdout",
     "output_type": "stream",
     "text": [
      "Air sous la courbe :  0.0018820510974535973\n"
     ]
    }
   ],
   "source": [
    "value, f1_score, precision, recall = evaluation2(y_scores, dfs[\"TOP_FRAUDE\"], display=True)\n",
    "print(\"Air sous la courbe : \", value)"
   ]
  },
  {
   "cell_type": "code",
   "execution_count": 17,
   "metadata": {},
   "outputs": [
    {
     "name": "stdout",
     "output_type": "stream",
     "text": [
      "TN / FP \n",
      "FN / TP\n",
      "[[80596 19213]\n",
      " [  165    26]]\n",
      "Precision : 0.0013514215915588128\n",
      "Recall : 0.13612565445026178\n",
      "F1_Score : 0.0026762738033968086\n",
      "Air sous la courbe :  80596\n"
     ]
    }
   ],
   "source": [
    "value, f1_score, precision, recall = evaluation3(y_scores, dfs[\"TOP_FRAUDE\"], 20, display=True)\n",
    "print(\"Air sous la courbe : \", value)"
   ]
  },
  {
   "cell_type": "markdown",
   "metadata": {},
   "source": [
    "### DIG"
   ]
  },
  {
   "cell_type": "code",
   "execution_count": 18,
   "metadata": {},
   "outputs": [],
   "source": [
    "clf_name = 'PCA'\n",
    "clf = PCA()\n",
    "clf.fit(data_DIG)\n",
    "y_pred = clf.labels_ \n",
    "y_scores = clf.decision_scores_"
   ]
  },
  {
   "cell_type": "code",
   "execution_count": 19,
   "metadata": {},
   "outputs": [
    {
     "name": "stderr",
     "output_type": "stream",
     "text": [
      "<ipython-input-10-5c013ce26ccd>:14: RuntimeWarning: invalid value encountered in true_divide\n",
      "  f1_score = 2 * precision * recall / (precision + recall)\n"
     ]
    },
    {
     "data": {
      "image/png": "[encoded data removed]",
      "text/plain": [
       "<Figure size 432x288 with 1 Axes>"
      ]
     },
     "metadata": {
      "needs_background": "light"
     },
     "output_type": "display_data"
    },
    {
     "name": "stdout",
     "output_type": "stream",
     "text": [
      "Air sous la courbe :  0.004177904172664527\n"
     ]
    }
   ],
   "source": [
    "value, f1_score, precision, recall = evaluation2(y_scores, dfs[\"TOP_FRAUDE\"], display=True)\n",
    "print(\"Air sous la courbe : \", value)"
   ]
  },
  {
   "cell_type": "code",
   "execution_count": 22,
   "metadata": {},
   "outputs": [
    {
     "name": "stdout",
     "output_type": "stream",
     "text": [
      "TN / FP \n",
      "FN / TP\n",
      "[[79902 19907]\n",
      " [   98    93]]\n",
      "Precision : 0.00465\n",
      "Recall : 0.4869109947643979\n",
      "F1_Score : 0.00921202515972463\n",
      "Air sous la courbe :  79902\n"
     ]
    }
   ],
   "source": [
    "value, f1_score, precision, recall = evaluation3(y_scores, dfs[\"TOP_FRAUDE\"], 20, display=True)\n",
    "print(\"Air sous la courbe : \", value)"
   ]
  },
  {
   "cell_type": "markdown",
   "metadata": {},
   "source": [
    "### HB"
   ]
  },
  {
   "cell_type": "code",
   "execution_count": 23,
   "metadata": {},
   "outputs": [],
   "source": [
    "clf_name = 'PCA'\n",
    "clf = PCA()\n",
    "clf.fit(data_HB)\n",
    "y_pred = clf.labels_ \n",
    "y_scores = clf.decision_scores_"
   ]
  },
  {
   "cell_type": "code",
   "execution_count": 24,
   "metadata": {},
   "outputs": [
    {
     "name": "stderr",
     "output_type": "stream",
     "text": [
      "<ipython-input-10-5c013ce26ccd>:14: RuntimeWarning: invalid value encountered in true_divide\n",
      "  f1_score = 2 * precision * recall / (precision + recall)\n"
     ]
    },
    {
     "data": {
      "image/png": "[encoded data removed]",
      "text/plain": [
       "<Figure size 432x288 with 1 Axes>"
      ]
     },
     "metadata": {
      "needs_background": "light"
     },
     "output_type": "display_data"
    },
    {
     "name": "stdout",
     "output_type": "stream",
     "text": [
      "Air sous la courbe :  0.003288781451432206\n"
     ]
    }
   ],
   "source": [
    "value, f1_score, precision, recall = evaluation2(y_scores, dfs[\"TOP_FRAUDE\"], display=True)\n",
    "print(\"Air sous la courbe : \", value)"
   ]
  },
  {
   "cell_type": "code",
   "execution_count": 27,
   "metadata": {},
   "outputs": [
    {
     "name": "stdout",
     "output_type": "stream",
     "text": [
      "TN / FP \n",
      "FN / TP\n",
      "[[99610   199]\n",
      " [  190     1]]\n",
      "Precision : 0.005\n",
      "Recall : 0.005235602094240838\n",
      "F1_Score : 0.005115089514066497\n",
      "Air sous la courbe :  99610\n"
     ]
    }
   ],
   "source": [
    "value, f1_score, precision, recall = evaluation3(y_scores, dfs[\"TOP_FRAUDE\"], 0.2, display=True)\n",
    "print(\"Air sous la courbe : \", value)"
   ]
  }
 ],
 "metadata": {
  "kernelspec": {
   "display_name": "Python 3",
   "language": "python",
   "name": "python3"
  },
  "language_info": {
   "codemirror_mode": {
    "name": "ipython",
    "version": 3
   },
   "file_extension": ".py",
   "mimetype": "text/x-python",
   "name": "python",
   "nbconvert_exporter": "python",
   "pygments_lexer": "ipython3",
   "version": "3.8.3"
  }
 },
 "nbformat": 4,
 "nbformat_minor": 4
}

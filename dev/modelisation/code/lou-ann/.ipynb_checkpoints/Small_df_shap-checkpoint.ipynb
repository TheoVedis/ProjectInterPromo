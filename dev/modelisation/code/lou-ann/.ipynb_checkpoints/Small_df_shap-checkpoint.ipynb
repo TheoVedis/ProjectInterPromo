{
 "cells": [
  {
   "cell_type": "code",
   "execution_count": 1,
   "metadata": {},
   "outputs": [
    {
     "name": "stderr",
     "output_type": "stream",
     "text": [
      "C:\\Users\\Thierry\\anaconda3\\lib\\site-packages\\tqdm\\std.py:668: FutureWarning: The Panel class is removed from pandas. Accessing it from the top-level namespace will also be removed in the next version\n",
      "  from pandas import Panel\n"
     ]
    }
   ],
   "source": [
    "import pandas as pd\n",
    "import numpy as np\n",
    "import matplotlib.pyplot as plt\n",
    "\n",
    "from tqdm.notebook import tqdm\n",
    "tqdm.pandas()"
   ]
  },
  {
   "cell_type": "code",
   "execution_count": 3,
   "metadata": {},
   "outputs": [],
   "source": [
    "df = pd.read_csv('C:/Users/Thierry/Desktop/ProjetInterPromo/ProjectInterPromo/dev/modelisation/code/lou-ann/df_small_features_vf.csv')\n"
   ]
  },
  {
   "cell_type": "code",
   "execution_count": 4,
   "metadata": {},
   "outputs": [],
   "source": [
    "columns_useless = ['NB_DCD_CLI_CIAL',\n",
    "'TOP_NON_RESDT',\n",
    "'TOP_TEL_PRTBL_VALIDE',\n",
    "'TOP_MLS_VALIDE',\n",
    "'TOP_REL_ASSOCIE',\n",
    "'TOP_REFRCT_MAILING',\n",
    "'TOP_REFRCT_TEL_DOMCL',\n",
    "'TOP_REFRCT_TEL_TRAV',\n",
    "'TOP_INC_BLOCG_CART',\n",
    "'TOP_INC_BDF',\n",
    "'TOP_INC_CTX',\n",
    "'TOP_INC_DTL',\n",
    "'TOP_INC_ITB',\n",
    "'TOP_INC_INTRDT_CHQR',\n",
    "'TOP_INC_ITJU',\n",
    "'TOP_INC_RISQ',\n",
    "'TOP_INC_SAISIE_ARRET',\n",
    "'MOIS_EER',\n",
    "'Flag_bq_principale',\n",
    "'contrat_travail_1',\n",
    "'EMPRUNTS',\n",
    "'EMPRUNTS_M6',\n",
    "'ENCOURS_REVOLVING',\n",
    "'mt_cheque_impaye',\n",
    "'mt_factu_ttc_M',\n",
    "'mt_irregularite_particuliere',\n",
    "'mt_oblig',\n",
    "'mt_oblig_cnca',\n",
    "'mt_oblig_tiers',\n",
    "'mt_op_debit_ep_a_terme_M',\n",
    "'mt_reduc_ttc_M',\n",
    "'mt_reduc_ttc_M6',\n",
    "'mt_remise_chq_M',\n",
    "'mt_ret_carte_etr_M',\n",
    "'mt_ret_carte_etr_M6',\n",
    "'mt_rist_ttc_M',\n",
    "'mt_rist_ttc_M6',\n",
    "'nb_cheque_impaye',\n",
    "'nb_irregularite_particuliere',\n",
    "'nb_op_debit_ep_a_terme_M',\n",
    "'nb_operation_debit_ep_a_vue_M6',\n",
    "'nb_remise_chq_M',\n",
    "'nb_ret_carte_etr_M',\n",
    "'nb_ret_carte_etr_M6',\n",
    "'qt_oblig',\n",
    "'qt_oblig_cnca',\n",
    "'qt_oblig_tiers',\n",
    "'perte_societaire_M',\n",
    "'top_entretien_12M',\n",
    "'top_REVOLVING',\n",
    "'top_real_pret_3M',\n",
    "'top_DAV',\n",
    "'top_produit_Assurance',\n",
    "'top_produit_collecte',\n",
    "'top_produit_Credit',\n",
    "'top_produit_emprunts',\n",
    "'top_produit_Services',\n",
    "'NB_CONNEX_PMOB',\n",
    "'NB_CONNEX_CAB',\n",
    "'APPEL',\n",
    "'AUTRE',\n",
    "'COURRIER']"
   ]
  },
  {
   "cell_type": "code",
   "execution_count": 5,
   "metadata": {},
   "outputs": [],
   "source": [
    "df = df.drop(columns_useless,axis=1)"
   ]
  },
  {
   "cell_type": "code",
   "execution_count": 6,
   "metadata": {},
   "outputs": [],
   "source": [
    "df = df.drop(['AGP_AGENCE','ID_PART','ID_PART_REFC','ID_CLI_CIAL','ID_PART_x','ID_PART_1'],axis=1)"
   ]
  },
  {
   "cell_type": "code",
   "execution_count": 7,
   "metadata": {},
   "outputs": [],
   "source": [
    "for col in df.select_dtypes(['object', 'category']).columns:\n",
    "    df[col]=df[col].factorize()[0]"
   ]
  },
  {
   "cell_type": "code",
   "execution_count": 8,
   "metadata": {},
   "outputs": [],
   "source": [
    "X = df.drop(['TOP_CONSO'],axis=1)\n",
    "y = df['TOP_CONSO']"
   ]
  },
  {
   "cell_type": "code",
   "execution_count": 9,
   "metadata": {},
   "outputs": [],
   "source": [
    "from sklearn.model_selection import train_test_split \n",
    "X_train, X_test, y_train, y_test = train_test_split(X, y, stratify = y,test_size=0.30, random_state=42)"
   ]
  },
  {
   "cell_type": "code",
   "execution_count": 11,
   "metadata": {},
   "outputs": [
    {
     "name": "stdout",
     "output_type": "stream",
     "text": [
      "Collecting lightgbm\n",
      "  Downloading lightgbm-3.3.2-py3-none-win_amd64.whl (1.0 MB)\n",
      "Requirement already satisfied: scipy in c:\\users\\thierry\\anaconda3\\lib\\site-packages (from lightgbm) (1.5.0)\n",
      "Requirement already satisfied: scikit-learn!=0.22.0 in c:\\users\\thierry\\anaconda3\\lib\\site-packages (from lightgbm) (0.23.1)\n",
      "Requirement already satisfied: wheel in c:\\users\\thierry\\anaconda3\\lib\\site-packages (from lightgbm) (0.34.2)\n",
      "Requirement already satisfied: numpy in c:\\users\\thierry\\anaconda3\\lib\\site-packages (from lightgbm) (1.18.5)\n",
      "Requirement already satisfied: threadpoolctl>=2.0.0 in c:\\users\\thierry\\anaconda3\\lib\\site-packages (from scikit-learn!=0.22.0->lightgbm) (2.1.0)\n",
      "Requirement already satisfied: joblib>=0.11 in c:\\users\\thierry\\anaconda3\\lib\\site-packages (from scikit-learn!=0.22.0->lightgbm) (0.16.0)\n",
      "Installing collected packages: lightgbm\n",
      "Successfully installed lightgbm-3.3.2\n",
      "Note: you may need to restart the kernel to use updated packages.\n"
     ]
    }
   ],
   "source": [
    "pip install lightgbm"
   ]
  },
  {
   "cell_type": "code",
   "execution_count": 12,
   "metadata": {},
   "outputs": [
    {
     "name": "stderr",
     "output_type": "stream",
     "text": [
      "C:\\Users\\Thierry\\anaconda3\\lib\\site-packages\\lightgbm\\engine.py:177: UserWarning: Found `num_iterations` in params. Will use it instead of argument\n",
      "  _log_warning(f\"Found `{alias}` in params. Will use it instead of argument\")\n"
     ]
    },
    {
     "name": "stdout",
     "output_type": "stream",
     "text": [
      "[LightGBM] [Warning] bagging_fraction is set=0.7, subsample=1.0 will be ignored. Current value: bagging_fraction=0.7\n",
      "[LightGBM] [Warning] bagging_freq is set=5, subsample_freq=0 will be ignored. Current value: bagging_freq=5\n"
     ]
    },
    {
     "data": {
      "text/plain": [
       "LGBMClassifier(application='binary', bagging_fraction=0.7, bagging_freq=5,\n",
       "               learning_rate=0.01, max_bin=255, num_iterations=1000,\n",
       "               num_leaves=512)"
      ]
     },
     "execution_count": 12,
     "metadata": {},
     "output_type": "execute_result"
    }
   ],
   "source": [
    "import lightgbm as lgb\n",
    "\n",
    "# build the lightgbm model\n",
    "clf = lgb.LGBMClassifier(application = 'binary', n_jobs= -1 , \n",
    "                        learning_rate= 0.01, num_iterations = 1000, max_bin = 255, \n",
    "                        num_leaves = 2**9, bagging_fraction = 0.7, bagging_freq = 5)\n",
    "clf.fit(X_train, y_train)"
   ]
  },
  {
   "cell_type": "code",
   "execution_count": 13,
   "metadata": {},
   "outputs": [],
   "source": [
    "y_pred = clf.predict(X_test)"
   ]
  },
  {
   "cell_type": "code",
   "execution_count": 14,
   "metadata": {},
   "outputs": [
    {
     "name": "stdout",
     "output_type": "stream",
     "text": [
      "Precision: 0.997\n",
      "Recall: 0.998\n",
      "Accuracy: 0.998\n",
      "F1 Score: 0.998\n"
     ]
    },
    {
     "data": {
      "image/png": "[encoded data removed]",
      "text/plain": [
       "<Figure size 432x288 with 2 Axes>"
      ]
     },
     "metadata": {
      "needs_background": "light"
     },
     "output_type": "display_data"
    }
   ],
   "source": [
    "import seaborn as sn\n",
    "from sklearn.metrics import confusion_matrix\n",
    "from sklearn.metrics import precision_score, recall_score, f1_score, accuracy_score\n",
    "\n",
    "print('Precision: %.3f' % precision_score(y_test, y_pred))\n",
    "print('Recall: %.3f' % recall_score(y_test, y_pred))\n",
    "print('Accuracy: %.3f' % accuracy_score(y_test, y_pred))\n",
    "print('F1 Score: %.3f' % f1_score(y_test, y_pred))\n",
    "\n",
    "conf_matrix = confusion_matrix(y_true=y_test, y_pred=y_pred)\n",
    "sn.heatmap(conf_matrix, annot=True)\n",
    "plt.show()"
   ]
  },
  {
   "cell_type": "code",
   "execution_count": 15,
   "metadata": {},
   "outputs": [
    {
     "data": {
      "text/plain": [
       "<matplotlib.axes._subplots.AxesSubplot at 0x1625a02ce80>"
      ]
     },
     "execution_count": 15,
     "metadata": {},
     "output_type": "execute_result"
    },
    {
     "data": {
      "image/png": "[encoded data removed]",
      "text/plain": [
       "<Figure size 432x288 with 1 Axes>"
      ]
     },
     "metadata": {
      "needs_background": "light"
     },
     "output_type": "display_data"
    }
   ],
   "source": [
    "lgb.plot_importance(clf, max_num_features = 20)"
   ]
  },
  {
   "cell_type": "code",
   "execution_count": 17,
   "metadata": {},
   "outputs": [
    {
     "name": "stdout",
     "output_type": "stream",
     "text": [
      "Collecting shapNote: you may need to restart the kernel to use updated packages.\n",
      "  Downloading shap-0.40.0-cp38-cp38-win_amd64.whl (431 kB)\n",
      "Requirement already satisfied: scipy in c:\\users\\thierry\\anaconda3\\lib\\site-packages (from shap) (1.5.0)\n",
      "Requirement already satisfied: scikit-learn in c:\\users\\thierry\\anaconda3\\lib\\site-packages (from shap) (0.23.1)\n",
      "Requirement already satisfied: numba in c:\\users\\thierry\\anaconda3\\lib\\site-packages (from shap) (0.50.1)\n",
      "Requirement already satisfied: numpy in c:\\users\\thierry\\anaconda3\\lib\\site-packages (from shap) (1.18.5)\n",
      "Requirement already satisfied: cloudpickle in c:\\users\\thierry\\anaconda3\\lib\\site-packages (from shap) (1.5.0)\n",
      "Requirement already satisfied: pandas in c:\\users\\thierry\\anaconda3\\lib\\site-packages (from shap) (1.0.5)\n",
      "Collecting slicer==0.0.7\n",
      "  Downloading slicer-0.0.7-py3-none-any.whl (14 kB)\n",
      "Collecting packaging>20.9\n",
      "  Downloading packaging-21.3-py3-none-any.whl (40 kB)\n",
      "Requirement already satisfied: tqdm>4.25.0 in c:\\users\\thierry\\anaconda3\\lib\\site-packages (from shap) (4.47.0)\n",
      "Requirement already satisfied: joblib>=0.11 in c:\\users\\thierry\\anaconda3\\lib\\site-packages (from scikit-learn->shap) (0.16.0)\n",
      "Requirement already satisfied: threadpoolctl>=2.0.0 in c:\\users\\thierry\\anaconda3\\lib\\site-packages (from scikit-learn->shap) (2.1.0)\n",
      "Requirement already satisfied: llvmlite<0.34,>=0.33.0.dev0 in c:\\users\\thierry\\anaconda3\\lib\\site-packages (from numba->shap) (0.33.0+1.g022ab0f)\n",
      "Requirement already satisfied: setuptools in c:\\users\\thierry\\anaconda3\\lib\\site-packages (from numba->shap) (49.2.0.post20200714)\n",
      "Requirement already satisfied: pytz>=2017.2 in c:\\users\\thierry\\anaconda3\\lib\\site-packages (from pandas->shap) (2020.1)\n",
      "Requirement already satisfied: python-dateutil>=2.6.1 in c:\\users\\thierry\\anaconda3\\lib\\site-packages (from pandas->shap) (2.8.1)\n",
      "Requirement already satisfied: pyparsing!=3.0.5,>=2.0.2 in c:\\users\\thierry\\anaconda3\\lib\\site-packages (from packaging>20.9->shap) (2.4.7)\n",
      "Requirement already satisfied: six>=1.5 in c:\\users\\thierry\\anaconda3\\lib\\site-packages (from python-dateutil>=2.6.1->pandas->shap) (1.15.0)\n",
      "Installing collected packages: slicer, packaging, shap\n",
      "  Attempting uninstall: packaging\n",
      "    Found existing installation: packaging 20.4\n",
      "    Uninstalling packaging-20.4:\n",
      "      Successfully uninstalled packaging-20.4\n",
      "Successfully installed packaging-21.3 shap-0.40.0 slicer-0.0.7\n",
      "\n"
     ]
    }
   ],
   "source": [
    "pip install shap"
   ]
  },
  {
   "cell_type": "code",
   "execution_count": 20,
   "metadata": {},
   "outputs": [],
   "source": [
    "import shap\n",
    "import sklearn"
   ]
  },
  {
   "cell_type": "code",
   "execution_count": 37,
   "metadata": {},
   "outputs": [
    {
     "name": "stderr",
     "output_type": "stream",
     "text": [
      "100%|===================| 17169/17175 [40:37<00:00]        "
     ]
    },
    {
     "ename": "SyntaxError",
     "evalue": "'return' outside function (<ipython-input-37-947ede1c5366>, line 3)",
     "output_type": "error",
     "traceback": [
      "\u001b[1;36m  File \u001b[1;32m\"<ipython-input-37-947ede1c5366>\"\u001b[1;36m, line \u001b[1;32m3\u001b[0m\n\u001b[1;33m    return shap_values, df, explainer.expected_value\u001b[0m\n\u001b[1;37m    ^\u001b[0m\n\u001b[1;31mSyntaxError\u001b[0m\u001b[1;31m:\u001b[0m 'return' outside function\n"
     ]
    }
   ],
   "source": [
    "explainer = shap.TreeExplainer(clf, shap.sample(df, 100))\n",
    "shap_values = explainer.shap_values(df)"
   ]
  },
  {
   "cell_type": "code",
   "execution_count": 39,
   "metadata": {},
   "outputs": [
    {
     "data": {
      "text/plain": [
       "(17175, 226)"
      ]
     },
     "execution_count": 39,
     "metadata": {},
     "output_type": "execute_result"
    }
   ],
   "source": [
    "shap_values.shape"
   ]
  },
  {
   "cell_type": "code",
   "execution_count": 42,
   "metadata": {},
   "outputs": [
    {
     "data": {
      "text/plain": [
       "((12022, 225), (5153, 225))"
      ]
     },
     "execution_count": 42,
     "metadata": {},
     "output_type": "execute_result"
    }
   ],
   "source": [
    "X_train.shape, X_test.shape"
   ]
  },
  {
   "cell_type": "code",
   "execution_count": 44,
   "metadata": {},
   "outputs": [
    {
     "data": {
      "text/plain": [
       "array([[ 5.54015242e-03,  3.61835784e-05,  1.15687726e-11, ...,\n",
       "        -2.62743404e-03,  0.00000000e+00,  0.00000000e+00],\n",
       "       [ 5.54083714e-03, -5.45602498e-06,  1.08411768e-11, ...,\n",
       "        -2.62743404e-03,  0.00000000e+00,  0.00000000e+00],\n",
       "       [ 5.54043737e-03,  3.61070922e-05,  1.08411768e-11, ...,\n",
       "        -2.62743404e-03,  0.00000000e+00,  0.00000000e+00],\n",
       "       ...,\n",
       "       [ 1.48710830e-02,  1.27450919e-04,  2.61934474e-12, ...,\n",
       "        -1.64984538e-03,  0.00000000e+00,  0.00000000e+00],\n",
       "       [ 5.28438913e-03,  2.85133823e-05,  5.38420863e-12, ...,\n",
       "        -1.55672441e-03,  0.00000000e+00,  0.00000000e+00],\n",
       "       [ 5.28438913e-03,  2.85133823e-05,  5.38420863e-12, ...,\n",
       "        -1.55672441e-03,  0.00000000e+00,  0.00000000e+00]])"
      ]
     },
     "execution_count": 44,
     "metadata": {},
     "output_type": "execute_result"
    }
   ],
   "source": [
    "shap_values"
   ]
  },
  {
   "cell_type": "code",
   "execution_count": 51,
   "metadata": {},
   "outputs": [
    {
     "ename": "TypeError",
     "evalue": "group_difference() missing 1 required positional argument: 'group_mask'",
     "output_type": "error",
     "traceback": [
      "\u001b[1;31m---------------------------------------------------------------------------\u001b[0m",
      "\u001b[1;31mTypeError\u001b[0m                                 Traceback (most recent call last)",
      "\u001b[1;32m<ipython-input-51-07a1a89b2a32>\u001b[0m in \u001b[0;36m<module>\u001b[1;34m\u001b[0m\n\u001b[1;32m----> 1\u001b[1;33m \u001b[0mshap\u001b[0m\u001b[1;33m.\u001b[0m\u001b[0mgroup_difference_plot\u001b[0m\u001b[1;33m(\u001b[0m\u001b[0mshap_values\u001b[0m\u001b[1;33m.\u001b[0m\u001b[0msum\u001b[0m\u001b[1;33m(\u001b[0m\u001b[1;36m1\u001b[0m\u001b[1;33m)\u001b[0m\u001b[1;33m)\u001b[0m\u001b[1;33m\u001b[0m\u001b[1;33m\u001b[0m\u001b[0m\n\u001b[0m",
      "\u001b[1;31mTypeError\u001b[0m: group_difference() missing 1 required positional argument: 'group_mask'"
     ]
    }
   ],
   "source": [
    "shap.group_difference_plot(shap_values.sum(1))"
   ]
  }
 ],
 "metadata": {
  "kernelspec": {
   "display_name": "Python 3",
   "language": "python",
   "name": "python3"
  },
  "language_info": {
   "codemirror_mode": {
    "name": "ipython",
    "version": 3
   },
   "file_extension": ".py",
   "mimetype": "text/x-python",
   "name": "python",
   "nbconvert_exporter": "python",
   "pygments_lexer": "ipython3",
   "version": "3.8.3"
  }
 },
 "nbformat": 4,
 "nbformat_minor": 5
}

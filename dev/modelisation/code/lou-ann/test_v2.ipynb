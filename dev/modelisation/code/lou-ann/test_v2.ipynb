{
 "cells": [
  {
   "cell_type": "code",
   "execution_count": 1,
   "metadata": {},
   "outputs": [],
   "source": [
    "import pandas as pd\n",
    "import numpy as np"
   ]
  },
  {
   "cell_type": "code",
   "execution_count": 2,
   "metadata": {},
   "outputs": [],
   "source": [
    "PROJECT_PATH = \"C:/Users/Thierry/Desktop/ProjetInterPromo/ProjectInterPromo/\""
   ]
  },
  {
   "cell_type": "code",
   "execution_count": 5,
   "metadata": {},
   "outputs": [],
   "source": [
    "data_v2_train = pd.read_csv(PROJECT_PATH + 'data/CLEAN/donnee_v2_ech_train.csv')\n",
    "data_v2_test = pd.read_csv(PROJECT_PATH + 'data/CLEAN/donnee_v2_ech_test.csv')"
   ]
  },
  {
   "cell_type": "markdown",
   "metadata": {},
   "source": [
    "*troisieme fonction ordre de grandeur log10*"
   ]
  },
  {
   "cell_type": "markdown",
   "metadata": {},
   "source": [
    "--> on applique un log on prend la valeur entière"
   ]
  },
  {
   "cell_type": "markdown",
   "metadata": {},
   "source": [
    "--> on voit combien de valeurs distinctes (si sup 3 on garde le log)"
   ]
  },
  {
   "cell_type": "markdown",
   "metadata": {},
   "source": [
    "        => True : Si plus de 3 valeurs distincts\n",
    "        => False : Si moins de 3 valeurs distincts"
   ]
  },
  {
   "cell_type": "code",
   "execution_count": 6,
   "metadata": {},
   "outputs": [],
   "source": [
    "def puissance_10(X: pd.Series):\n",
    "    return np.unique(np.floor(np.log10(X + 1)), return_counts=True)"
   ]
  },
  {
   "cell_type": "code",
   "execution_count": 7,
   "metadata": {},
   "outputs": [],
   "source": [
    "def var_neg_affichage(colonne):\n",
    "    listePos = []\n",
    "    listeNeg = []\n",
    "    for elem in colonne:\n",
    "        if elem < 0 :\n",
    "            listeNeg.append(elem)\n",
    "            listePos.append(0)\n",
    "        else : \n",
    "            listePos.append(elem)\n",
    "            listeNeg.append(0)\n",
    "    return pd.DataFrame({'Pos' : listePos, 'Neg':listeNeg})"
   ]
  },
  {
   "cell_type": "code",
   "execution_count": 8,
   "metadata": {},
   "outputs": [],
   "source": [
    "def zeros(col):\n",
    "    return(df[col]==0).sum()/df.shape[0] >= 0.9"
   ]
  },
  {
   "cell_type": "code",
   "execution_count": 10,
   "metadata": {},
   "outputs": [],
   "source": [
    "def replaceNonZero(val):\n",
    "    if val != 0:\n",
    "        val = 1\n",
    "    return val\n",
    "\n",
    "#df[col] = df[col].apply(replaceNonZero)"
   ]
  }
 ],
 "metadata": {
  "kernelspec": {
   "display_name": "Python 3",
   "language": "python",
   "name": "python3"
  },
  "language_info": {
   "codemirror_mode": {
    "name": "ipython",
    "version": 3
   },
   "file_extension": ".py",
   "mimetype": "text/x-python",
   "name": "python",
   "nbconvert_exporter": "python",
   "pygments_lexer": "ipython3",
   "version": "3.8.3"
  }
 },
 "nbformat": 4,
 "nbformat_minor": 4
}

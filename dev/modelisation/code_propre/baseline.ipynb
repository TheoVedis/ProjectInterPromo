{
 "cells": [
  {
   "cell_type": "code",
   "execution_count": 2,
   "metadata": {},
   "outputs": [],
   "source": [
    "import pandas as pd\n",
    "import numpy as np\n",
    "from sklearn.metrics import precision_recall_curve, auc\n",
    "import matplotlib.pyplot as plt"
   ]
  },
  {
   "cell_type": "code",
   "execution_count": 3,
   "metadata": {},
   "outputs": [],
   "source": [
    "PROJECT_PATH = \"D:/ProjectInterPromo/\""
   ]
  },
  {
   "cell_type": "code",
   "execution_count": 4,
   "metadata": {},
   "outputs": [],
   "source": [
    "def evaluation(score: np.ndarray, y: np.ndarray, display=False):\n",
    "    precision, recall, thresholds = precision_recall_curve(y, score)\n",
    "    f1_score = 2 * precision * recall / (precision + recall)\n",
    "    \n",
    "    value = auc(recall, precision)\n",
    "    \n",
    "    if display:\n",
    "        plt.plot(recall, precision)\n",
    "        plt.show()\n",
    "    \n",
    "    return value, f1_score, precision, recall"
   ]
  },
  {
   "cell_type": "code",
   "execution_count": 5,
   "metadata": {},
   "outputs": [
    {
     "name": "stdout",
     "output_type": "stream",
     "text": [
      "Nombre de fraude : 1479\n",
      "Nombre de données :  644348\n",
      "Ratio :  0.22953435100287423\n",
      "------------ Sur un echantillion ------------\n",
      "Nombre de fraude : 208\n",
      "Nombre de données :  100000\n",
      "Ratio :  0.208\n"
     ]
    }
   ],
   "source": [
    "# Lecture du fichier de donnée\n",
    "data_v0 = pd.read_csv(PROJECT_PATH + \"data\\sortie\\Données_v0\\Donnees_V0_NAN_supprimes.csv\")\n",
    "\n",
    "print(\"Nombre de fraude :\", sum(data_v0[\"TOP_FRAUDE\"]))\n",
    "print(\"Nombre de données : \", len(data_v0))\n",
    "print(\"Ratio : \", sum(data_v0[\"TOP_FRAUDE\"]) / len(data_v0) * 100)\n",
    "\n",
    "# Suppression des variables qualitative\n",
    "quali_col = []\n",
    "count = 0\n",
    "for i, name in zip(data_v0.dtypes, data_v0.columns):\n",
    "    if i == \"object\":\n",
    "        quali_col.append(name)\n",
    "\n",
    "data_quanti = data_v0.drop(columns=quali_col + [\"Unnamed: 0\"])\n",
    "\n",
    "# \n",
    "data_quanti = data_quanti.sample(100000)\n",
    "\n",
    "print(\"------------ Sur un echantillion ------------\")\n",
    "print(\"Nombre de fraude :\", sum(data_quanti[\"TOP_FRAUDE\"]))\n",
    "print(\"Nombre de données : \", len(data_quanti))\n",
    "print(\"Ratio : \", sum(data_quanti[\"TOP_FRAUDE\"]) / len(data_quanti) * 100)"
   ]
  },
  {
   "cell_type": "code",
   "execution_count": 6,
   "metadata": {},
   "outputs": [],
   "source": [
    "# Modele de prediction qui retourne un score\n",
    "score = np.random.rand(len(data_quanti))"
   ]
  },
  {
   "cell_type": "code",
   "execution_count": 7,
   "metadata": {},
   "outputs": [
    {
     "data": {
      "text/plain": [
       "array([0.20132886, 0.61241322, 0.73086362, ..., 0.68751569, 0.05321061,\n",
       "       0.86212766])"
      ]
     },
     "execution_count": 7,
     "metadata": {},
     "output_type": "execute_result"
    }
   ],
   "source": [
    "score"
   ]
  },
  {
   "cell_type": "code",
   "execution_count": 8,
   "metadata": {},
   "outputs": [
    {
     "name": "stderr",
     "output_type": "stream",
     "text": [
      "C:\\Users\\Stior\\AppData\\Local\\Temp/ipykernel_16848/147864584.py:3: RuntimeWarning: invalid value encountered in true_divide\n",
      "  f1_score = 2 * precision * recall / (precision + recall)\n"
     ]
    },
    {
     "data": {
      "image/png": "[encoded data removed]",
      "text/plain": [
       "<Figure size 432x288 with 1 Axes>"
      ]
     },
     "metadata": {
      "needs_background": "light"
     },
     "output_type": "display_data"
    },
    {
     "name": "stdout",
     "output_type": "stream",
     "text": [
      "Air sous la courbe :  0.0026213665510560506\n"
     ]
    }
   ],
   "source": [
    "value, f1_score, precision, recall = evaluation(score, data_quanti[\"TOP_FRAUDE\"], display=True)\n",
    "\n",
    "# L'air sous la courbe\n",
    "print(\"Air sous la courbe : \", value)"
   ]
  },
  {
   "cell_type": "code",
   "execution_count": 22,
   "metadata": {},
   "outputs": [
    {
     "name": "stdout",
     "output_type": "stream",
     "text": [
      "3\n"
     ]
    }
   ],
   "source": [
    "count = 0\n",
    "for i, j in zip(list(score > 1 - (0.2 / 100)), data_quanti[\"TOP_FRAUDE\"]):\n",
    "    if i == j and i == 1:\n",
    "        count += 1\n",
    "print(count)"
   ]
  },
  {
   "cell_type": "code",
   "execution_count": 29,
   "metadata": {},
   "outputs": [
    {
     "data": {
      "image/png": "[encoded data removed]",
      "text/plain": [
       "<Figure size 432x288 with 1 Axes>"
      ]
     },
     "metadata": {
      "needs_background": "light"
     },
     "output_type": "display_data"
    },
    {
     "data": {
      "text/plain": [
       "0.50104"
      ]
     },
     "execution_count": 29,
     "metadata": {},
     "output_type": "execute_result"
    }
   ],
   "source": [
    "value, f1_score, precision, recall = evaluation(np.ones(len(data_quanti)), data_quanti[\"TOP_FRAUDE\"], display=True)\n",
    "value"
   ]
  },
  {
   "cell_type": "code",
   "execution_count": 40,
   "metadata": {},
   "outputs": [
    {
     "data": {
      "text/plain": [
       "array([1., 0.])"
      ]
     },
     "execution_count": 40,
     "metadata": {},
     "output_type": "execute_result"
    }
   ],
   "source": []
  },
  {
   "cell_type": "code",
   "execution_count": null,
   "metadata": {},
   "outputs": [],
   "source": []
  }
 ],
 "metadata": {
  "interpreter": {
   "hash": "27d96bb1e0b93ca21c1ea578b97b188c3d970d37e870548d5c47751314357b7e"
  },
  "kernelspec": {
   "display_name": "Python 3.9.7 64-bit",
   "language": "python",
   "name": "python3"
  },
  "language_info": {
   "codemirror_mode": {
    "name": "ipython",
    "version": 3
   },
   "file_extension": ".py",
   "mimetype": "text/x-python",
   "name": "python",
   "nbconvert_exporter": "python",
   "pygments_lexer": "ipython3",
   "version": "3.9.7"
  },
  "orig_nbformat": 4
 },
 "nbformat": 4,
 "nbformat_minor": 2
}

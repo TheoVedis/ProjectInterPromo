{
 "cells": [
  {
   "cell_type": "markdown",
   "id": "c24413b8",
   "metadata": {},
   "source": [
    "# CHARGEMENT DU JEU DE DONNEES 2"
   ]
  },
  {
   "cell_type": "markdown",
   "id": "a443b0a2",
   "metadata": {},
   "source": [
    "# Import"
   ]
  },
  {
   "cell_type": "code",
   "execution_count": 1,
   "id": "825fab63",
   "metadata": {},
   "outputs": [],
   "source": [
    "import pandas as pd\n",
    "import numpy as np\n",
    "import zipfile\n",
    "\n",
    "from fonction_import_data import afficher_fichier_zip, import_data, readme"
   ]
  },
  {
   "cell_type": "markdown",
   "id": "1e3e85a6",
   "metadata": {},
   "source": [
    "# Lecture des données"
   ]
  },
  {
   "cell_type": "markdown",
   "id": "332835e1",
   "metadata": {},
   "source": [
    "## Chemin où est stocké le dossier DATA2.zip"
   ]
  },
  {
   "cell_type": "code",
   "execution_count": null,
   "id": "03281fe6",
   "metadata": {},
   "outputs": [],
   "source": [
    "path = 'C:/Users/33695/Documents/00_SID/M2/S2/PIP/DATA/'"
   ]
  },
  {
   "cell_type": "markdown",
   "id": "768990c1",
   "metadata": {},
   "source": [
    "## Import des données"
   ]
  },
  {
   "cell_type": "code",
   "execution_count": null,
   "id": "824b54b3",
   "metadata": {},
   "outputs": [],
   "source": [
    "#Arborescence des fichiers \n",
    "afficher_fichier_zip(path, 'DATA2.zip')"
   ]
  },
  {
   "cell_type": "markdown",
   "id": "dca01086",
   "metadata": {},
   "source": [
    "## Lecture du READ ME"
   ]
  },
  {
   "cell_type": "code",
   "execution_count": null,
   "id": "54ebf4a7",
   "metadata": {},
   "outputs": [],
   "source": [
    "readme(path, 'DATA2.zip', 'DATA2/README.txt')"
   ]
  },
  {
   "cell_type": "markdown",
   "id": "796b62c6",
   "metadata": {},
   "source": [
    "## Comment lire un fichier CSV ?"
   ]
  },
  {
   "cell_type": "code",
   "execution_count": null,
   "id": "6e66bfd1",
   "metadata": {},
   "outputs": [],
   "source": [
    "nom_fichier = import_data(path, 'DATA2/ECHANTILLON10/echantillon_info5.csv', 'DATA2.zip')\n",
    "nom_fichier"
   ]
  }
 ],
 "metadata": {
  "kernelspec": {
   "display_name": "Python 3",
   "language": "python",
   "name": "python3"
  },
  "language_info": {
   "codemirror_mode": {
    "name": "ipython",
    "version": 3
   },
   "file_extension": ".py",
   "mimetype": "text/x-python",
   "name": "python",
   "nbconvert_exporter": "python",
   "pygments_lexer": "ipython3",
   "version": "3.8.8"
  },
  "toc": {
   "base_numbering": 1,
   "nav_menu": {},
   "number_sections": true,
   "sideBar": true,
   "skip_h1_title": false,
   "title_cell": "Table of Contents",
   "title_sidebar": "Contents",
   "toc_cell": false,
   "toc_position": {},
   "toc_section_display": true,
   "toc_window_display": false
  },
  "varInspector": {
   "cols": {
    "lenName": 16,
    "lenType": 16,
    "lenVar": 40
   },
   "kernels_config": {
    "python": {
     "delete_cmd_postfix": "",
     "delete_cmd_prefix": "del ",
     "library": "var_list.py",
     "varRefreshCmd": "print(var_dic_list())"
    },
    "r": {
     "delete_cmd_postfix": ") ",
     "delete_cmd_prefix": "rm(",
     "library": "var_list.r",
     "varRefreshCmd": "cat(var_dic_list()) "
    }
   },
   "types_to_exclude": [
    "module",
    "function",
    "builtin_function_or_method",
    "instance",
    "_Feature"
   ],
   "window_display": false
  }
 },
 "nbformat": 4,
 "nbformat_minor": 5
}

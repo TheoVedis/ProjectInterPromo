{
 "cells": [
  {
   "cell_type": "code",
   "execution_count": 1,
   "id": "42798605",
   "metadata": {},
   "outputs": [],
   "source": [
    "import pandas as pd\n",
    "import numpy as np\n",
    "import operator\n",
    "from fonction import info_df, load_data , echantillon, train_split_ech , drop_duplicates"
   ]
  },
  {
   "cell_type": "markdown",
   "id": "f4ce0f3c",
   "metadata": {},
   "source": [
    "### 1. Import des données Toulouse + Languedoc"
   ]
  },
  {
   "cell_type": "code",
   "execution_count": 3,
   "id": "77331da3",
   "metadata": {},
   "outputs": [],
   "source": [
    "path_languedoc= '/home/sid2020-12/Bureau/projet-interpromo-2022/DATA-projetNA/Languedoc/DATA jeu 2/'\n",
    "path_toulouse= '/home/sid2020-12/Bureau/projet-interpromo-2022/DATA-projetNA/Toulouse/DATA jeu 2/'\n",
    "\n",
    "#path_languedoc = 'C:/Users/33695/Documents/00_SID/M2/S2/PIP/DATA/Languedoc/DATA jeu 2/'\n",
    "#path_toulouse = 'C:/Users/33695/Documents/00_SID/M2/S2/PIP/DATA/Toulouse/DATA jeu 2/'"
   ]
  },
  {
   "cell_type": "code",
   "execution_count": 4,
   "id": "d47a56c6",
   "metadata": {},
   "outputs": [],
   "source": [
    "conso_sousc_L = load_data(path_languedoc,'CONSO_SOUSC.csv')\n",
    "mtf_cntct_L =load_data(path_languedoc,'MTF_CNTCT.csv')\n",
    "synth_cc_L=load_data(path_languedoc,'SYNTH_CC.csv')\n",
    "id_L=load_data(path_languedoc,'ID.csv')\n",
    "lead_conso_L=load_data(path_languedoc,'LEAD_CONSO.csv')\n",
    "conso_sousc_T = load_data(path_toulouse,'CONSO_SOUSC.csv')\n",
    "mtf_cntct_T = load_data(path_toulouse,'MTF_CNTCT.csv')\n",
    "synth_cc_T = load_data(path_toulouse,'SYNTH_CC.csv')\n",
    "id_T = load_data(path_toulouse,'ID.csv')\n",
    "lead_conso_T = load_data(path_toulouse,'LEAD_CONSO.csv')"
   ]
  },
  {
   "cell_type": "code",
   "execution_count": 1,
   "id": "5a7d95e9",
   "metadata": {},
   "outputs": [],
   "source": [
    "web_pages_L = load_data(path_languedoc,'ano_web_pages.csv')\n",
    "web_visites_L = load_data(path_languedoc, 'ano_web_visites.csv')"
   ]
  },
  {
   "cell_type": "markdown",
   "id": "6c1d1610",
   "metadata": {},
   "source": [
    "### 2. Informations sur les les dataFrames WEB_PAGES et WEB_VISITES de LangueDoc (très volumineux)"
   ]
  },
  {
   "cell_type": "code",
   "execution_count": null,
   "id": "2efea81e",
   "metadata": {},
   "outputs": [],
   "source": [
    "info_df(web_pages_L)"
   ]
  },
  {
   "cell_type": "code",
   "execution_count": null,
   "id": "f30c9aca",
   "metadata": {},
   "outputs": [],
   "source": [
    "info_df(web_visites_L)"
   ]
  },
  {
   "cell_type": "markdown",
   "id": "f477a4bf",
   "metadata": {},
   "source": [
    "### 3. LANGUEDOC - Extraction de la variable à expliquer TOP_CONSO"
   ]
  },
  {
   "cell_type": "code",
   "execution_count": 5,
   "id": "63027f5e",
   "metadata": {},
   "outputs": [],
   "source": [
    "synth_cc_L_0 = synth_cc_L.loc[(synth_cc_L['TOP_CONSO']==0)]\n",
    "synth_cc_L_1 = synth_cc_L.loc[(synth_cc_L['TOP_CONSO']==1)]"
   ]
  },
  {
   "cell_type": "markdown",
   "id": "85f32c8a",
   "metadata": {},
   "source": [
    "### 4. TOULOUSE - Extraction de la variable à expliquer TOP_CONSO"
   ]
  },
  {
   "cell_type": "code",
   "execution_count": 6,
   "id": "537f5ac4",
   "metadata": {},
   "outputs": [],
   "source": [
    "synth_cc_T_0 = synth_cc_T.loc[(synth_cc_T['TOP_CONSO']==0)]\n",
    "synth_cc_T_1 = synth_cc_T.loc[(synth_cc_T['TOP_CONSO']==1)]"
   ]
  },
  {
   "cell_type": "markdown",
   "id": "a4405df2",
   "metadata": {},
   "source": [
    "### 5.Concaténation LANGUEDOC+TOULOUSE "
   ]
  },
  {
   "cell_type": "code",
   "execution_count": 7,
   "id": "f6419e14",
   "metadata": {},
   "outputs": [],
   "source": [
    "synth_cc_TL_0 = synth_cc_T_0.append(synth_cc_L_0)\n",
    "synth_cc_TL_1 = synth_cc_T_1.append(synth_cc_L_1)"
   ]
  },
  {
   "cell_type": "code",
   "execution_count": 8,
   "id": "9a62bb0b",
   "metadata": {},
   "outputs": [],
   "source": [
    "mtf_cntct_TL = mtf_cntct_T.append(mtf_cntct_L)\n",
    "conso_sousc_TL = conso_sousc_T.append(conso_sousc_L)\n",
    "id_TL = id_T.append(id_L)\n",
    "lead_conso_TL = lead_conso_T.append(lead_conso_L)"
   ]
  },
  {
   "cell_type": "code",
   "execution_count": 9,
   "id": "1aad272d",
   "metadata": {},
   "outputs": [],
   "source": [
    "synth_cc_TL = synth_cc_T.append(synth_cc_L)"
   ]
  },
  {
   "cell_type": "markdown",
   "id": "3645a504",
   "metadata": {},
   "source": [
    "### 6. Exportation des tables concaténées en fichier csv"
   ]
  },
  {
   "cell_type": "code",
   "execution_count": 10,
   "id": "85b0ef99",
   "metadata": {},
   "outputs": [],
   "source": [
    "mtf_cntct_TL.to_csv('DATA2_COMPLET_MTF_CNTCT.csv',index=False)\n",
    "conso_sousc_TL.to_csv('DATA2_COMPLET_CONSO_SOUSC.csv',index=False)\n",
    "id_TL.to_csv('DATA2_COMPLET_ID.csv',index=False)\n",
    "lead_conso_TL.to_csv('DATA2_COMPLET_LEAD_CONSO.csv',index=False)\n",
    "synth_cc_TL.to_csv('DATA2_COMPLET_SYNTH_CC.csv',index=False)"
   ]
  },
  {
   "cell_type": "markdown",
   "id": "f9f7d867",
   "metadata": {},
   "source": [
    "### 7. Echantillonnage de 5%"
   ]
  },
  {
   "cell_type": "code",
   "execution_count": null,
   "id": "4da36524",
   "metadata": {},
   "outputs": [],
   "source": [
    "ech05 = echantillon(synth_cc_TL_0,synth_cc_TL_1,0.05)"
   ]
  },
  {
   "cell_type": "code",
   "execution_count": null,
   "id": "e2e9004b",
   "metadata": {},
   "outputs": [],
   "source": [
    "ech05.to_csv('/home/sid2020-12/Bureau/projet-interpromo-2022/RENDU/ECHANTILLON5/echantillon_clients_topConso.csv', index = False)"
   ]
  },
  {
   "cell_type": "code",
   "execution_count": null,
   "id": "18a7a718",
   "metadata": {},
   "outputs": [],
   "source": [
    "ech05['TOP_CONSO'].value_counts()"
   ]
  },
  {
   "cell_type": "markdown",
   "id": "a7d496ee",
   "metadata": {},
   "source": [
    "### 8. Jointures les tables lead_conso, conso_sousc, synth_cc, mtf_cntct avec l'echantillon de 5%\n"
   ]
  },
  {
   "cell_type": "markdown",
   "id": "4b273cad",
   "metadata": {},
   "source": [
    "* Le but est de faire apparaitre la variable à expliquer \"TOP_CONSO\" dans toutes ces tables"
   ]
  },
  {
   "cell_type": "code",
   "execution_count": null,
   "id": "45db8eea",
   "metadata": {},
   "outputs": [],
   "source": [
    "ech05_merge1 = pd.merge(ech05, mtf_cntct_TL, how='left' , on=['ID_CLI_CIAL'])"
   ]
  },
  {
   "cell_type": "code",
   "execution_count": null,
   "id": "9403abae",
   "metadata": {},
   "outputs": [],
   "source": [
    "ech05_merge2 = pd.merge(ech05_merge1, conso_sousc_TL, how='left' , on=['ID_CLI_CIAL'])"
   ]
  },
  {
   "cell_type": "code",
   "execution_count": null,
   "id": "d00ba194",
   "metadata": {},
   "outputs": [],
   "source": [
    "ech05_merge3 = pd.merge(ech05_merge2, lead_conso_TL, how='left' , on=['ID_CLI_CIAL'])"
   ]
  },
  {
   "cell_type": "code",
   "execution_count": null,
   "id": "f2912d28",
   "metadata": {
    "scrolled": true
   },
   "outputs": [],
   "source": [
    "ech05_merge3['TOP_CONSO'].value_counts()"
   ]
  },
  {
   "cell_type": "code",
   "execution_count": null,
   "id": "0924d6e9",
   "metadata": {},
   "outputs": [],
   "source": [
    "ech05_merge3.to_csv('/home/sid2020-12/Bureau/projet-interpromo-2022/RENDU/ECHANTILLON5/ech05_ech05_merge3.csv',index=False)"
   ]
  },
  {
   "cell_type": "markdown",
   "id": "38bc5aea",
   "metadata": {},
   "source": [
    "### 9. Echantillonage de 20%"
   ]
  },
  {
   "cell_type": "code",
   "execution_count": null,
   "id": "2f5c0bed",
   "metadata": {},
   "outputs": [],
   "source": [
    "ech20 = echantillon(synth_cc_TL_0,synth_cc_TL_1,0.2)"
   ]
  },
  {
   "cell_type": "code",
   "execution_count": null,
   "id": "636cca82",
   "metadata": {},
   "outputs": [],
   "source": [
    "ech20.to_csv('synth_ccECH20.csv', index = False)"
   ]
  },
  {
   "cell_type": "markdown",
   "id": "e2459851",
   "metadata": {},
   "source": [
    "### 10. Jointures les tables lead_conso, conso_sousc, synth_cc, mtf_cntct avec l'echantillon de 20%\n"
   ]
  },
  {
   "cell_type": "code",
   "execution_count": null,
   "id": "f47395c5",
   "metadata": {},
   "outputs": [],
   "source": [
    "ech20_merge1 = pd.merge(ech20, mtf_cntct_TL, how='left' , on=['ID_CLI_CIAL'])"
   ]
  },
  {
   "cell_type": "code",
   "execution_count": null,
   "id": "be0ed47e",
   "metadata": {},
   "outputs": [],
   "source": [
    "ech20_merge2 = pd.merge(ech20_merge1, conso_sousc_TL, how='left' , on=['ID_CLI_CIAL'])"
   ]
  },
  {
   "cell_type": "code",
   "execution_count": null,
   "id": "e1ce8a60",
   "metadata": {},
   "outputs": [],
   "source": [
    "ech20_merge3 = pd.merge(ech20_merge2, lead_conso_TL, how='left' , on=['ID_CLI_CIAL'])"
   ]
  },
  {
   "cell_type": "code",
   "execution_count": null,
   "id": "0fde5053",
   "metadata": {},
   "outputs": [],
   "source": [
    "duplicate = ech20_merge3[ech20_merge3.duplicated()]\n",
    "duplicate"
   ]
  },
  {
   "cell_type": "code",
   "execution_count": null,
   "id": "bcc47db3",
   "metadata": {},
   "outputs": [],
   "source": [
    "ech20_merge3 = ech20_merge3.drop_duplicates()\n",
    "ech20_merge3.shape"
   ]
  },
  {
   "cell_type": "code",
   "execution_count": null,
   "id": "66c07716",
   "metadata": {},
   "outputs": [],
   "source": [
    "ech20_merge3.to_csv('echantillon_info20.csv', index = False)"
   ]
  },
  {
   "cell_type": "markdown",
   "id": "26c2c7ee",
   "metadata": {},
   "source": [
    "### 11. Jeu d'entrainement et Jeu de Test"
   ]
  },
  {
   "cell_type": "markdown",
   "id": "ddf6f222",
   "metadata": {},
   "source": [
    "#### pour l'echantillon de 5%"
   ]
  },
  {
   "cell_type": "code",
   "execution_count": null,
   "id": "963a5ec1",
   "metadata": {},
   "outputs": [],
   "source": [
    "ech05 = pd.read_csv('C:/Users/33695/Documents/00_SID/M2/S2/PIP/DATA/Conserver/RENDU/ECHANTILLON5/echantillon_info5.csv')\n",
    "ech05"
   ]
  },
  {
   "cell_type": "code",
   "execution_count": null,
   "id": "cd4b57fa",
   "metadata": {},
   "outputs": [],
   "source": [
    "X = ech05.drop('TOP_CONSO', axis=1)\n",
    "y = ech05['TOP_CONSO']"
   ]
  },
  {
   "cell_type": "code",
   "execution_count": null,
   "id": "c3ab6801",
   "metadata": {},
   "outputs": [],
   "source": [
    "#On choisit 112953 pour pas casser la chaine des clients (environ 50/50)\n",
    "x_train_05 = X.iloc[0:112953,:]\n",
    "x_test_05 = X.iloc[112953:ech05.shape[0],:]\n",
    "y_train_05 = y.iloc[0:112953]\n",
    "y_test_05 = y.iloc[112953:ech05.shape[0]]"
   ]
  },
  {
   "cell_type": "code",
   "execution_count": null,
   "id": "546ddce5",
   "metadata": {},
   "outputs": [],
   "source": [
    "x_train_05.to_csv(\"x_train_info_05.csv\", index=False)\n",
    "x_test_05.to_csv(\"x_test_info_05.csv\", index=False)\n",
    "y_train_05.to_csv(\"y_train_info_05.csv\", index=False)\n",
    "y_test_05.to_csv(\"y_test__info_05.csv\", index=False)"
   ]
  },
  {
   "cell_type": "markdown",
   "id": "aa519454",
   "metadata": {},
   "source": [
    "#### pour l'echantillon de 20%"
   ]
  },
  {
   "cell_type": "code",
   "execution_count": null,
   "id": "68038cdc",
   "metadata": {},
   "outputs": [],
   "source": [
    "ech20 = pd.read_csv('C:/Users/33695/Documents/00_SID/M2/S2/PIP/DATA/Conserver/RENDU/ECHANTILLON20/echantillon_info20.csv')\n",
    "ech20"
   ]
  },
  {
   "cell_type": "code",
   "execution_count": null,
   "id": "db208a6b",
   "metadata": {},
   "outputs": [],
   "source": [
    "X = ech20.drop('TOP_CONSO', axis=1)\n",
    "y = ech20['TOP_CONSO']"
   ]
  },
  {
   "cell_type": "code",
   "execution_count": null,
   "id": "87dc25e8",
   "metadata": {},
   "outputs": [],
   "source": [
    "#On choisit 451145 pour pas casser la chaine des clients (environ 50/50)\n",
    "x_train_20 = X.iloc[0:451145,:]\n",
    "x_test_20 = X.iloc[451145:ech20.shape[0],:]\n",
    "y_train_20 = y.iloc[0:451145]\n",
    "y_test_20 = y.iloc[451145:ech20.shape[0]]"
   ]
  },
  {
   "cell_type": "code",
   "execution_count": null,
   "id": "35a665e2",
   "metadata": {},
   "outputs": [],
   "source": [
    "x_train_20.to_csv(\"x_train_info_20.csv\", index=False)\n",
    "x_test_20.to_csv(\"x_test_info_20.csv\", index=False)\n",
    "y_train_20.to_csv(\"y_train_info_20.csv\", index=False)\n",
    "y_test_20.to_csv(\"y_test__info_20.csv\", index=False)"
   ]
  },
  {
   "cell_type": "markdown",
   "id": "3557b014",
   "metadata": {},
   "source": [
    "### 12. Jointures des tables des tables web_pages_L et web_visites_L et synth_cc_L avec l'echantillon de 5%\n"
   ]
  },
  {
   "cell_type": "markdown",
   "id": "85dc6ba3",
   "metadata": {},
   "source": [
    "* Le but est d'obtenir le parcours de navigation d'un client avec la variable à expliquer TOP_CONSO"
   ]
  },
  {
   "cell_type": "code",
   "execution_count": null,
   "id": "dc365f69",
   "metadata": {},
   "outputs": [],
   "source": [
    "join1 = pd.merge(web_pages_L, web_visites_L, how='inner' , on=['UV_ID','CLE_ATI'])"
   ]
  },
  {
   "cell_type": "code",
   "execution_count": null,
   "id": "2230b76b",
   "metadata": {},
   "outputs": [],
   "source": [
    "join2 = pd.merge(join1, id_L, how='inner', on=['ID_PART'])"
   ]
  },
  {
   "cell_type": "code",
   "execution_count": 5,
   "id": "70fe632b",
   "metadata": {},
   "outputs": [
    {
     "name": "stderr",
     "output_type": "stream",
     "text": [
      "/home/sid2020-12/anaconda3/lib/python3.9/site-packages/IPython/core/interactiveshell.py:3444: DtypeWarning: Columns (30) have mixed types.Specify dtype option on import or set low_memory=False.\n",
      "  exec(code_obj, self.user_global_ns, self.user_ns)\n"
     ]
    }
   ],
   "source": [
    "join2 = pd.read_csv('join2.csv')"
   ]
  },
  {
   "cell_type": "code",
   "execution_count": 9,
   "id": "68f930a3",
   "metadata": {},
   "outputs": [],
   "source": [
    "synth_cc_L_red= synth_cc_L[['ID_CLI_CIAL','TOP_CONSO']]"
   ]
  },
  {
   "cell_type": "code",
   "execution_count": null,
   "id": "492d36f3",
   "metadata": {},
   "outputs": [],
   "source": [
    "join3 = pd.merge(join2,synth_cc_L_red, how='inner',on=['ID_CLI_CIAL'])"
   ]
  },
  {
   "cell_type": "markdown",
   "id": "564c15c9",
   "metadata": {},
   "source": [
    "* On obtient le parcours des clients du Languedoc, ensuite on merge ce DF avec celui de Toulouse"
   ]
  },
  {
   "cell_type": "code",
   "execution_count": null,
   "id": "f2f692f4",
   "metadata": {},
   "outputs": [],
   "source": [
    "web_TL = pd.concat([jointure,jointuretlse])"
   ]
  },
  {
   "cell_type": "code",
   "execution_count": null,
   "id": "0f44c444",
   "metadata": {},
   "outputs": [],
   "source": [
    "web_TL.to_csv('DATA2_COMPLET_WEB.csv',index=False)"
   ]
  },
  {
   "cell_type": "code",
   "execution_count": null,
   "id": "a19cda9b",
   "metadata": {},
   "outputs": [
    {
     "name": "stderr",
     "output_type": "stream",
     "text": [
      "/home/sid2020-12/anaconda3/lib/python3.9/site-packages/IPython/core/interactiveshell.py:3444: DtypeWarning: Columns (30) have mixed types.Specify dtype option on import or set low_memory=False.\n",
      "  exec(code_obj, self.user_global_ns, self.user_ns)\n"
     ]
    }
   ],
   "source": [
    "web_TL = pd.read_csv('DATA2_COMPLET_WEB.csv')"
   ]
  },
  {
   "cell_type": "code",
   "execution_count": null,
   "id": "c49f774a",
   "metadata": {},
   "outputs": [],
   "source": [
    "synth_ech05 = synth_ech05[['ID_CLI_CIAL']]"
   ]
  },
  {
   "cell_type": "code",
   "execution_count": null,
   "id": "7aa32807",
   "metadata": {},
   "outputs": [],
   "source": [
    "WEB_ECH05 = pd.merge(synth_ech05, web_TL, how=\"inner\", on ='ID_CLI_CIAL')"
   ]
  },
  {
   "cell_type": "code",
   "execution_count": null,
   "id": "ceb76556",
   "metadata": {},
   "outputs": [],
   "source": [
    "web_ECH05.to_csv('WEB_ECH05.csv')"
   ]
  }
 ],
 "metadata": {
  "kernelspec": {
   "display_name": "Python 3 (ipykernel)",
   "language": "python",
   "name": "python3"
  },
  "language_info": {
   "codemirror_mode": {
    "name": "ipython",
    "version": 3
   },
   "file_extension": ".py",
   "mimetype": "text/x-python",
   "name": "python",
   "nbconvert_exporter": "python",
   "pygments_lexer": "ipython3",
   "version": "3.9.7"
  },
  "toc": {
   "base_numbering": 1,
   "nav_menu": {},
   "number_sections": true,
   "sideBar": true,
   "skip_h1_title": false,
   "title_cell": "Table of Contents",
   "title_sidebar": "Contents",
   "toc_cell": false,
   "toc_position": {},
   "toc_section_display": true,
   "toc_window_display": false
  },
  "varInspector": {
   "cols": {
    "lenName": 16,
    "lenType": 16,
    "lenVar": 40
   },
   "kernels_config": {
    "python": {
     "delete_cmd_postfix": "",
     "delete_cmd_prefix": "del ",
     "library": "var_list.py",
     "varRefreshCmd": "print(var_dic_list())"
    },
    "r": {
     "delete_cmd_postfix": ") ",
     "delete_cmd_prefix": "rm(",
     "library": "var_list.r",
     "varRefreshCmd": "cat(var_dic_list()) "
    }
   },
   "types_to_exclude": [
    "module",
    "function",
    "builtin_function_or_method",
    "instance",
    "_Feature"
   ],
   "window_display": false
  }
 },
 "nbformat": 4,
 "nbformat_minor": 5
}
